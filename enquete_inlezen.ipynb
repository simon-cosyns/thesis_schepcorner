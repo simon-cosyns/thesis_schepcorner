{
 "cells": [
  {
   "cell_type": "code",
   "execution_count": null,
   "metadata": {},
   "outputs": [],
   "source": [
    "import pandas as pd"
   ]
  },
  {
   "cell_type": "code",
   "execution_count": null,
   "metadata": {},
   "outputs": [],
   "source": [
    "wedstrijden_df = pd.read_excel(\"./Data/wedstrijden.xlsx\")\n",
    "cornerballen_df = pd.read_excel(\"./Data/cornerballen.xlsx\")"
   ]
  },
  {
   "cell_type": "code",
   "execution_count": null,
   "metadata": {},
   "outputs": [],
   "source": [
    "wedstrijden_df.head()"
   ]
  },
  {
   "cell_type": "code",
   "execution_count": null,
   "metadata": {},
   "outputs": [],
   "source": [
    "wedstrijden_df.dtypes"
   ]
  },
  {
   "cell_type": "code",
   "execution_count": null,
   "metadata": {},
   "outputs": [],
   "source": [
    "cornerballen_df.dtypes"
   ]
  },
  {
   "cell_type": "code",
   "execution_count": null,
   "metadata": {},
   "outputs": [],
   "source": [
    "full_df = wedstrijden_df.merge(cornerballen_df, \"left\", \"wedstrijd_id\")"
   ]
  },
  {
   "cell_type": "code",
   "execution_count": null,
   "metadata": {},
   "outputs": [],
   "source": [
    "full_df.head()"
   ]
  },
  {
   "cell_type": "code",
   "execution_count": null,
   "metadata": {},
   "outputs": [],
   "source": [
    "test = full_df[[\"uitslag\", \"klassement_uitslag\", \"score_voor\"]]"
   ]
  },
  {
   "cell_type": "code",
   "execution_count": null,
   "metadata": {},
   "outputs": [],
   "source": [
    "### functie voor spanning van match/ positie in het klassement \n",
    "# voorlopig 0/1 goals verschil zeer spannend, 2/3 goals verschil spannend, anders niet spannend\n",
    "\n",
    "def spannendheid_tijdens_match(score_kolom, sprong = 2):\n",
    "    score_1, score_2 = map(int, score_kolom.split(\"v\"))\n",
    "    verschil = abs(score_1 - score_2)\n",
    "\n",
    "    if verschil < sprong:\n",
    "        return \"zeer spannend\"\n",
    "    elif verschil < sprong*2:\n",
    "        return \"spannend\"\n",
    "    else:\n",
    "        return \"niet spannend\""
   ]
  },
  {
   "cell_type": "code",
   "execution_count": null,
   "metadata": {},
   "outputs": [],
   "source": [
    "test[\"spanning_op_schepcorner\"] = test[\"score_voor\"].apply(lambda x: spannendheid_tijdens_match(x, 3))"
   ]
  },
  {
   "cell_type": "code",
   "execution_count": null,
   "metadata": {},
   "outputs": [],
   "source": [
    "# spanning voor de match berekenen\n",
    "def spannendheid_voor_wedstijd(klassement_kolom,thuisploeg_kolom, kern_kolom,  weight_concurrent = 0.8):\n",
    "    positie_thuis, positie_uit = map(int, klassement_kolom.split(\"v\"))\n",
    "    \n",
    "    # stress door rechtstreekse tegenstander\n",
    "    verschil = abs(positie_thuis - positie_uit)\n",
    "    if verschil < 3:\n",
    "        rechtstreekse_tegenstander_score = 1\n",
    "    elif verschil < 5: \n",
    "        rechtstreekse_tegenstander_score = 1/2\n",
    "    else:\n",
    "        rechtstreekse_tegenstander_score = 0\n",
    "    \n",
    "    # stress door positie in het klassement\n",
    "    if thuisploeg_kolom == 1:\n",
    "        positie = int(klassement_kolom.split(\"v\")[0])\n",
    "    else:\n",
    "        positie = int(klassement_kolom.split(\"v\")[1])\n",
    "\n",
    "    klassement_spanning = 0\n",
    "    if kern_kolom != 4:\n",
    "        if positie in [1,2,3,12,13,14,15]:\n",
    "            klassement_spanning = 1\n",
    "    else:\n",
    "        # geen degradatie op laagste niveau\n",
    "        if positie in [1,2,3]:\n",
    "            klassement_spanning = 1\n",
    "    \n",
    "    # bepaling van uiteindelijke score\n",
    "    finale_spannenheid_voor_match_score = weight_concurrent * rechtstreekse_tegenstander_score + (1-weight_concurrent) * klassement_spanning\n",
    "    return finale_spannenheid_voor_match_score\n"
   ]
  },
  {
   "cell_type": "code",
   "execution_count": null,
   "metadata": {},
   "outputs": [],
   "source": [
    "spannendheid_voor_wedstijd(\"1v7\", 1, 3, 0.8)"
   ]
  },
  {
   "cell_type": "code",
   "execution_count": null,
   "metadata": {},
   "outputs": [],
   "source": [
    "test = full_df[[\"uitslag\", \"klassement_uitslag\", \"score_voor\", \"niveau\", \"is_thuisploeg\"]]"
   ]
  },
  {
   "cell_type": "code",
   "execution_count": null,
   "metadata": {},
   "outputs": [],
   "source": [
    "test[\"spannendheid_voor_match\"] = test.apply(lambda x : spannendheid_voor_wedstijd(x[\"klassement_uitslag\"], x[\"is_thuisploeg\"], x[\"niveau\"]), axis=1)"
   ]
  },
  {
   "cell_type": "code",
   "execution_count": null,
   "metadata": {},
   "outputs": [],
   "source": [
    "test"
   ]
  },
  {
   "cell_type": "markdown",
   "metadata": {},
   "source": [
    "### Impact van de schepcorner op matchuitslagen"
   ]
  },
  {
   "cell_type": "code",
   "execution_count": null,
   "metadata": {},
   "outputs": [],
   "source": [
    "test = full_df[[\"wedstrijd_id\", \"uitslag\", \"goal\", \"is_thuisploeg\"]]"
   ]
  },
  {
   "cell_type": "code",
   "execution_count": null,
   "metadata": {},
   "outputs": [],
   "source": [
    "test"
   ]
  },
  {
   "cell_type": "code",
   "execution_count": null,
   "metadata": {},
   "outputs": [],
   "source": [
    "# UItkomst van 1 schepcorner bepaald match\n",
    "\n"
   ]
  },
  {
   "cell_type": "code",
   "execution_count": null,
   "metadata": {},
   "outputs": [],
   "source": [
    "data = {\n",
    "    \"wedstrijd_id\": [1, 1, 1, 2, 2, 2, 3, 3, 3, 3, 4, 4],\n",
    "    \"uitslag\": [\"1v1\", \"1v1\", \"1v1\", \"11v2\", \"11v2\", \"11v2\", \"4v6\", \"4v6\", \"4v6\", \"4v6\", \"2v1\", \"2v1\"],\n",
    "    \"goal\": [1, 0, 0, 0, 0, 0, 0, 1, 1, 1, 0, 1],  \n",
    "    \"is_thuisploeg\": [1, 1, 0, 1, 0, 0, 1, 0, 1, 0, 1, 0]  \n",
    "}\n",
    "df = pd.DataFrame(data)\n"
   ]
  },
  {
   "cell_type": "code",
   "execution_count": null,
   "metadata": {},
   "outputs": [],
   "source": [
    "# strengste impact, uitkomst van 1 schepcorner in de match veranderen, is bepalend\n",
    "def schepcorner_impact(df):\n",
    "    results = []\n",
    "\n",
    "    for match_id, match_data in df.groupby(\"wedstrijd_id\"):\n",
    "        uitslag_str = match_data[\"uitslag\"].iloc[0]  # iloc selecteert eerste rij van match_data\n",
    "        score_thuis, score_uit = map(int, uitslag_str.split(\"v\"))  \n",
    "        score_verschil = abs(score_thuis - score_uit)\n",
    "\n",
    "        # Controleer of er een schepcorner is (indien alle is_thuisploeg en goal NA zijn, dan geen schepcorner)\n",
    "        heeft_schepcorner = match_data[\"goal\"].notna().any()\n",
    "\n",
    "        if not heeft_schepcorner:\n",
    "            results.append((match_id, False))  # Geen schepcorner? Geen impact.\n",
    "            continue  \n",
    "\n",
    "        # Gelijkspel: altijd impact als er een schepcorner was\n",
    "        if score_thuis == score_uit:\n",
    "            results.append((match_id, True))\n",
    "            continue\n",
    "\n",
    "        # Bepaal winnaar en verliezer\n",
    "        if score_thuis > score_uit:\n",
    "            winnaar = 1\n",
    "            verliezer = 0\n",
    "        else:\n",
    "            winnaar = 0\n",
    "            verliezer = 1\n",
    "\n",
    "        # Controleer of winnaar minstens één schepcorner scoorde\n",
    "        winnaar_heeft_gescoord = ((match_data[\"is_thuisploeg\"] == winnaar) & (match_data[\"goal\"] == 1)).any()\n",
    "\n",
    "        # Controleer of verliezer minstens één schepcorner miste\n",
    "        verliezer_heeft_gemist = ((match_data[\"is_thuisploeg\"] == verliezer) & (match_data[\"goal\"] == 0)).any()\n",
    "\n",
    "        # Strikte voorwaarde: maximaal 1 verschil en schepcorner moet impact hebben\n",
    "        if score_verschil == 1 and (winnaar_heeft_gescoord or verliezer_heeft_gemist):\n",
    "            results.append((match_id, True))\n",
    "        else:\n",
    "            results.append((match_id, False))\n",
    "\n",
    "    return pd.DataFrame(results, columns=[\"wedstrijd_id\", \"schepcorner_impact\"])\n"
   ]
  },
  {
   "cell_type": "code",
   "execution_count": null,
   "metadata": {},
   "outputs": [],
   "source": [
    "\n",
    "# test\n",
    "impact_df = schepcorner_impact(df)\n",
    "print(impact_df)"
   ]
  },
  {
   "cell_type": "markdown",
   "metadata": {},
   "source": [
    "Minder strenge impact van de schepcorner. Heeft de wedstrijd nog dezelfde uitslag (zelfde winnaar, verlieze of nog steeds gelijkspel moesten er geen schepcorners zijn) of moesten alle schepcorners gemist worden"
   ]
  },
  {
   "cell_type": "code",
   "execution_count": null,
   "metadata": {},
   "outputs": [],
   "source": [
    "def bepaal_winnaar_verliezer(uitslag_str):\n",
    "    thuis_score, uit_score = map(int, uitslag_str.split('v'))\n",
    "    \n",
    "    if thuis_score > uit_score:\n",
    "        return 1, 0  \n",
    "    elif uit_score > thuis_score:\n",
    "        return 0, 1  \n",
    "    else:\n",
    "        return None, None  "
   ]
  },
  {
   "cell_type": "code",
   "execution_count": null,
   "metadata": {},
   "outputs": [],
   "source": [
    "# Functie om schepcorner-impact te bepalen\n",
    "def impact_alle_schepcorners_gemist(uitslag_str, match_data):\n",
    "    # Bepaal het aantal schepcorner-goals per ploeg\n",
    "    schepcorner_goals_thuis = match_data[match_data[\"is_thuisploeg\"] == 1][\"goal\"].sum()\n",
    "    schepcorner_goals_uit = match_data[match_data[\"is_thuisploeg\"] == 0][\"goal\"].sum()\n",
    "    \n",
    "    # Bereken nieuwe uitslag zonder schepcorners\n",
    "    thuis_score, uit_score = map(int, uitslag_str.split('v'))\n",
    "    thuis_score -= schepcorner_goals_thuis\n",
    "    uit_score -= schepcorner_goals_uit\n",
    "\n",
    "    # Bepaal de oorspronkelijke en nieuwe winnaar\n",
    "    oorspronkelijke_winnaar = bepaal_winnaar_verliezer(uitslag_str)\n",
    "    nieuwe_winnaar = bepaal_winnaar_verliezer(f\"{thuis_score}v{uit_score}\")\n",
    "    \n",
    "    # Schepcorner heeft impact als de winnaar verandert\n",
    "    return oorspronkelijke_winnaar != nieuwe_winnaar\n"
   ]
  },
  {
   "cell_type": "code",
   "execution_count": null,
   "metadata": {},
   "outputs": [],
   "source": [
    "impact_resultaten = df.groupby(\"wedstrijd_id\").apply(\n",
    "    lambda match_data: impact_alle_schepcorners_gemist(match_data[\"uitslag\"].iloc[0], match_data)\n",
    ")\n",
    "\n",
    "# Voeg het resultaat toe aan het dataframe\n",
    "df = df.merge(impact_resultaten.rename(\"schepcorner_impact\"), on=\"wedstrijd_id\")\n",
    "\n",
    "# Print het resultaat\n",
    "print(df[[\"wedstrijd_id\", \"schepcorner_impact\"]].drop_duplicates())"
   ]
  },
  {
   "cell_type": "code",
   "execution_count": null,
   "metadata": {},
   "outputs": [],
   "source": [
    "# impact schepcorner moest elke schepcorner gescoord worden\n",
    "def impact_alle_schepcorners_gescoord(uitslag_str, match_data):\n",
    "    # tel het aantal gemiste corners per team\n",
    "    gemiste_schepcorners_thuis = ((match_data[\"is_thuisploeg\"] == 1) & (match_data[\"goal\"] == 0)).sum()\n",
    "    gemiste_schepcorners_uit = ((match_data[\"is_thuisploeg\"] == 0) & (match_data[\"goal\"] == 0)).sum()\n",
    "\n",
    "    # Bereken nieuwe uitslag als alle schepcorners gescoord waren\n",
    "    thuis_score, uit_score = map(int, uitslag_str.split('v'))\n",
    "    thuis_score += gemiste_schepcorners_thuis  # Voeg alleen gemiste schepcorners toe\n",
    "    uit_score += gemiste_schepcorners_uit\n",
    "\n",
    "    # Bepaal oorspronkelijke en nieuwe winnaar\n",
    "    oorspronkelijke_winnaar = bepaal_winnaar_verliezer(uitslag_str)\n",
    "    nieuwe_winnaar = bepaal_winnaar_verliezer(f\"{thuis_score}v{uit_score}\")\n",
    "\n",
    "    # Schepcorner heeft impact als de winnaar verandert\n",
    "    return oorspronkelijke_winnaar != nieuwe_winnaar\n"
   ]
  },
  {
   "cell_type": "code",
   "execution_count": null,
   "metadata": {},
   "outputs": [],
   "source": [
    "\n",
    "# Pas de functie toe per wedstrijd_id\n",
    "impact_resultaten_max = df.groupby(\"wedstrijd_id\").apply(\n",
    "    lambda match_data: impact_alle_schepcorners_gescoord(match_data[\"uitslag\"].iloc[0], match_data)\n",
    ")\n",
    "\n",
    "# Voeg het resultaat toe aan het dataframe\n",
    "df = df.merge(impact_resultaten_max.rename(\"schepcorner_impact_max\"), on=\"wedstrijd_id\")\n",
    "\n",
    "# Print het resultaat\n",
    "print(df[[\"wedstrijd_id\", \"schepcorner_impact_max\"]].drop_duplicates())"
   ]
  },
  {
   "cell_type": "markdown",
   "metadata": {},
   "source": [
    "# impact van de schepcorner als alle uitkommsten van schepcorners gewisseld kunnen worden, minst streng"
   ]
  },
  {
   "cell_type": "code",
   "execution_count": null,
   "metadata": {},
   "outputs": [],
   "source": [
    "def heeft_schepcorner_impact_mild(uitslag_str, match_data):\n",
    "\n",
    "    # Tel gescoorde en gemiste schepcorners per team\n",
    "    gescoorde_schepcorners_thuis = ((match_data[\"is_thuisploeg\"] == 1) & (match_data[\"goal\"] == 1)).sum()\n",
    "    gemiste_schepcorners_thuis = ((match_data[\"is_thuisploeg\"] == 1) & (match_data[\"goal\"] == 0)).sum()\n",
    "    \n",
    "    gescoorde_schepcorners_uit = ((match_data[\"is_thuisploeg\"] == 0) & (match_data[\"goal\"] == 1)).sum()\n",
    "    gemiste_schepcorners_uit = ((match_data[\"is_thuisploeg\"] == 0) & (match_data[\"goal\"] == 0)).sum()\n",
    "    \n",
    "    # Huidige score bepalen\n",
    "    thuis_score, uit_score = map(int, uitslag_str.split('v'))\n",
    "    oorspronkelijke_winnaar = bepaal_winnaar_verliezer(uitslag_str)\n",
    "    \n",
    "    # Als het gelijkspel was en er waren schepcorners, dan heeft het impact\n",
    "    if oorspronkelijke_winnaar is None and (gescoorde_schepcorners_thuis + gescoorde_schepcorners_uit + gemiste_schepcorners_thuis + gemiste_schepcorners_uit) > 0:\n",
    "        return True\n",
    "    \n",
    "    # Bepaal de minimale score van de oorspronkelijke winnaar en de maximale score van de verliezer\n",
    "    if oorspronkelijke_winnaar == 1:\n",
    "        min_winnaar_score = thuis_score - gescoorde_schepcorners_thuis\n",
    "        max_verliezer_score = uit_score + gemiste_schepcorners_uit\n",
    "    else:\n",
    "        min_winnaar_score = uit_score - gescoorde_schepcorners_uit\n",
    "        max_verliezer_score = thuis_score + gemiste_schepcorners_thuis\n",
    "\n",
    "    # Nieuwe uitslag bepalen zonder schepcorners\n",
    "    nieuwe_winnaar = bepaal_winnaar_verliezer(f\"{min_winnaar_score}v{max_verliezer_score}\")\n",
    "    \n",
    "    # Impact als de winnaar verandert\n",
    "    return oorspronkelijke_winnaar != nieuwe_winnaar\n"
   ]
  },
  {
   "cell_type": "code",
   "execution_count": null,
   "metadata": {},
   "outputs": [],
   "source": [
    "\n",
    "# Pas de functie toe per wedstrijd_id\n",
    "impact_resultaten_mild = df.groupby(\"wedstrijd_id\").apply(\n",
    "    lambda match_data: heeft_schepcorner_impact_mild(match_data[\"uitslag\"].iloc[0], match_data)\n",
    ")\n",
    "\n",
    "# Voeg het resultaat toe aan het dataframe\n",
    "df = df.merge(impact_resultaten_mild.rename(\"schepcorner_impact_mild\"), on=\"wedstrijd_id\")\n",
    "\n",
    "# Print het resultaat\n",
    "print(df[[\"wedstrijd_id\", \"schepcorner_impact_mild\"]].drop_duplicates())\n"
   ]
  },
  {
   "cell_type": "code",
   "execution_count": null,
   "metadata": {},
   "outputs": [],
   "source": [
    "\n",
    "# Voeg het resultaat toe aan het dataframe\n",
    "df = df.merge(impact_resultaten_mild.rename(\"schepcorner_impact_mild\"), on=\"wedstrijd_id\")\n",
    "\n",
    "# Print het resultaat\n",
    "print(df[[\"wedstrijd_id\", \"schepcorner_impact_mild\"]].drop_duplicates())\n"
   ]
  }
 ],
 "metadata": {
  "kernelspec": {
   "display_name": "Python 3",
   "language": "python",
   "name": "python3"
  },
  "language_info": {
   "codemirror_mode": {
    "name": "ipython",
    "version": 3
   },
   "file_extension": ".py",
   "mimetype": "text/x-python",
   "name": "python",
   "nbconvert_exporter": "python",
   "pygments_lexer": "ipython3",
   "version": "3.11.9"
  }
 },
 "nbformat": 4,
 "nbformat_minor": 2
}
