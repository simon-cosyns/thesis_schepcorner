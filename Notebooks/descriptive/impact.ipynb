{
 "cells": [
  {
   "cell_type": "markdown",
   "id": "08bba440",
   "metadata": {},
   "source": [
    "### Impact schepcorner\n",
    "In deze notebook gaan we na wat de impact is van de schepcorner in het minivoetbal. Hoe uitslagbepalend is hij. Leidt het missen van een schepcorner tot een negatieve sfeer. "
   ]
  },
  {
   "cell_type": "code",
   "execution_count": 51,
   "id": "acda9309",
   "metadata": {},
   "outputs": [],
   "source": [
    "import pandas as pd"
   ]
  },
  {
   "cell_type": "code",
   "execution_count": 52,
   "id": "49bd9b29",
   "metadata": {},
   "outputs": [],
   "source": [
    "### data inladen\n",
    "wedstrijden_cleaned = pd.read_excel('../../Data/Silver/wedstrijden_cleaned.xlsx')\n",
    "corners_cleaned = pd.read_excel('../../Data/Silver/cornerballen_cleaned.xlsx')"
   ]
  },
  {
   "cell_type": "code",
   "execution_count": 53,
   "id": "5ea1ebe7",
   "metadata": {},
   "outputs": [],
   "source": [
    "merged_df = pd.merge(wedstrijden_cleaned, corners_cleaned, on='wedstrijd_id', how='left')"
   ]
  },
  {
   "cell_type": "markdown",
   "id": "4275b399",
   "metadata": {},
   "source": [
    "Aantal matchen zonder/met schepcorner"
   ]
  },
  {
   "cell_type": "code",
   "execution_count": 54,
   "id": "8af88844",
   "metadata": {},
   "outputs": [],
   "source": [
    "aantal_wedstrijden = wedstrijden_cleaned.shape[0]\n",
    "aantal_wedstrijden_met_corners = corners_cleaned[\"wedstrijd_id\"].nunique()\n"
   ]
  },
  {
   "cell_type": "code",
   "execution_count": 55,
   "id": "09a59c47",
   "metadata": {},
   "outputs": [
    {
     "name": "stdout",
     "output_type": "stream",
     "text": [
      "Aantal wedstrijden: 222\n",
      "Aantal wedstrijden met corners: 221\n",
      "Aantal wedstrijden zonder corners: 1\n",
      "Percentage wedstrijden met corners: 99.55%\n"
     ]
    }
   ],
   "source": [
    "print(f\"Aantal wedstrijden: {aantal_wedstrijden}\")\n",
    "print(f\"Aantal wedstrijden met corners: {aantal_wedstrijden_met_corners}\")\n",
    "print(f\"Aantal wedstrijden zonder corners: {aantal_wedstrijden - aantal_wedstrijden_met_corners}\")\n",
    "print(f\"Percentage wedstrijden met corners: {aantal_wedstrijden_met_corners / aantal_wedstrijden * 100:.2f}%\")"
   ]
  },
  {
   "cell_type": "markdown",
   "id": "8d441241",
   "metadata": {},
   "source": [
    "### strengste impact\n",
    "veranderen van uitkomst van 1 schepcorner verandert resultaat van match, andere winnaar/gelijkspel"
   ]
  },
  {
   "cell_type": "code",
   "execution_count": 56,
   "id": "10194913",
   "metadata": {},
   "outputs": [],
   "source": [
    "# strengste impact, uitkomst van 1 schepcorner in de match veranderen, is bepalend\n",
    "def schepcorner_impact(df):\n",
    "    results = []\n",
    "\n",
    "    for match_id, match_data in df.groupby(\"wedstrijd_id\"):\n",
    "        uitslag_str = match_data[\"uitslag\"].iloc[0]  # iloc selecteert eerste rij van match_data\n",
    "        score_thuis, score_uit = map(int, uitslag_str.split(\"v\"))  \n",
    "        score_verschil = abs(score_thuis - score_uit)\n",
    "\n",
    "        # Controleer of er een schepcorner is (indien alle is_thuisploeg en goal NA zijn, dan geen schepcorner)\n",
    "        heeft_schepcorner = match_data[\"goal\"].notna().any()\n",
    "\n",
    "        if not heeft_schepcorner:\n",
    "            results.append((match_id, False))  # Geen schepcorner? Geen impact.\n",
    "            continue  \n",
    "\n",
    "        # Gelijkspel: altijd impact als er een schepcorner was\n",
    "        if score_thuis == score_uit:\n",
    "            results.append((match_id, True))\n",
    "            continue\n",
    "\n",
    "        # Bepaal winnaar en verliezer\n",
    "        if score_thuis > score_uit:\n",
    "            winnaar = 1\n",
    "            verliezer = 0\n",
    "        else:\n",
    "            winnaar = 0\n",
    "            verliezer = 1\n",
    "\n",
    "        # Controleer of winnaar minstens één schepcorner scoorde\n",
    "        winnaar_heeft_gescoord = ((match_data[\"is_thuisploeg\"] == winnaar) & (match_data[\"goal\"] == 1)).any()\n",
    "\n",
    "        # Controleer of verliezer minstens één schepcorner miste\n",
    "        verliezer_heeft_gemist = ((match_data[\"is_thuisploeg\"] == verliezer) & (match_data[\"goal\"] == 0)).any()\n",
    "\n",
    "        # Strikte voorwaarde: maximaal 1 verschil en schepcorner moet impact hebben\n",
    "        if score_verschil == 1 and (winnaar_heeft_gescoord or verliezer_heeft_gemist):\n",
    "            results.append((match_id, True))\n",
    "        else:\n",
    "            results.append((match_id, False))\n",
    "\n",
    "    return pd.DataFrame(results, columns=[\"wedstrijd_id\", \"schepcorner_impact\"])"
   ]
  },
  {
   "cell_type": "code",
   "execution_count": 57,
   "id": "cac047c6",
   "metadata": {},
   "outputs": [],
   "source": [
    "strengste_impact_df = schepcorner_impact(merged_df)\n",
    "aantal_matchen_met_strengste_impact = strengste_impact_df[\"schepcorner_impact\"].sum()"
   ]
  },
  {
   "cell_type": "code",
   "execution_count": 58,
   "id": "936f033c",
   "metadata": {},
   "outputs": [
    {
     "name": "stdout",
     "output_type": "stream",
     "text": [
      "Aantal wedstrijden met strengste impact: 56\n",
      "Percentage wedstrijden met strengste impact: 25.23%\n"
     ]
    }
   ],
   "source": [
    "print(f\"Aantal wedstrijden met strengste impact: {aantal_matchen_met_strengste_impact}\")\n",
    "print(f\"Percentage wedstrijden met strengste impact: {aantal_matchen_met_strengste_impact / aantal_wedstrijden * 100:.2f}%\")"
   ]
  },
  {
   "cell_type": "code",
   "execution_count": 59,
   "id": "058e3871",
   "metadata": {},
   "outputs": [
    {
     "data": {
      "text/plain": [
       "[6,\n",
       " 12,\n",
       " 16,\n",
       " 18,\n",
       " 26,\n",
       " 29,\n",
       " 30,\n",
       " 34,\n",
       " 37,\n",
       " 40,\n",
       " 42,\n",
       " 44,\n",
       " 45,\n",
       " 46,\n",
       " 49,\n",
       " 50,\n",
       " 62,\n",
       " 66,\n",
       " 68,\n",
       " 71,\n",
       " 84,\n",
       " 88,\n",
       " 93,\n",
       " 100,\n",
       " 111,\n",
       " 114,\n",
       " 115,\n",
       " 116,\n",
       " 121,\n",
       " 126,\n",
       " 127,\n",
       " 147,\n",
       " 150,\n",
       " 152,\n",
       " 153,\n",
       " 156,\n",
       " 165,\n",
       " 166,\n",
       " 167,\n",
       " 174,\n",
       " 176,\n",
       " 177,\n",
       " 181,\n",
       " 183,\n",
       " 185,\n",
       " 187,\n",
       " 190,\n",
       " 193,\n",
       " 198,\n",
       " 200,\n",
       " 201,\n",
       " 205,\n",
       " 208,\n",
       " 209,\n",
       " 216,\n",
       " 219]"
      ]
     },
     "execution_count": 59,
     "metadata": {},
     "output_type": "execute_result"
    }
   ],
   "source": [
    "# controle\n",
    "wedstrijd_ids_strengste_impact = strengste_impact_df[strengste_impact_df[\"schepcorner_impact\"] == 1][\"wedstrijd_id\"].tolist()\n",
    "wedstrijd_ids_strengste_impact "
   ]
  },
  {
   "cell_type": "code",
   "execution_count": 60,
   "id": "85feb75d",
   "metadata": {},
   "outputs": [
    {
     "data": {
      "text/html": [
       "<div>\n",
       "<style scoped>\n",
       "    .dataframe tbody tr th:only-of-type {\n",
       "        vertical-align: middle;\n",
       "    }\n",
       "\n",
       "    .dataframe tbody tr th {\n",
       "        vertical-align: top;\n",
       "    }\n",
       "\n",
       "    .dataframe thead th {\n",
       "        text-align: right;\n",
       "    }\n",
       "</style>\n",
       "<table border=\"1\" class=\"dataframe\">\n",
       "  <thead>\n",
       "    <tr style=\"text-align: right;\">\n",
       "      <th></th>\n",
       "      <th>wedstrijd_id</th>\n",
       "      <th>uitslag</th>\n",
       "      <th>is_thuisploeg</th>\n",
       "      <th>goal</th>\n",
       "    </tr>\n",
       "  </thead>\n",
       "  <tbody>\n",
       "    <tr>\n",
       "      <th>13</th>\n",
       "      <td>6</td>\n",
       "      <td>7v8</td>\n",
       "      <td>1.0</td>\n",
       "      <td>1.0</td>\n",
       "    </tr>\n",
       "    <tr>\n",
       "      <th>14</th>\n",
       "      <td>6</td>\n",
       "      <td>7v8</td>\n",
       "      <td>1.0</td>\n",
       "      <td>1.0</td>\n",
       "    </tr>\n",
       "    <tr>\n",
       "      <th>15</th>\n",
       "      <td>6</td>\n",
       "      <td>7v8</td>\n",
       "      <td>0.0</td>\n",
       "      <td>1.0</td>\n",
       "    </tr>\n",
       "    <tr>\n",
       "      <th>29</th>\n",
       "      <td>12</td>\n",
       "      <td>5v6</td>\n",
       "      <td>1.0</td>\n",
       "      <td>1.0</td>\n",
       "    </tr>\n",
       "    <tr>\n",
       "      <th>30</th>\n",
       "      <td>12</td>\n",
       "      <td>5v6</td>\n",
       "      <td>0.0</td>\n",
       "      <td>1.0</td>\n",
       "    </tr>\n",
       "    <tr>\n",
       "      <th>...</th>\n",
       "      <td>...</td>\n",
       "      <td>...</td>\n",
       "      <td>...</td>\n",
       "      <td>...</td>\n",
       "    </tr>\n",
       "    <tr>\n",
       "      <th>553</th>\n",
       "      <td>216</td>\n",
       "      <td>5v4</td>\n",
       "      <td>0.0</td>\n",
       "      <td>1.0</td>\n",
       "    </tr>\n",
       "    <tr>\n",
       "      <th>554</th>\n",
       "      <td>216</td>\n",
       "      <td>5v4</td>\n",
       "      <td>1.0</td>\n",
       "      <td>1.0</td>\n",
       "    </tr>\n",
       "    <tr>\n",
       "      <th>561</th>\n",
       "      <td>219</td>\n",
       "      <td>5v4</td>\n",
       "      <td>1.0</td>\n",
       "      <td>1.0</td>\n",
       "    </tr>\n",
       "    <tr>\n",
       "      <th>562</th>\n",
       "      <td>219</td>\n",
       "      <td>5v4</td>\n",
       "      <td>0.0</td>\n",
       "      <td>1.0</td>\n",
       "    </tr>\n",
       "    <tr>\n",
       "      <th>563</th>\n",
       "      <td>219</td>\n",
       "      <td>5v4</td>\n",
       "      <td>1.0</td>\n",
       "      <td>0.0</td>\n",
       "    </tr>\n",
       "  </tbody>\n",
       "</table>\n",
       "<p>156 rows × 4 columns</p>\n",
       "</div>"
      ],
      "text/plain": [
       "     wedstrijd_id uitslag  is_thuisploeg  goal\n",
       "13              6     7v8            1.0   1.0\n",
       "14              6     7v8            1.0   1.0\n",
       "15              6     7v8            0.0   1.0\n",
       "29             12     5v6            1.0   1.0\n",
       "30             12     5v6            0.0   1.0\n",
       "..            ...     ...            ...   ...\n",
       "553           216     5v4            0.0   1.0\n",
       "554           216     5v4            1.0   1.0\n",
       "561           219     5v4            1.0   1.0\n",
       "562           219     5v4            0.0   1.0\n",
       "563           219     5v4            1.0   0.0\n",
       "\n",
       "[156 rows x 4 columns]"
      ]
     },
     "execution_count": 60,
     "metadata": {},
     "output_type": "execute_result"
    }
   ],
   "source": [
    "merged_df[merged_df[\"wedstrijd_id\"].isin(wedstrijd_ids_strengste_impact)][[\"wedstrijd_id\", \"uitslag\", \"is_thuisploeg\", \"goal\"]]"
   ]
  },
  {
   "cell_type": "markdown",
   "id": "fafde86e",
   "metadata": {},
   "source": [
    "### impact op matchuitslagen wanneer er geen schepcorners zouden zijn, of alle gemist zouden zijn."
   ]
  },
  {
   "cell_type": "code",
   "execution_count": 61,
   "id": "2cf4908b",
   "metadata": {},
   "outputs": [],
   "source": [
    "def bepaal_winnaar_verliezer(uitslag_str):\n",
    "    thuis_score, uit_score = map(lambda x: int(float(x)), uitslag_str.split('v'))\n",
    "    \n",
    "    if thuis_score > uit_score:\n",
    "        return 1  # thuisploeg wint\n",
    "    elif uit_score > thuis_score:\n",
    "        return 0  # uitploeg wint\n",
    "    else:\n",
    "        return None  # gelijkspel\n"
   ]
  },
  {
   "cell_type": "code",
   "execution_count": 62,
   "id": "a2f71fbe",
   "metadata": {},
   "outputs": [],
   "source": [
    "def bereken_impact_zonder_schepcorner(df):\n",
    "    impact_lijst = []\n",
    "\n",
    "    for wedstrijd_id, match_data in df.groupby(\"wedstrijd_id\"):\n",
    "        uitslag_str = match_data[\"uitslag\"].iloc[0]\n",
    "        \n",
    "        # Bepaal het aantal schepcorner-goals per ploeg\n",
    "        goals_thuis = match_data[match_data[\"is_thuisploeg\"] == 1][\"goal\"].sum()\n",
    "        goals_uit = match_data[match_data[\"is_thuisploeg\"] == 0][\"goal\"].sum()\n",
    "\n",
    "        # Bereken aangepaste score\n",
    "        thuis_score, uit_score = map(int, uitslag_str.split('v'))\n",
    "        nieuwe_thuis = thuis_score - goals_thuis\n",
    "        nieuwe_uit = uit_score - goals_uit\n",
    "\n",
    "        # Vergelijk oorspronkelijke en aangepaste uitslag\n",
    "        oorspronkelijke = bepaal_winnaar_verliezer(uitslag_str)\n",
    "        nieuwe = bepaal_winnaar_verliezer(f\"{nieuwe_thuis}v{nieuwe_uit}\")\n",
    "        impact = oorspronkelijke != nieuwe\n",
    "\n",
    "        impact_lijst.append({\n",
    "            \"wedstrijd_id\": wedstrijd_id,\n",
    "            \"schepcorner_impact\": impact\n",
    "        })\n",
    "\n",
    "    return pd.DataFrame(impact_lijst)\n"
   ]
  },
  {
   "cell_type": "code",
   "execution_count": 63,
   "id": "bec6a4a0",
   "metadata": {},
   "outputs": [],
   "source": [
    "impact_zonder_schepcorners = bereken_impact_zonder_schepcorner(merged_df)\n",
    "aantal_matchen_met_impact_zonder_schepcorner = impact_zonder_schepcorners[\"schepcorner_impact\"].sum()"
   ]
  },
  {
   "cell_type": "code",
   "execution_count": 64,
   "id": "dc624218",
   "metadata": {},
   "outputs": [
    {
     "name": "stdout",
     "output_type": "stream",
     "text": [
      "Aantal wedstrijden met andere uitslag moesten er geen schepcorners zijn: 41\n",
      "Percentage wedstrijden met andere uitslag moesten er geen schepcorners zijn: 18.47%\n"
     ]
    }
   ],
   "source": [
    "print(f\"Aantal wedstrijden met andere uitslag moesten er geen schepcorners zijn: {aantal_matchen_met_impact_zonder_schepcorner}\")\n",
    "print(f\"Percentage wedstrijden met andere uitslag moesten er geen schepcorners zijn: {aantal_matchen_met_impact_zonder_schepcorner / aantal_wedstrijden * 100:.2f}%\")"
   ]
  },
  {
   "cell_type": "markdown",
   "id": "006cad80",
   "metadata": {},
   "source": [
    "### impact alle schepcorners gescoord\n"
   ]
  },
  {
   "cell_type": "code",
   "execution_count": 65,
   "id": "fd5dfd48",
   "metadata": {},
   "outputs": [],
   "source": [
    "def bereken_schepcorner_impact_als_alle_gescoord(df):\n",
    "    impact_lijst = []\n",
    "\n",
    "    for wedstrijd_id, match_data in df.groupby(\"wedstrijd_id\"):\n",
    "        uitslag_str = match_data[\"uitslag\"].iloc[0]\n",
    "\n",
    "        # Aantal gemiste schepcorners per ploeg\n",
    "        gemist_thuis = ((match_data[\"is_thuisploeg\"] == 1) & (match_data[\"goal\"] == 0)).sum()\n",
    "        gemist_uit = ((match_data[\"is_thuisploeg\"] == 0) & (match_data[\"goal\"] == 0)).sum()\n",
    "\n",
    "        # Score aanpassen alsof elke schepcorner werd gescoord\n",
    "        thuis_score, uit_score = map(int, uitslag_str.split('v'))\n",
    "        nieuwe_thuis = thuis_score + gemist_thuis\n",
    "        nieuwe_uit = uit_score + gemist_uit\n",
    "\n",
    "        # Bepaal winnaar voor en na\n",
    "        oorspronkelijke = bepaal_winnaar_verliezer(f\"{thuis_score}v{uit_score}\")\n",
    "        nieuwe = bepaal_winnaar_verliezer(f\"{nieuwe_thuis}v{nieuwe_uit}\")\n",
    "        impact = oorspronkelijke != nieuwe\n",
    "\n",
    "        impact_lijst.append({\n",
    "            \"wedstrijd_id\": wedstrijd_id,\n",
    "            \"schepcorner_impact\": impact\n",
    "        })\n",
    "\n",
    "    return pd.DataFrame(impact_lijst)\n"
   ]
  },
  {
   "cell_type": "code",
   "execution_count": 66,
   "id": "2889ae9d",
   "metadata": {},
   "outputs": [],
   "source": [
    "impact_alles_gescoord = bereken_schepcorner_impact_als_alle_gescoord(merged_df)\n",
    "aantal_matchen_met_impact_alles_gescoord = impact_alles_gescoord[\"schepcorner_impact\"].sum()"
   ]
  },
  {
   "cell_type": "code",
   "execution_count": 67,
   "id": "1c37c094",
   "metadata": {},
   "outputs": [
    {
     "name": "stdout",
     "output_type": "stream",
     "text": [
      "Aantal wedstrijden met andere uitslag moesten alle schepcorners gescoord worden: 56\n",
      "Percentage wedstrijden met andere uitslag moesten alle schepcorners gescoord worden: 12.16%\n"
     ]
    }
   ],
   "source": [
    "print(f\"Aantal wedstrijden met andere uitslag moesten alle schepcorners gescoord worden: {aantal_matchen_met_strengste_impact}\")\n",
    "print(f\"Percentage wedstrijden met andere uitslag moesten alle schepcorners gescoord worden: {aantal_matchen_met_impact_alles_gescoord / aantal_wedstrijden * 100:.2f}%\")"
   ]
  },
  {
   "cell_type": "markdown",
   "id": "f1bc5730",
   "metadata": {},
   "source": [
    "### schepcorner impact, minst streng berekend\n",
    "Hoeveel wedstrijden hebben een andere uitslag, als alle schepcorners van uitkomst kunnen veranderen"
   ]
  },
  {
   "cell_type": "code",
   "execution_count": 68,
   "id": "81324705",
   "metadata": {},
   "outputs": [],
   "source": [
    "def bereken_schepcorner_impact_mild(df):\n",
    "    impact_lijst = []\n",
    "\n",
    "    for wedstrijd_id, groep in df.groupby(\"wedstrijd_id\"):\n",
    "        uitslag_str = groep[\"uitslag\"].iloc[0]\n",
    "\n",
    "        # Scores omzetten naar integers (voor veiligheid float -> int)\n",
    "        thuis_score, uit_score = map(int, uitslag_str.split('v'))\n",
    "        oorspronkelijke = bepaal_winnaar_verliezer(f\"{thuis_score}v{uit_score}\")\n",
    "\n",
    "        # Tel gescoorde en gemiste corners\n",
    "        gescoord_thuis = ((groep[\"is_thuisploeg\"] == 1) & (groep[\"goal\"] == 1)).sum()\n",
    "        gemist_thuis = ((groep[\"is_thuisploeg\"] == 1) & (groep[\"goal\"] == 0)).sum()\n",
    "        gescoord_uit = ((groep[\"is_thuisploeg\"] == 0) & (groep[\"goal\"] == 1)).sum()\n",
    "        gemist_uit = ((groep[\"is_thuisploeg\"] == 0) & (groep[\"goal\"] == 0)).sum()\n",
    "\n",
    "        # Als gelijkspel en er waren corners → impact\n",
    "        if oorspronkelijke is None and (gescoord_thuis + gemist_thuis + gescoord_uit + gemist_uit) > 0:\n",
    "            impact = True\n",
    "        else:\n",
    "            if oorspronkelijke == 1:\n",
    "                min_win = thuis_score - gescoord_thuis\n",
    "                max_verl = uit_score + gemist_uit\n",
    "            else:\n",
    "                min_win = uit_score - gescoord_uit\n",
    "                max_verl = thuis_score + gemist_thuis\n",
    "\n",
    "            nieuwe = bepaal_winnaar_verliezer(f\"{min_win}v{max_verl}\")\n",
    "            impact = oorspronkelijke != nieuwe\n",
    "\n",
    "        impact_lijst.append({\n",
    "            \"wedstrijd_id\": wedstrijd_id,\n",
    "            \"schepcorner_impact\": impact\n",
    "        })\n",
    "\n",
    "    return pd.DataFrame(impact_lijst)\n"
   ]
  },
  {
   "cell_type": "code",
   "execution_count": 69,
   "id": "6641c606",
   "metadata": {},
   "outputs": [],
   "source": [
    "impact_mild = bereken_schepcorner_impact_mild(merged_df)\n",
    "aantal_matchen_met_impact_mild = impact_mild[\"schepcorner_impact\"].sum()"
   ]
  },
  {
   "cell_type": "code",
   "execution_count": 70,
   "id": "5398fd3c",
   "metadata": {},
   "outputs": [
    {
     "name": "stdout",
     "output_type": "stream",
     "text": [
      "Aantal wedstrijden met andere uitslag moesten alle schepcorners van uitkomst gewijzigd kunnen worden: 131\n",
      "Percentage wedstrijden met andere uitslag moesten alle schepcorners van uitkomst gewijzigd kunnen worden: 59.01%\n"
     ]
    }
   ],
   "source": [
    "print(f\"Aantal wedstrijden met andere uitslag moesten alle schepcorners van uitkomst gewijzigd kunnen worden: {aantal_matchen_met_impact_mild}\")\n",
    "print(f\"Percentage wedstrijden met andere uitslag moesten alle schepcorners van uitkomst gewijzigd kunnen worden: {aantal_matchen_met_impact_mild / aantal_wedstrijden * 100:.2f}%\")"
   ]
  },
  {
   "cell_type": "markdown",
   "id": "d087c957",
   "metadata": {},
   "source": [
    "### Nu kunnen we ook checken of corners missen/scoren sleutelmomenten zijn"
   ]
  },
  {
   "cell_type": "code",
   "execution_count": 72,
   "id": "99f883f4",
   "metadata": {},
   "outputs": [
    {
     "data": {
      "text/plain": [
       "Index(['wedstrijd_id', 'datum', 'niveau', 'uitslag', 'corners_uitslag',\n",
       "       'klassement_uitslag', 'schepcorner_id', 'ploegnaam',\n",
       "       'ervaring_schepper', 'ervaring_kopper', 'ervaring_duo', 'is_thuisploeg',\n",
       "       'kwart', 'is_schepper_bank', 'is_kopper_bank', 'score_voor',\n",
       "       'schepper_pos_rechts', 'positie', 'kop_verplaatsen_achter',\n",
       "       'kop_veel_verplaatsen', 'kop_hor_verplaatsen', 'goal'],\n",
       "      dtype='object')"
      ]
     },
     "execution_count": 72,
     "metadata": {},
     "output_type": "execute_result"
    }
   ],
   "source": [
    "merged_df.columns"
   ]
  },
  {
   "cell_type": "code",
   "execution_count": 74,
   "id": "5dfe4a63",
   "metadata": {},
   "outputs": [
    {
     "data": {
      "text/html": [
       "<div>\n",
       "<style scoped>\n",
       "    .dataframe tbody tr th:only-of-type {\n",
       "        vertical-align: middle;\n",
       "    }\n",
       "\n",
       "    .dataframe tbody tr th {\n",
       "        vertical-align: top;\n",
       "    }\n",
       "\n",
       "    .dataframe thead th {\n",
       "        text-align: right;\n",
       "    }\n",
       "</style>\n",
       "<table border=\"1\" class=\"dataframe\">\n",
       "  <thead>\n",
       "    <tr style=\"text-align: right;\">\n",
       "      <th></th>\n",
       "      <th>wedstrijd_id</th>\n",
       "      <th>uitslag</th>\n",
       "      <th>schepcorner_id</th>\n",
       "      <th>is_thuisploeg</th>\n",
       "      <th>score_voor</th>\n",
       "      <th>goal</th>\n",
       "    </tr>\n",
       "  </thead>\n",
       "  <tbody>\n",
       "    <tr>\n",
       "      <th>0</th>\n",
       "      <td>1</td>\n",
       "      <td>4v1</td>\n",
       "      <td>1.0</td>\n",
       "      <td>1.0</td>\n",
       "      <td>0v0</td>\n",
       "      <td>1.0</td>\n",
       "    </tr>\n",
       "    <tr>\n",
       "      <th>1</th>\n",
       "      <td>1</td>\n",
       "      <td>4v1</td>\n",
       "      <td>2.0</td>\n",
       "      <td>1.0</td>\n",
       "      <td>2v0</td>\n",
       "      <td>0.0</td>\n",
       "    </tr>\n",
       "    <tr>\n",
       "      <th>2</th>\n",
       "      <td>1</td>\n",
       "      <td>4v1</td>\n",
       "      <td>3.0</td>\n",
       "      <td>0.0</td>\n",
       "      <td>2v0</td>\n",
       "      <td>0.0</td>\n",
       "    </tr>\n",
       "    <tr>\n",
       "      <th>3</th>\n",
       "      <td>2</td>\n",
       "      <td>11v2</td>\n",
       "      <td>4.0</td>\n",
       "      <td>1.0</td>\n",
       "      <td>4v1</td>\n",
       "      <td>0.0</td>\n",
       "    </tr>\n",
       "    <tr>\n",
       "      <th>4</th>\n",
       "      <td>2</td>\n",
       "      <td>11v2</td>\n",
       "      <td>5.0</td>\n",
       "      <td>0.0</td>\n",
       "      <td>5v2</td>\n",
       "      <td>0.0</td>\n",
       "    </tr>\n",
       "  </tbody>\n",
       "</table>\n",
       "</div>"
      ],
      "text/plain": [
       "   wedstrijd_id uitslag  schepcorner_id  is_thuisploeg score_voor  goal\n",
       "0             1     4v1             1.0            1.0        0v0   1.0\n",
       "1             1     4v1             2.0            1.0        2v0   0.0\n",
       "2             1     4v1             3.0            0.0        2v0   0.0\n",
       "3             2    11v2             4.0            1.0        4v1   0.0\n",
       "4             2    11v2             5.0            0.0        5v2   0.0"
      ]
     },
     "execution_count": 74,
     "metadata": {},
     "output_type": "execute_result"
    }
   ],
   "source": [
    "merged_df[[\"wedstrijd_id\", \"uitslag\", \"schepcorner_id\", \"is_thuisploeg\", \"score_voor\", \"goal\"]].head()"
   ]
  },
  {
   "cell_type": "markdown",
   "id": "3c1096d3",
   "metadata": {},
   "source": [
    "### hypothese, missen schepcorner leidt tot momentum_verlies. "
   ]
  },
  {
   "cell_type": "code",
   "execution_count": 76,
   "id": "5bd7db6a",
   "metadata": {},
   "outputs": [],
   "source": [
    "def bepaal_sleutelmomenten_schepcorners(df):\n",
    "    sleutelmomenten = []\n",
    "\n",
    "    for wedstrijd_id, match_data in df.groupby(\"wedstrijd_id\"):\n",
    "        match_data = match_data.sort_values(\"schepcorner_id\").reset_index(drop=True)\n",
    "\n",
    "        # Eindscore parsen\n",
    "        eind_thuis, eind_uit = map(int, match_data[\"uitslag\"].iloc[0].split('v'))\n",
    "\n",
    "        for i, rij in match_data.iterrows():\n",
    "            if rij[\"goal\"] != 0:\n",
    "                continue  # Alleen gemiste schepcorners analyseren\n",
    "\n",
    "            # Score vóór de corner\n",
    "            thuis_voor, uit_voor = map(int, rij[\"score_voor\"].split('v'))\n",
    "            verschil_voor = thuis_voor - uit_voor\n",
    "\n",
    "            # Score ná de corner: volgende snapshot of eindstand\n",
    "            if i + 1 < len(match_data):\n",
    "                thuis_na, uit_na = map(int, match_data.loc[i + 1, \"score_voor\"].split('v'))\n",
    "            else:\n",
    "                thuis_na, uit_na = eind_thuis, eind_uit\n",
    "            verschil_na = thuis_na - uit_na\n",
    "\n",
    "            delta = verschil_voor - verschil_na\n",
    "\n",
    "            # Impact bepalen volgens ploeg\n",
    "            if rij[\"is_thuisploeg\"] == 1:\n",
    "                sleutelmoment = delta > 0\n",
    "            else:\n",
    "                sleutelmoment = delta < 0\n",
    "\n",
    "            sleutelmomenten.append({\n",
    "                \"wedstrijd_id\": wedstrijd_id,\n",
    "                \"schepcorner_id\": rij[\"schepcorner_id\"],\n",
    "                \"sleutelmoment\": sleutelmoment\n",
    "            })\n",
    "\n",
    "    return pd.DataFrame(sleutelmomenten)\n"
   ]
  },
  {
   "cell_type": "code",
   "execution_count": 77,
   "id": "0da650e8",
   "metadata": {},
   "outputs": [],
   "source": [
    "impact_missen = bepaal_sleutelmomenten_schepcorners(merged_df)\n",
    "aantal_sleutelmomenten = impact_missen[\"sleutelmoment\"].sum()"
   ]
  },
  {
   "cell_type": "code",
   "execution_count": 81,
   "id": "176614ff",
   "metadata": {},
   "outputs": [
    {
     "name": "stdout",
     "output_type": "stream",
     "text": [
      "Aantal schepcorners gemist: 201\n",
      "Aantal gemiste schepcorners die leiden tot momentum verlies: 52\n",
      "Percentage gemiste schepcorners die leiden tot momentum verlies: 25.87%\n"
     ]
    }
   ],
   "source": [
    "print(f\"Aantal schepcorners gemist: {merged_df[merged_df['goal'] == 0].shape[0]}\")\n",
    "print(f\"Aantal gemiste schepcorners die leiden tot momentum verlies: {aantal_sleutelmomenten}\")\n",
    "print(f\"Percentage gemiste schepcorners die leiden tot momentum verlies: {aantal_sleutelmomenten / merged_df[merged_df['goal'] == 0].shape[0] * 100:.2f}%\")"
   ]
  },
  {
   "cell_type": "markdown",
   "id": "85781503",
   "metadata": {},
   "source": [
    "### positieve impact na gescoorde corner."
   ]
  },
  {
   "cell_type": "code",
   "execution_count": 83,
   "id": "16eccd10",
   "metadata": {},
   "outputs": [],
   "source": [
    "def bepaal_sleutelmomenten_gescoorde_schepcorners(df):\n",
    "    sleutelmomenten = []\n",
    "\n",
    "    for wedstrijd_id, groep in df.groupby(\"wedstrijd_id\"):\n",
    "        groep = groep.sort_values(\"schepcorner_id\").reset_index(drop=True)\n",
    "\n",
    "        # Eindscore parsen\n",
    "        eind_thuis, eind_uit = map(int, groep[\"uitslag\"].iloc[0].split('v'))\n",
    "\n",
    "        for i, rij in groep.iterrows():\n",
    "            if rij[\"goal\"] != 1:\n",
    "                continue  # Alleen gescoorde schepcorners analyseren\n",
    "\n",
    "            # Score vóór de corner, goal direct bijtellen\n",
    "            thuis_voor, uit_voor = map(int, rij[\"score_voor\"].split('v'))\n",
    "            if rij[\"is_thuisploeg\"] == 1:\n",
    "                thuis_voor += 1\n",
    "            else:\n",
    "                uit_voor += 1\n",
    "            verschil_voor = thuis_voor - uit_voor\n",
    "\n",
    "            # Score ná de corner: volgende snapshot of eindstand\n",
    "            if i + 1 < len(groep):\n",
    "                thuis_na, uit_na = map(int, groep.loc[i + 1, \"score_voor\"].split('v'))\n",
    "            else:\n",
    "                thuis_na, uit_na = eind_thuis, eind_uit\n",
    "            verschil_na = thuis_na - uit_na\n",
    "\n",
    "            delta = verschil_na - verschil_voor\n",
    "\n",
    "            # Impact bepalen volgens ploeg\n",
    "            if rij[\"is_thuisploeg\"] == 1:\n",
    "                sleutelmoment = delta > 0\n",
    "            else:\n",
    "                sleutelmoment = delta < 0\n",
    "\n",
    "            sleutelmomenten.append({\n",
    "                \"wedstrijd_id\": wedstrijd_id,\n",
    "                \"schepcorner_id\": rij[\"schepcorner_id\"],\n",
    "                \"sleutelmoment\": sleutelmoment\n",
    "            })\n",
    "\n",
    "    return pd.DataFrame(sleutelmomenten)\n"
   ]
  },
  {
   "cell_type": "code",
   "execution_count": 84,
   "id": "85cb6e22",
   "metadata": {},
   "outputs": [],
   "source": [
    "impact_scoren = bepaal_sleutelmomenten_gescoorde_schepcorners(merged_df)\n",
    "aantal_sleutelmomenten_score = impact_scoren[\"sleutelmoment\"].sum()"
   ]
  },
  {
   "cell_type": "code",
   "execution_count": 85,
   "id": "a2a559f7",
   "metadata": {},
   "outputs": [
    {
     "name": "stdout",
     "output_type": "stream",
     "text": [
      "Aantal schepcorners gemist: 370\n",
      "Aantal gescoorde schepcorners die leiden tot momentum boost: 52\n",
      "Percentage gescoorde schepcorners die leiden tot momentum boost: 14.05%\n"
     ]
    }
   ],
   "source": [
    "print(f\"Aantal schepcorners gemist: {merged_df[merged_df['goal'] == 1].shape[0]}\")\n",
    "print(f\"Aantal gescoorde schepcorners die leiden tot momentum boost: {aantal_sleutelmomenten}\")\n",
    "print(f\"Percentage gescoorde schepcorners die leiden tot momentum boost: {aantal_sleutelmomenten / merged_df[merged_df['goal'] == 1].shape[0] * 100:.2f}%\")"
   ]
  },
  {
   "cell_type": "markdown",
   "id": "b7231fb1",
   "metadata": {},
   "source": [
    "Heel lage percentages, kan zijn omdat schepcorners vaak dicht op elkaar volgen en daardoor er nog niet echt tijd is voor een groot verschil van boost"
   ]
  },
  {
   "cell_type": "markdown",
   "id": "d7c81fce",
   "metadata": {},
   "source": []
  }
 ],
 "metadata": {
  "kernelspec": {
   "display_name": "Python 3",
   "language": "python",
   "name": "python3"
  },
  "language_info": {
   "codemirror_mode": {
    "name": "ipython",
    "version": 3
   },
   "file_extension": ".py",
   "mimetype": "text/x-python",
   "name": "python",
   "nbconvert_exporter": "python",
   "pygments_lexer": "ipython3",
   "version": "3.11.9"
  }
 },
 "nbformat": 4,
 "nbformat_minor": 5
}
