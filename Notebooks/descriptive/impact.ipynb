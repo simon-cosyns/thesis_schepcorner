{
 "cells": [
  {
   "cell_type": "markdown",
   "id": "08bba440",
   "metadata": {},
   "source": [
    "### Impact schepcorner\n",
    "In deze notebook gaan we na wat de impact is van de schepcorner in het minivoetbal. Hoe uitslagbepalend is hij. Leidt het missen van een schepcorner tot een negatieve sfeer. "
   ]
  },
  {
   "cell_type": "code",
   "execution_count": 33,
   "id": "acda9309",
   "metadata": {},
   "outputs": [],
   "source": [
    "import pandas as pd\n",
    "import seaborn as sns\n",
    "import matplotlib.pyplot as plt"
   ]
  },
  {
   "cell_type": "code",
   "execution_count": 3,
   "id": "49bd9b29",
   "metadata": {},
   "outputs": [],
   "source": [
    "### data inladen\n",
    "wedstrijden_cleaned = pd.read_excel('../../Data/Silver/wedstrijden_cleaned.xlsx')\n",
    "corners_cleaned = pd.read_excel('../../Data/Silver/cornerballen_cleaned.xlsx')"
   ]
  },
  {
   "cell_type": "code",
   "execution_count": 4,
   "id": "5ea1ebe7",
   "metadata": {},
   "outputs": [],
   "source": [
    "merged_df = pd.merge(wedstrijden_cleaned, corners_cleaned, on='wedstrijd_id', how='left')"
   ]
  },
  {
   "cell_type": "markdown",
   "id": "4275b399",
   "metadata": {},
   "source": [
    "Aantal matchen zonder/met schepcorner"
   ]
  },
  {
   "cell_type": "code",
   "execution_count": 5,
   "id": "8af88844",
   "metadata": {},
   "outputs": [],
   "source": [
    "aantal_wedstrijden = wedstrijden_cleaned.shape[0]\n",
    "aantal_wedstrijden_met_corners = corners_cleaned[\"wedstrijd_id\"].nunique()\n"
   ]
  },
  {
   "cell_type": "code",
   "execution_count": 6,
   "id": "09a59c47",
   "metadata": {},
   "outputs": [
    {
     "name": "stdout",
     "output_type": "stream",
     "text": [
      "Aantal wedstrijden: 231\n",
      "Aantal wedstrijden met corners: 230\n",
      "Aantal wedstrijden zonder corners: 1\n",
      "Percentage wedstrijden met corners: 99.57%\n"
     ]
    }
   ],
   "source": [
    "print(f\"Aantal wedstrijden: {aantal_wedstrijden}\")\n",
    "print(f\"Aantal wedstrijden met corners: {aantal_wedstrijden_met_corners}\")\n",
    "print(f\"Aantal wedstrijden zonder corners: {aantal_wedstrijden - aantal_wedstrijden_met_corners}\")\n",
    "print(f\"Percentage wedstrijden met corners: {aantal_wedstrijden_met_corners / aantal_wedstrijden * 100:.2f}%\")"
   ]
  },
  {
   "cell_type": "markdown",
   "id": "8d441241",
   "metadata": {},
   "source": [
    "### strengste impact\n",
    "veranderen van uitkomst van 1 schepcorner verandert resultaat van match, andere winnaar/gelijkspel"
   ]
  },
  {
   "cell_type": "code",
   "execution_count": 7,
   "id": "10194913",
   "metadata": {},
   "outputs": [],
   "source": [
    "# strengste impact, uitkomst van 1 schepcorner in de match veranderen, is bepalend\n",
    "def schepcorner_impact(df):\n",
    "    results = []\n",
    "\n",
    "    for match_id, match_data in df.groupby(\"wedstrijd_id\"):\n",
    "        uitslag_str = match_data[\"uitslag\"].iloc[0]  # iloc selecteert eerste rij van match_data\n",
    "        score_thuis, score_uit = map(int, uitslag_str.split(\"v\"))  \n",
    "        score_verschil = abs(score_thuis - score_uit)\n",
    "\n",
    "        # Controleer of er een schepcorner is (indien alle is_thuisploeg en goal NA zijn, dan geen schepcorner)\n",
    "        heeft_schepcorner = match_data[\"goal\"].notna().any()\n",
    "\n",
    "        if not heeft_schepcorner:\n",
    "            results.append((match_id, False))  # Geen schepcorner? Geen impact.\n",
    "            continue  \n",
    "\n",
    "        # Gelijkspel: altijd impact als er een schepcorner was\n",
    "        if score_thuis == score_uit:\n",
    "            results.append((match_id, True))\n",
    "            continue\n",
    "\n",
    "        # Bepaal winnaar en verliezer\n",
    "        if score_thuis > score_uit:\n",
    "            winnaar = 1\n",
    "            verliezer = 0\n",
    "        else:\n",
    "            winnaar = 0\n",
    "            verliezer = 1\n",
    "\n",
    "        # Controleer of winnaar minstens één schepcorner scoorde\n",
    "        winnaar_heeft_gescoord = ((match_data[\"is_thuisploeg\"] == winnaar) & (match_data[\"goal\"] == 1)).any()\n",
    "\n",
    "        # Controleer of verliezer minstens één schepcorner miste\n",
    "        verliezer_heeft_gemist = ((match_data[\"is_thuisploeg\"] == verliezer) & (match_data[\"goal\"] == 0)).any()\n",
    "\n",
    "        # Strikte voorwaarde: maximaal 1 verschil en schepcorner moet impact hebben\n",
    "        if score_verschil == 1 and (winnaar_heeft_gescoord or verliezer_heeft_gemist):\n",
    "            results.append((match_id, True))\n",
    "        else:\n",
    "            results.append((match_id, False))\n",
    "\n",
    "    return pd.DataFrame(results, columns=[\"wedstrijd_id\", \"schepcorner_impact\"])"
   ]
  },
  {
   "cell_type": "code",
   "execution_count": 8,
   "id": "cac047c6",
   "metadata": {},
   "outputs": [],
   "source": [
    "strengste_impact_df = schepcorner_impact(merged_df)\n",
    "aantal_matchen_met_strengste_impact = strengste_impact_df[\"schepcorner_impact\"].sum()"
   ]
  },
  {
   "cell_type": "code",
   "execution_count": 9,
   "id": "936f033c",
   "metadata": {},
   "outputs": [
    {
     "name": "stdout",
     "output_type": "stream",
     "text": [
      "Aantal wedstrijden met strengste impact: 59\n",
      "Percentage wedstrijden met strengste impact: 25.54%\n"
     ]
    }
   ],
   "source": [
    "print(f\"Aantal wedstrijden met strengste impact: {aantal_matchen_met_strengste_impact}\")\n",
    "print(f\"Percentage wedstrijden met strengste impact: {aantal_matchen_met_strengste_impact / aantal_wedstrijden * 100:.2f}%\")"
   ]
  },
  {
   "cell_type": "code",
   "execution_count": 10,
   "id": "058e3871",
   "metadata": {},
   "outputs": [
    {
     "data": {
      "text/plain": [
       "[6,\n",
       " 12,\n",
       " 16,\n",
       " 18,\n",
       " 26,\n",
       " 29,\n",
       " 30,\n",
       " 34,\n",
       " 37,\n",
       " 40,\n",
       " 42,\n",
       " 44,\n",
       " 45,\n",
       " 46,\n",
       " 49,\n",
       " 50,\n",
       " 62,\n",
       " 66,\n",
       " 68,\n",
       " 71,\n",
       " 84,\n",
       " 88,\n",
       " 93,\n",
       " 100,\n",
       " 111,\n",
       " 114,\n",
       " 115,\n",
       " 116,\n",
       " 121,\n",
       " 126,\n",
       " 127,\n",
       " 147,\n",
       " 150,\n",
       " 152,\n",
       " 153,\n",
       " 156,\n",
       " 165,\n",
       " 166,\n",
       " 167,\n",
       " 174,\n",
       " 176,\n",
       " 177,\n",
       " 181,\n",
       " 183,\n",
       " 185,\n",
       " 187,\n",
       " 190,\n",
       " 193,\n",
       " 198,\n",
       " 200,\n",
       " 201,\n",
       " 205,\n",
       " 208,\n",
       " 209,\n",
       " 216,\n",
       " 219,\n",
       " 224,\n",
       " 229,\n",
       " 230]"
      ]
     },
     "execution_count": 10,
     "metadata": {},
     "output_type": "execute_result"
    }
   ],
   "source": [
    "# controle\n",
    "wedstrijd_ids_strengste_impact = strengste_impact_df[strengste_impact_df[\"schepcorner_impact\"] == 1][\"wedstrijd_id\"].tolist()\n",
    "wedstrijd_ids_strengste_impact "
   ]
  },
  {
   "cell_type": "code",
   "execution_count": 11,
   "id": "85feb75d",
   "metadata": {},
   "outputs": [
    {
     "data": {
      "text/html": [
       "<div>\n",
       "<style scoped>\n",
       "    .dataframe tbody tr th:only-of-type {\n",
       "        vertical-align: middle;\n",
       "    }\n",
       "\n",
       "    .dataframe tbody tr th {\n",
       "        vertical-align: top;\n",
       "    }\n",
       "\n",
       "    .dataframe thead th {\n",
       "        text-align: right;\n",
       "    }\n",
       "</style>\n",
       "<table border=\"1\" class=\"dataframe\">\n",
       "  <thead>\n",
       "    <tr style=\"text-align: right;\">\n",
       "      <th></th>\n",
       "      <th>wedstrijd_id</th>\n",
       "      <th>uitslag</th>\n",
       "      <th>is_thuisploeg</th>\n",
       "      <th>goal</th>\n",
       "    </tr>\n",
       "  </thead>\n",
       "  <tbody>\n",
       "    <tr>\n",
       "      <th>13</th>\n",
       "      <td>6</td>\n",
       "      <td>7v8</td>\n",
       "      <td>1.0</td>\n",
       "      <td>1.0</td>\n",
       "    </tr>\n",
       "    <tr>\n",
       "      <th>14</th>\n",
       "      <td>6</td>\n",
       "      <td>7v8</td>\n",
       "      <td>1.0</td>\n",
       "      <td>1.0</td>\n",
       "    </tr>\n",
       "    <tr>\n",
       "      <th>15</th>\n",
       "      <td>6</td>\n",
       "      <td>7v8</td>\n",
       "      <td>0.0</td>\n",
       "      <td>1.0</td>\n",
       "    </tr>\n",
       "    <tr>\n",
       "      <th>29</th>\n",
       "      <td>12</td>\n",
       "      <td>5v6</td>\n",
       "      <td>1.0</td>\n",
       "      <td>1.0</td>\n",
       "    </tr>\n",
       "    <tr>\n",
       "      <th>30</th>\n",
       "      <td>12</td>\n",
       "      <td>5v6</td>\n",
       "      <td>0.0</td>\n",
       "      <td>1.0</td>\n",
       "    </tr>\n",
       "    <tr>\n",
       "      <th>...</th>\n",
       "      <td>...</td>\n",
       "      <td>...</td>\n",
       "      <td>...</td>\n",
       "      <td>...</td>\n",
       "    </tr>\n",
       "    <tr>\n",
       "      <th>595</th>\n",
       "      <td>229</td>\n",
       "      <td>6v5</td>\n",
       "      <td>1.0</td>\n",
       "      <td>1.0</td>\n",
       "    </tr>\n",
       "    <tr>\n",
       "      <th>596</th>\n",
       "      <td>230</td>\n",
       "      <td>8v8</td>\n",
       "      <td>1.0</td>\n",
       "      <td>1.0</td>\n",
       "    </tr>\n",
       "    <tr>\n",
       "      <th>597</th>\n",
       "      <td>230</td>\n",
       "      <td>8v8</td>\n",
       "      <td>1.0</td>\n",
       "      <td>1.0</td>\n",
       "    </tr>\n",
       "    <tr>\n",
       "      <th>598</th>\n",
       "      <td>230</td>\n",
       "      <td>8v8</td>\n",
       "      <td>0.0</td>\n",
       "      <td>1.0</td>\n",
       "    </tr>\n",
       "    <tr>\n",
       "      <th>599</th>\n",
       "      <td>230</td>\n",
       "      <td>8v8</td>\n",
       "      <td>0.0</td>\n",
       "      <td>1.0</td>\n",
       "    </tr>\n",
       "  </tbody>\n",
       "</table>\n",
       "<p>167 rows × 4 columns</p>\n",
       "</div>"
      ],
      "text/plain": [
       "     wedstrijd_id uitslag  is_thuisploeg  goal\n",
       "13              6     7v8            1.0   1.0\n",
       "14              6     7v8            1.0   1.0\n",
       "15              6     7v8            0.0   1.0\n",
       "29             12     5v6            1.0   1.0\n",
       "30             12     5v6            0.0   1.0\n",
       "..            ...     ...            ...   ...\n",
       "595           229     6v5            1.0   1.0\n",
       "596           230     8v8            1.0   1.0\n",
       "597           230     8v8            1.0   1.0\n",
       "598           230     8v8            0.0   1.0\n",
       "599           230     8v8            0.0   1.0\n",
       "\n",
       "[167 rows x 4 columns]"
      ]
     },
     "execution_count": 11,
     "metadata": {},
     "output_type": "execute_result"
    }
   ],
   "source": [
    "merged_df[merged_df[\"wedstrijd_id\"].isin(wedstrijd_ids_strengste_impact)][[\"wedstrijd_id\", \"uitslag\", \"is_thuisploeg\", \"goal\"]]"
   ]
  },
  {
   "cell_type": "markdown",
   "id": "fafde86e",
   "metadata": {},
   "source": [
    "### impact op matchuitslagen wanneer er geen schepcorners zouden zijn, of alle gemist zouden zijn."
   ]
  },
  {
   "cell_type": "code",
   "execution_count": 12,
   "id": "2cf4908b",
   "metadata": {},
   "outputs": [],
   "source": [
    "def bepaal_winnaar_verliezer(uitslag_str):\n",
    "    thuis_score, uit_score = map(lambda x: int(float(x)), uitslag_str.split('v'))\n",
    "    \n",
    "    if thuis_score > uit_score:\n",
    "        return 1  # thuisploeg wint\n",
    "    elif uit_score > thuis_score:\n",
    "        return 0  # uitploeg wint\n",
    "    else:\n",
    "        return None  # gelijkspel\n"
   ]
  },
  {
   "cell_type": "code",
   "execution_count": 13,
   "id": "a2f71fbe",
   "metadata": {},
   "outputs": [],
   "source": [
    "def bereken_impact_zonder_schepcorner(df):\n",
    "    impact_lijst = []\n",
    "\n",
    "    for wedstrijd_id, match_data in df.groupby(\"wedstrijd_id\"):\n",
    "        uitslag_str = match_data[\"uitslag\"].iloc[0]\n",
    "        \n",
    "        # Bepaal het aantal schepcorner-goals per ploeg\n",
    "        goals_thuis = match_data[match_data[\"is_thuisploeg\"] == 1][\"goal\"].sum()\n",
    "        goals_uit = match_data[match_data[\"is_thuisploeg\"] == 0][\"goal\"].sum()\n",
    "\n",
    "        # Bereken aangepaste score\n",
    "        thuis_score, uit_score = map(int, uitslag_str.split('v'))\n",
    "        nieuwe_thuis = thuis_score - goals_thuis\n",
    "        nieuwe_uit = uit_score - goals_uit\n",
    "\n",
    "        # Vergelijk oorspronkelijke en aangepaste uitslag\n",
    "        oorspronkelijke = bepaal_winnaar_verliezer(uitslag_str)\n",
    "        nieuwe = bepaal_winnaar_verliezer(f\"{nieuwe_thuis}v{nieuwe_uit}\")\n",
    "        impact = oorspronkelijke != nieuwe\n",
    "\n",
    "        impact_lijst.append({\n",
    "            \"wedstrijd_id\": wedstrijd_id,\n",
    "            \"schepcorner_impact\": impact\n",
    "        })\n",
    "\n",
    "    return pd.DataFrame(impact_lijst)\n"
   ]
  },
  {
   "cell_type": "code",
   "execution_count": 14,
   "id": "bec6a4a0",
   "metadata": {},
   "outputs": [],
   "source": [
    "impact_zonder_schepcorners = bereken_impact_zonder_schepcorner(merged_df)\n",
    "aantal_matchen_met_impact_zonder_schepcorner = impact_zonder_schepcorners[\"schepcorner_impact\"].sum()"
   ]
  },
  {
   "cell_type": "code",
   "execution_count": 15,
   "id": "dc624218",
   "metadata": {},
   "outputs": [
    {
     "name": "stdout",
     "output_type": "stream",
     "text": [
      "Aantal wedstrijden met andere uitslag moesten er geen schepcorners zijn: 42\n",
      "Percentage wedstrijden met andere uitslag moesten er geen schepcorners zijn: 18.18%\n"
     ]
    }
   ],
   "source": [
    "print(f\"Aantal wedstrijden met andere uitslag moesten er geen schepcorners zijn: {aantal_matchen_met_impact_zonder_schepcorner}\")\n",
    "print(f\"Percentage wedstrijden met andere uitslag moesten er geen schepcorners zijn: {aantal_matchen_met_impact_zonder_schepcorner / aantal_wedstrijden * 100:.2f}%\")"
   ]
  },
  {
   "cell_type": "markdown",
   "id": "006cad80",
   "metadata": {},
   "source": [
    "### impact alle schepcorners gescoord\n"
   ]
  },
  {
   "cell_type": "code",
   "execution_count": 16,
   "id": "fd5dfd48",
   "metadata": {},
   "outputs": [],
   "source": [
    "def bereken_schepcorner_impact_als_alle_gescoord(df):\n",
    "    impact_lijst = []\n",
    "\n",
    "    for wedstrijd_id, match_data in df.groupby(\"wedstrijd_id\"):\n",
    "        uitslag_str = match_data[\"uitslag\"].iloc[0]\n",
    "\n",
    "        # Aantal gemiste schepcorners per ploeg\n",
    "        gemist_thuis = ((match_data[\"is_thuisploeg\"] == 1) & (match_data[\"goal\"] == 0)).sum()\n",
    "        gemist_uit = ((match_data[\"is_thuisploeg\"] == 0) & (match_data[\"goal\"] == 0)).sum()\n",
    "\n",
    "        # Score aanpassen alsof elke schepcorner werd gescoord\n",
    "        thuis_score, uit_score = map(int, uitslag_str.split('v'))\n",
    "        nieuwe_thuis = thuis_score + gemist_thuis\n",
    "        nieuwe_uit = uit_score + gemist_uit\n",
    "\n",
    "        # Bepaal winnaar voor en na\n",
    "        oorspronkelijke = bepaal_winnaar_verliezer(f\"{thuis_score}v{uit_score}\")\n",
    "        nieuwe = bepaal_winnaar_verliezer(f\"{nieuwe_thuis}v{nieuwe_uit}\")\n",
    "        impact = oorspronkelijke != nieuwe\n",
    "\n",
    "        impact_lijst.append({\n",
    "            \"wedstrijd_id\": wedstrijd_id,\n",
    "            \"schepcorner_impact\": impact\n",
    "        })\n",
    "\n",
    "    return pd.DataFrame(impact_lijst)\n"
   ]
  },
  {
   "cell_type": "code",
   "execution_count": 17,
   "id": "2889ae9d",
   "metadata": {},
   "outputs": [],
   "source": [
    "impact_alles_gescoord = bereken_schepcorner_impact_als_alle_gescoord(merged_df)\n",
    "aantal_matchen_met_impact_alles_gescoord = impact_alles_gescoord[\"schepcorner_impact\"].sum()"
   ]
  },
  {
   "cell_type": "code",
   "execution_count": 18,
   "id": "1c37c094",
   "metadata": {},
   "outputs": [
    {
     "name": "stdout",
     "output_type": "stream",
     "text": [
      "Aantal wedstrijden met andere uitslag moesten alle schepcorners gescoord worden: 59\n",
      "Percentage wedstrijden met andere uitslag moesten alle schepcorners gescoord worden: 12.12%\n"
     ]
    }
   ],
   "source": [
    "print(f\"Aantal wedstrijden met andere uitslag moesten alle schepcorners gescoord worden: {aantal_matchen_met_strengste_impact}\")\n",
    "print(f\"Percentage wedstrijden met andere uitslag moesten alle schepcorners gescoord worden: {aantal_matchen_met_impact_alles_gescoord / aantal_wedstrijden * 100:.2f}%\")"
   ]
  },
  {
   "cell_type": "markdown",
   "id": "f1bc5730",
   "metadata": {},
   "source": [
    "### schepcorner impact, minst streng berekend\n",
    "Hoeveel wedstrijden hebben een andere uitslag, als alle schepcorners van uitkomst kunnen veranderen"
   ]
  },
  {
   "cell_type": "code",
   "execution_count": 19,
   "id": "81324705",
   "metadata": {},
   "outputs": [],
   "source": [
    "def bereken_schepcorner_impact_mild(df):\n",
    "    impact_lijst = []\n",
    "\n",
    "    for wedstrijd_id, groep in df.groupby(\"wedstrijd_id\"):\n",
    "        uitslag_str = groep[\"uitslag\"].iloc[0]\n",
    "\n",
    "        # Scores omzetten naar integers (voor veiligheid float -> int)\n",
    "        thuis_score, uit_score = map(int, uitslag_str.split('v'))\n",
    "        oorspronkelijke = bepaal_winnaar_verliezer(f\"{thuis_score}v{uit_score}\")\n",
    "\n",
    "        # Tel gescoorde en gemiste corners\n",
    "        gescoord_thuis = ((groep[\"is_thuisploeg\"] == 1) & (groep[\"goal\"] == 1)).sum()\n",
    "        gemist_thuis = ((groep[\"is_thuisploeg\"] == 1) & (groep[\"goal\"] == 0)).sum()\n",
    "        gescoord_uit = ((groep[\"is_thuisploeg\"] == 0) & (groep[\"goal\"] == 1)).sum()\n",
    "        gemist_uit = ((groep[\"is_thuisploeg\"] == 0) & (groep[\"goal\"] == 0)).sum()\n",
    "\n",
    "        # Als gelijkspel en er waren corners → impact\n",
    "        if oorspronkelijke is None and (gescoord_thuis + gemist_thuis + gescoord_uit + gemist_uit) > 0:\n",
    "            impact = True\n",
    "        else:\n",
    "            if oorspronkelijke == 1:\n",
    "                min_win = thuis_score - gescoord_thuis\n",
    "                max_verl = uit_score + gemist_uit\n",
    "            else:\n",
    "                min_win = uit_score - gescoord_uit\n",
    "                max_verl = thuis_score + gemist_thuis\n",
    "\n",
    "            nieuwe = bepaal_winnaar_verliezer(f\"{min_win}v{max_verl}\")\n",
    "            impact = oorspronkelijke != nieuwe\n",
    "\n",
    "        impact_lijst.append({\n",
    "            \"wedstrijd_id\": wedstrijd_id,\n",
    "            \"schepcorner_impact\": impact\n",
    "        })\n",
    "\n",
    "    return pd.DataFrame(impact_lijst)\n"
   ]
  },
  {
   "cell_type": "code",
   "execution_count": 20,
   "id": "6641c606",
   "metadata": {},
   "outputs": [],
   "source": [
    "impact_mild = bereken_schepcorner_impact_mild(merged_df)\n",
    "aantal_matchen_met_impact_mild = impact_mild[\"schepcorner_impact\"].sum()"
   ]
  },
  {
   "cell_type": "code",
   "execution_count": 21,
   "id": "5398fd3c",
   "metadata": {},
   "outputs": [
    {
     "name": "stdout",
     "output_type": "stream",
     "text": [
      "Aantal wedstrijden met andere uitslag moesten alle schepcorners van uitkomst gewijzigd kunnen worden: 139\n",
      "Percentage wedstrijden met andere uitslag moesten alle schepcorners van uitkomst gewijzigd kunnen worden: 60.17%\n"
     ]
    }
   ],
   "source": [
    "print(f\"Aantal wedstrijden met andere uitslag moesten alle schepcorners van uitkomst gewijzigd kunnen worden: {aantal_matchen_met_impact_mild}\")\n",
    "print(f\"Percentage wedstrijden met andere uitslag moesten alle schepcorners van uitkomst gewijzigd kunnen worden: {aantal_matchen_met_impact_mild / aantal_wedstrijden * 100:.2f}%\")"
   ]
  },
  {
   "cell_type": "markdown",
   "id": "d087c957",
   "metadata": {},
   "source": [
    "### Nu kunnen we ook checken of corners missen/scoren sleutelmomenten zijn"
   ]
  },
  {
   "cell_type": "code",
   "execution_count": 22,
   "id": "99f883f4",
   "metadata": {},
   "outputs": [
    {
     "data": {
      "text/plain": [
       "Index(['wedstrijd_id', 'datum', 'niveau', 'uitslag', 'corners_uitslag',\n",
       "       'klassement_uitslag', 'schepcorner_id', 'ploegnaam',\n",
       "       'ervaring_schepper', 'ervaring_kopper', 'ervaring_duo', 'is_thuisploeg',\n",
       "       'kwart', 'is_schepper_bank', 'is_kopper_bank', 'score_voor',\n",
       "       'schepper_pos_rechts', 'positie', 'kop_verplaatsen_achter',\n",
       "       'kop_veel_verplaatsen', 'kop_hor_verplaatsen', 'goal'],\n",
       "      dtype='object')"
      ]
     },
     "execution_count": 22,
     "metadata": {},
     "output_type": "execute_result"
    }
   ],
   "source": [
    "merged_df.columns"
   ]
  },
  {
   "cell_type": "code",
   "execution_count": 23,
   "id": "5dfe4a63",
   "metadata": {},
   "outputs": [
    {
     "data": {
      "text/html": [
       "<div>\n",
       "<style scoped>\n",
       "    .dataframe tbody tr th:only-of-type {\n",
       "        vertical-align: middle;\n",
       "    }\n",
       "\n",
       "    .dataframe tbody tr th {\n",
       "        vertical-align: top;\n",
       "    }\n",
       "\n",
       "    .dataframe thead th {\n",
       "        text-align: right;\n",
       "    }\n",
       "</style>\n",
       "<table border=\"1\" class=\"dataframe\">\n",
       "  <thead>\n",
       "    <tr style=\"text-align: right;\">\n",
       "      <th></th>\n",
       "      <th>wedstrijd_id</th>\n",
       "      <th>uitslag</th>\n",
       "      <th>schepcorner_id</th>\n",
       "      <th>is_thuisploeg</th>\n",
       "      <th>score_voor</th>\n",
       "      <th>goal</th>\n",
       "    </tr>\n",
       "  </thead>\n",
       "  <tbody>\n",
       "    <tr>\n",
       "      <th>0</th>\n",
       "      <td>1</td>\n",
       "      <td>4v1</td>\n",
       "      <td>1.0</td>\n",
       "      <td>1.0</td>\n",
       "      <td>0v0</td>\n",
       "      <td>1.0</td>\n",
       "    </tr>\n",
       "    <tr>\n",
       "      <th>1</th>\n",
       "      <td>1</td>\n",
       "      <td>4v1</td>\n",
       "      <td>2.0</td>\n",
       "      <td>1.0</td>\n",
       "      <td>2v0</td>\n",
       "      <td>0.0</td>\n",
       "    </tr>\n",
       "    <tr>\n",
       "      <th>2</th>\n",
       "      <td>1</td>\n",
       "      <td>4v1</td>\n",
       "      <td>3.0</td>\n",
       "      <td>0.0</td>\n",
       "      <td>2v0</td>\n",
       "      <td>0.0</td>\n",
       "    </tr>\n",
       "    <tr>\n",
       "      <th>3</th>\n",
       "      <td>2</td>\n",
       "      <td>11v2</td>\n",
       "      <td>4.0</td>\n",
       "      <td>1.0</td>\n",
       "      <td>4v1</td>\n",
       "      <td>0.0</td>\n",
       "    </tr>\n",
       "    <tr>\n",
       "      <th>4</th>\n",
       "      <td>2</td>\n",
       "      <td>11v2</td>\n",
       "      <td>5.0</td>\n",
       "      <td>0.0</td>\n",
       "      <td>5v2</td>\n",
       "      <td>0.0</td>\n",
       "    </tr>\n",
       "  </tbody>\n",
       "</table>\n",
       "</div>"
      ],
      "text/plain": [
       "   wedstrijd_id uitslag  schepcorner_id  is_thuisploeg score_voor  goal\n",
       "0             1     4v1             1.0            1.0        0v0   1.0\n",
       "1             1     4v1             2.0            1.0        2v0   0.0\n",
       "2             1     4v1             3.0            0.0        2v0   0.0\n",
       "3             2    11v2             4.0            1.0        4v1   0.0\n",
       "4             2    11v2             5.0            0.0        5v2   0.0"
      ]
     },
     "execution_count": 23,
     "metadata": {},
     "output_type": "execute_result"
    }
   ],
   "source": [
    "merged_df[[\"wedstrijd_id\", \"uitslag\", \"schepcorner_id\", \"is_thuisploeg\", \"score_voor\", \"goal\"]].head()"
   ]
  },
  {
   "cell_type": "markdown",
   "id": "3c1096d3",
   "metadata": {},
   "source": [
    "### hypothese, missen schepcorner leidt tot momentum_verlies. "
   ]
  },
  {
   "cell_type": "code",
   "execution_count": 1,
   "id": "5bd7db6a",
   "metadata": {},
   "outputs": [],
   "source": [
    "def bepaal_sleutelmomenten_schepcorners(df):\n",
    "    sleutelmomenten = []\n",
    "\n",
    "    for wedstrijd_id, match_data in df.groupby(\"wedstrijd_id\"):\n",
    "        match_data = match_data.sort_values(\"schepcorner_id\").reset_index(drop=True)\n",
    "\n",
    "        # Eindscore parsen\n",
    "        eind_thuis, eind_uit = map(int, match_data[\"uitslag\"].iloc[0].split('v'))\n",
    "\n",
    "        for i, rij in match_data.iterrows():\n",
    "            if rij[\"goal\"] != 0:\n",
    "                continue  # Alleen gemiste schepcorners analyseren\n",
    "\n",
    "            # Score vóór de corner\n",
    "            thuis_voor, uit_voor = map(int, rij[\"score_voor\"].split('v'))\n",
    "            verschil_voor = thuis_voor - uit_voor\n",
    "\n",
    "            # Score ná de corner: volgende snapshot of eindstand\n",
    "            if i + 1 < len(match_data):\n",
    "                thuis_na, uit_na = map(int, match_data.loc[i + 1, \"score_voor\"].split('v'))\n",
    "            else:\n",
    "                thuis_na, uit_na = eind_thuis, eind_uit\n",
    "            verschil_na = thuis_na - uit_na\n",
    "\n",
    "            delta = verschil_voor - verschil_na\n",
    "\n",
    "            # Impact bepalen volgens ploeg\n",
    "            if rij[\"is_thuisploeg\"] == 1:\n",
    "                sleutelmoment = delta > 0\n",
    "            else:\n",
    "                sleutelmoment = delta < 0\n",
    "\n",
    "            \n",
    "            ongewijzigd = int(delta == 0)\n",
    "            positief_momentum = int((not sleutelmoment) and (not ongewijzigd))\n",
    "\n",
    "            sleutelmomenten.append({\n",
    "                \"wedstrijd_id\": wedstrijd_id,\n",
    "                \"schepcorner_id\": rij[\"schepcorner_id\"],\n",
    "                \"negatief_momentum\": int(sleutelmoment),\n",
    "                \"ongewijzigd\": ongewijzigd,\n",
    "                \"positief_momentum\": positief_momentum\n",
    "            })\n",
    "\n",
    "    return pd.DataFrame(sleutelmomenten)\n"
   ]
  },
  {
   "cell_type": "code",
   "execution_count": 27,
   "id": "0da650e8",
   "metadata": {},
   "outputs": [],
   "source": [
    "impact_missen = bepaal_sleutelmomenten_schepcorners(merged_df)\n",
    "aantal_neg_mom = impact_missen[\"negatief_momentum\"].sum()\n",
    "aantal_ongewijzigd = impact_missen[\"ongewijzigd\"].sum()\n",
    "aantal_pos_mom = impact_missen[\"positief_momentum\"].sum()"
   ]
  },
  {
   "cell_type": "code",
   "execution_count": 28,
   "id": "176614ff",
   "metadata": {},
   "outputs": [
    {
     "name": "stdout",
     "output_type": "stream",
     "text": [
      "Aantal schepcorners gemist: 204\n",
      "Aantal gemiste schepcorners die leiden tot momentum verlies: 52\n",
      "Percentage gemiste schepcorners die leiden tot momentum verlies: 25.49%\n",
      "--------------------------------------------------\n",
      "Aantal gemiste schepcorners die leiden tot ongewijzigd momentum: 95\n",
      "Percentage gemiste schepcorners die leiden tot ongewijzigd momentum: 46.57%\n",
      "--------------------------------------------------\n",
      "Aantal gemiste schepcorners die leiden tot momentum winst: 57\n",
      "Percentage gemiste schepcorners die leiden tot momentum winst: 27.94%\n"
     ]
    }
   ],
   "source": [
    "print(f\"Aantal schepcorners gemist: {merged_df[merged_df['goal'] == 0].shape[0]}\")\n",
    "print(f\"Aantal gemiste schepcorners die leiden tot momentum verlies: {aantal_neg_mom}\")\n",
    "print(f\"Percentage gemiste schepcorners die leiden tot momentum verlies: {aantal_neg_mom / merged_df[merged_df['goal'] == 0].shape[0] * 100:.2f}%\")\n",
    "print(\"-\" * 50)\n",
    "print(f\"Aantal gemiste schepcorners die leiden tot ongewijzigd momentum: {aantal_ongewijzigd}\")\n",
    "print(f\"Percentage gemiste schepcorners die leiden tot ongewijzigd momentum: {aantal_ongewijzigd / merged_df[merged_df['goal'] == 0].shape[0] * 100:.2f}%\")\n",
    "print(\"-\" * 50)\n",
    "print(f\"Aantal gemiste schepcorners die leiden tot momentum winst: {aantal_pos_mom}\")\n",
    "print(f\"Percentage gemiste schepcorners die leiden tot momentum winst: {aantal_pos_mom / merged_df[merged_df['goal'] == 0].shape[0] * 100:.2f}%\")"
   ]
  },
  {
   "cell_type": "code",
   "execution_count": 49,
   "id": "efa9807a",
   "metadata": {},
   "outputs": [],
   "source": [
    "def plot_momentum_barchart(aantal_pos_mom, aantal_ongewijzigd, aantal_neg_mom, titel=\"Momentum na gemiste schepcorners\", hoogte=10):\n",
    "    \n",
    "    # Data voorbereiden\n",
    "    totaal = aantal_pos_mom + aantal_ongewijzigd + aantal_neg_mom\n",
    "    df = pd.DataFrame({\n",
    "        'momentum': ['Positief', 'Ongewijzigd', 'Negatief'],\n",
    "        'aantal': [aantal_pos_mom, aantal_ongewijzigd, aantal_neg_mom]\n",
    "    })\n",
    "    df['percentage'] = df['aantal'] / totaal * 100\n",
    "\n",
    "    # Academische stijl instellen\n",
    "    sns.set_theme(style=\"whitegrid\", font_scale=1.2, rc={\n",
    "        'axes.edgecolor': 'black',\n",
    "        'axes.labelweight': 'bold',\n",
    "        'axes.titlesize': 14,\n",
    "        'axes.labelsize': 12,\n",
    "        'xtick.labelsize': 11,\n",
    "        'ytick.labelsize': 11,\n",
    "        'font.family': 'serif'\n",
    "    })\n",
    "\n",
    "    # Plot aanmaken\n",
    "    plt.figure(figsize=(8, 6))\n",
    "    ax = sns.barplot(\n",
    "        data=df,\n",
    "        x='momentum',\n",
    "        y='aantal',\n",
    "        color='grey',\n",
    "        edgecolor='black'\n",
    "    )\n",
    "\n",
    "    # Annotaties toevoegen met percentages\n",
    "    for i, row in df.iterrows():\n",
    "        ax.text(i, row['aantal'] + 2, f\"{row['percentage']:.2f}%\", \n",
    "                ha='center', va='bottom', fontsize=11, weight='bold')\n",
    "\n",
    "    # Titels en labels instellen\n",
    "    plt.title(titel)\n",
    "    plt.xlabel('Type momentum')\n",
    "    plt.ylabel('Aantal schepcorners')\n",
    "    plt.ylim(0, df[\"aantal\"].max() + hoogte)\n",
    "\n",
    "    plt.tight_layout()\n",
    "    plt.show()"
   ]
  },
  {
   "cell_type": "code",
   "execution_count": 50,
   "id": "7d21acc4",
   "metadata": {},
   "outputs": [
    {
     "data": {
      "image/png": "[encoded data removed]",
      "text/plain": [
       "<Figure size 800x600 with 1 Axes>"
      ]
     },
     "metadata": {},
     "output_type": "display_data"
    }
   ],
   "source": [
    "plot_momentum_barchart(aantal_pos_mom, aantal_ongewijzigd, aantal_neg_mom, titel=\"Momentum na gemiste schepcorners\")"
   ]
  },
  {
   "cell_type": "markdown",
   "id": "85781503",
   "metadata": {},
   "source": [
    "### positieve impact na gescoorde corner."
   ]
  },
  {
   "cell_type": "code",
   "execution_count": 29,
   "id": "16eccd10",
   "metadata": {},
   "outputs": [],
   "source": [
    "def bepaal_sleutelmomenten_gescoorde_schepcorners(df):\n",
    "    sleutelmomenten = []\n",
    "\n",
    "    for wedstrijd_id, groep in df.groupby(\"wedstrijd_id\"):\n",
    "        groep = groep.sort_values(\"schepcorner_id\").reset_index(drop=True)\n",
    "\n",
    "        # Eindscore parsen\n",
    "        eind_thuis, eind_uit = map(int, groep[\"uitslag\"].iloc[0].split('v'))\n",
    "\n",
    "        for i, rij in groep.iterrows():\n",
    "            if rij[\"goal\"] != 1:\n",
    "                continue  # Alleen gescoorde schepcorners analyseren\n",
    "\n",
    "            # Score vóór de corner, goal direct bijtellen\n",
    "            thuis_voor, uit_voor = map(int, rij[\"score_voor\"].split('v'))\n",
    "            if rij[\"is_thuisploeg\"] == 1:\n",
    "                thuis_voor += 1\n",
    "            else:\n",
    "                uit_voor += 1\n",
    "            verschil_voor = thuis_voor - uit_voor\n",
    "\n",
    "            # Score ná de corner: volgende snapshot of eindstand\n",
    "            if i + 1 < len(groep):\n",
    "                thuis_na, uit_na = map(int, groep.loc[i + 1, \"score_voor\"].split('v'))\n",
    "            else:\n",
    "                thuis_na, uit_na = eind_thuis, eind_uit\n",
    "            verschil_na = thuis_na - uit_na\n",
    "\n",
    "            delta = verschil_na - verschil_voor\n",
    "\n",
    "            # Impact bepalen volgens ploeg\n",
    "            if rij[\"is_thuisploeg\"] == 1:\n",
    "                sleutelmoment = delta > 0\n",
    "            else:\n",
    "                sleutelmoment = delta < 0\n",
    "\n",
    "            ongewijzigd = int(delta == 0)\n",
    "            negatief_momentum = int((not sleutelmoment) and (not ongewijzigd))\n",
    "\n",
    "            sleutelmomenten.append({\n",
    "                \"wedstrijd_id\": wedstrijd_id,\n",
    "                \"schepcorner_id\": rij[\"schepcorner_id\"],\n",
    "                \"positief_momentum\": int(sleutelmoment),\n",
    "                \"ongewijzigd\": ongewijzigd,\n",
    "                \"negatief_momentum\": negatief_momentum\n",
    "            })\n",
    "\n",
    "    return pd.DataFrame(sleutelmomenten)"
   ]
  },
  {
   "cell_type": "code",
   "execution_count": 31,
   "id": "85cb6e22",
   "metadata": {},
   "outputs": [],
   "source": [
    "impact_scoren = bepaal_sleutelmomenten_gescoorde_schepcorners(merged_df)\n",
    "aantal_pos_mom_score = impact_scoren[\"positief_momentum\"].sum()\n",
    "aantal_ongewijzigd_score = impact_scoren[\"ongewijzigd\"].sum()\n",
    "aantal_neg_mom_score = impact_scoren[\"negatief_momentum\"].sum()"
   ]
  },
  {
   "cell_type": "code",
   "execution_count": 32,
   "id": "a2a559f7",
   "metadata": {},
   "outputs": [
    {
     "name": "stdout",
     "output_type": "stream",
     "text": [
      "Aantal schepcorners gemist: 399\n",
      "Aantal gescoorde schepcorners die leiden tot momentum boost: 143\n",
      "Percentage gescoorde schepcorners die leiden tot momentum boost: 35.84%\n",
      "--------------------------------------------------\n",
      "Aantal gescoorde schepcorners die leiden tot ongewijzigd momentum: 147\n",
      "Percentage gescoorde schepcorners die leiden tot ongewijzigd momentum: 36.84%\n",
      "--------------------------------------------------\n",
      "Aantal gescoorde schepcorners die leiden tot momentum verlies: 109\n",
      "Percentage gescoorde schepcorners die leiden tot momentum verlies: 27.32%\n"
     ]
    }
   ],
   "source": [
    "print(f\"Aantal schepcorners gemist: {merged_df[merged_df['goal'] == 1].shape[0]}\")\n",
    "print(f\"Aantal gescoorde schepcorners die leiden tot momentum boost: {aantal_pos_mom_score}\")\n",
    "print(f\"Percentage gescoorde schepcorners die leiden tot momentum boost: {aantal_pos_mom_score / merged_df[merged_df['goal'] == 1].shape[0] * 100:.2f}%\")\n",
    "print(\"-\" * 50)\n",
    "print(f\"Aantal gescoorde schepcorners die leiden tot ongewijzigd momentum: {aantal_ongewijzigd_score}\")\n",
    "print(f\"Percentage gescoorde schepcorners die leiden tot ongewijzigd momentum: {aantal_ongewijzigd_score / merged_df[merged_df['goal'] == 1].shape[0] * 100:.2f}%\")\n",
    "print(\"-\" * 50)\n",
    "print(f\"Aantal gescoorde schepcorners die leiden tot momentum verlies: {aantal_neg_mom_score}\")\n",
    "print(f\"Percentage gescoorde schepcorners die leiden tot momentum verlies: {aantal_neg_mom_score / merged_df[merged_df['goal'] == 1].shape[0] * 100:.2f}%\")"
   ]
  },
  {
   "cell_type": "code",
   "execution_count": 51,
   "id": "fefe4f48",
   "metadata": {},
   "outputs": [
    {
     "data": {
      "image/png": "[encoded data removed]",
      "text/plain": [
       "<Figure size 800x600 with 1 Axes>"
      ]
     },
     "metadata": {},
     "output_type": "display_data"
    }
   ],
   "source": [
    "plot_momentum_barchart(aantal_pos_mom_score, aantal_ongewijzigd_score, aantal_neg_mom_score, titel=\"Momentum na gescoorde schepcorners\", hoogte=10)"
   ]
  },
  {
   "cell_type": "code",
   "execution_count": 54,
   "id": "b0a48d61",
   "metadata": {},
   "outputs": [],
   "source": [
    "### Algemeen momentum, kunnen we gebruiken om significantie te checken\n",
    "def bepaal_algemeen_momentum_schepcorners(df):\n",
    "    resultaten = []\n",
    "\n",
    "    for wedstrijd_id, groep in df.groupby(\"wedstrijd_id\"):\n",
    "        groep = groep.sort_values(\"schepcorner_id\").reset_index(drop=True)\n",
    "\n",
    "        # Eindscore\n",
    "        eind_thuis, eind_uit = map(int, groep[\"uitslag\"].iloc[0].split('v'))\n",
    "\n",
    "        for i, rij in groep.iterrows():\n",
    "            if pd.isna(rij[\"score_voor\"]):\n",
    "                continue  # of: sla dit rijtje over\n",
    "            thuis_voor, uit_voor = map(int, rij[\"score_voor\"].split('v'))\n",
    "\n",
    "            # Bij doelpunt: tel de goal direct bij score_voor\n",
    "            if rij[\"goal\"] == 1:\n",
    "                if rij[\"is_thuisploeg\"] == 1:\n",
    "                    thuis_voor += 1\n",
    "                else:\n",
    "                    uit_voor += 1\n",
    "\n",
    "            verschil_voor = thuis_voor - uit_voor\n",
    "\n",
    "            # Score ná de schepcorner: volgende snapshot of eindstand\n",
    "            if i + 1 < len(groep):\n",
    "                thuis_na, uit_na = map(int, groep.loc[i + 1, \"score_voor\"].split('v'))\n",
    "            else:\n",
    "                thuis_na, uit_na = eind_thuis, eind_uit\n",
    "\n",
    "            verschil_na = thuis_na - uit_na\n",
    "\n",
    "            # Delta\n",
    "            delta = verschil_na - verschil_voor\n",
    "\n",
    "            # Positief momentum: score verbetert\n",
    "            if rij[\"is_thuisploeg\"] == 1:\n",
    "                positief_momentum = delta > 0\n",
    "            else:\n",
    "                positief_momentum = delta < 0\n",
    "\n",
    "            # Extra categorisatie\n",
    "            ongewijzigd = int(delta == 0)\n",
    "            negatief_momentum = int((not positief_momentum) and (not ongewijzigd))\n",
    "\n",
    "            resultaten.append({\n",
    "                \"wedstrijd_id\": wedstrijd_id,\n",
    "                \"schepcorner_id\": rij[\"schepcorner_id\"],\n",
    "                \"positief_momentum\": int(positief_momentum),\n",
    "                \"ongewijzigd\": ongewijzigd,\n",
    "                \"negatief_momentum\": negatief_momentum\n",
    "            })\n",
    "\n",
    "    return pd.DataFrame(resultaten)\n"
   ]
  },
  {
   "cell_type": "code",
   "execution_count": 57,
   "id": "936c5ba8",
   "metadata": {},
   "outputs": [],
   "source": [
    "algemeen_mom = bepaal_algemeen_momentum_schepcorners(merged_df)"
   ]
  },
  {
   "cell_type": "code",
   "execution_count": 58,
   "id": "bdccb1fb",
   "metadata": {},
   "outputs": [
    {
     "name": "stdout",
     "output_type": "stream",
     "text": [
      "Aantal schepcorners met positief momentum: 200\n",
      "Percentage schepcorners met positief momentum: 33.17%\n",
      "--------------------------------------------------\n",
      "Aantal schepcorners met ongewijzigd momentum: 242\n",
      "Percentage schepcorners met ongewijzigd momentum: 40.13%\n",
      "--------------------------------------------------\n",
      "Aantal schepcorners met negatief momentum: 161\n",
      "Percentage schepcorners met negatief momentum: 26.70%\n"
     ]
    }
   ],
   "source": [
    "alg_pos_mom = algemeen_mom[\"positief_momentum\"].sum()\n",
    "alg_ongewijzigd = algemeen_mom[\"ongewijzigd\"].sum()\n",
    "alg_neg_mom = algemeen_mom[\"negatief_momentum\"].sum()\n",
    "print(f\"Aantal schepcorners met positief momentum: {alg_pos_mom}\")\n",
    "print(f\"Percentage schepcorners met positief momentum: {alg_pos_mom / algemeen_mom.shape[0] * 100:.2f}%\")\n",
    "print(\"-\" * 50)\n",
    "print(f\"Aantal schepcorners met ongewijzigd momentum: {alg_ongewijzigd}\")\n",
    "print(f\"Percentage schepcorners met ongewijzigd momentum: {alg_ongewijzigd / algemeen_mom.shape[0] * 100:.2f}%\")\n",
    "print(\"-\" * 50)\n",
    "print(f\"Aantal schepcorners met negatief momentum: {alg_neg_mom}\")\n",
    "print(f\"Percentage schepcorners met negatief momentum: {alg_neg_mom / algemeen_mom.shape[0] * 100:.2f}%\")"
   ]
  },
  {
   "cell_type": "code",
   "execution_count": 60,
   "id": "8c0853d0",
   "metadata": {},
   "outputs": [
    {
     "data": {
      "image/png": "[encoded data removed]",
      "text/plain": [
       "<Figure size 800x600 with 1 Axes>"
      ]
     },
     "metadata": {},
     "output_type": "display_data"
    }
   ],
   "source": [
    "plot_momentum_barchart(alg_pos_mom, alg_ongewijzigd, alg_neg_mom, titel=\"Algemeen momentum na schepcorners\", hoogte=15)"
   ]
  },
  {
   "cell_type": "code",
   "execution_count": null,
   "id": "5428c7b4",
   "metadata": {},
   "outputs": [],
   "source": [
    "### verklaring meer positief momentum in algemeen, winnaars hebben meer schepcorners en scoren dus meer => meer positief momentum\n",
    "# zie einde statistiek"
   ]
  },
  {
   "cell_type": "code",
   "execution_count": 61,
   "id": "1e24c194",
   "metadata": {},
   "outputs": [],
   "source": [
    "# checken of er meer negatief momentum dan verwacht is na missen van schepcorners\n",
    "from statsmodels.stats.proportion import proportions_ztest "
   ]
  },
  {
   "cell_type": "code",
   "execution_count": null,
   "id": "4132630e",
   "metadata": {},
   "outputs": [
    {
     "name": "stdout",
     "output_type": "stream",
     "text": [
      "Z-statistiek: -0.396\n",
      "p-waarde: 0.6541\n"
     ]
    }
   ],
   "source": [
    "# meer negatief momentum na missen van schepcorners dan verwacht\n",
    "aantal_gemist = merged_df[merged_df[\"goal\"] == 0].shape[0]\n",
    "aantal_gescoord = merged_df[merged_df[\"goal\"] == 1].shape[0]\n",
    "\n",
    "p0 = alg_neg_mom / algemeen_mom.shape[0]\n",
    "\n",
    "stat, pval = proportions_ztest(count=aantal_neg_mom, nobs=aantal_gemist, value=p0, alternative='larger')\n",
    "\n",
    "print(f\"Z-statistiek: {stat:.3f}\")\n",
    "print(f\"p-waarde: {pval:.4f}\")\n"
   ]
  },
  {
   "cell_type": "code",
   "execution_count": 64,
   "id": "9f0d8973",
   "metadata": {},
   "outputs": [
    {
     "name": "stdout",
     "output_type": "stream",
     "text": [
      "Z-statistiek: 1.113\n",
      "p-waarde: 0.1328\n"
     ]
    }
   ],
   "source": [
    "# meer positief momentum na scoren van schepcorners dan verwacht\n",
    "\n",
    "p0 = alg_pos_mom / algemeen_mom.shape[0]\n",
    "stat, pval = proportions_ztest(count=aantal_pos_mom_score, nobs=aantal_gescoord, value=p0, alternative='larger')\n",
    "print(f\"Z-statistiek: {stat:.3f}\")\n",
    "print(f\"p-waarde: {pval:.4f}\")"
   ]
  },
  {
   "cell_type": "markdown",
   "id": "b7231fb1",
   "metadata": {},
   "source": [
    "Heel lage percentages, kan zijn omdat schepcorners vaak dicht op elkaar volgen en daardoor er nog niet echt tijd is voor een groot verschil van boost"
   ]
  },
  {
   "cell_type": "markdown",
   "id": "2fe0657d",
   "metadata": {},
   "source": [
    "### wat gebeurt er als er 3 of 5 corners nodig zijn om een schepcorner te verkrijgen"
   ]
  },
  {
   "cell_type": "code",
   "execution_count": 114,
   "id": "f39a40b4",
   "metadata": {},
   "outputs": [
    {
     "data": {
      "text/html": [
       "<div>\n",
       "<style scoped>\n",
       "    .dataframe tbody tr th:only-of-type {\n",
       "        vertical-align: middle;\n",
       "    }\n",
       "\n",
       "    .dataframe tbody tr th {\n",
       "        vertical-align: top;\n",
       "    }\n",
       "\n",
       "    .dataframe thead th {\n",
       "        text-align: right;\n",
       "    }\n",
       "</style>\n",
       "<table border=\"1\" class=\"dataframe\">\n",
       "  <thead>\n",
       "    <tr style=\"text-align: right;\">\n",
       "      <th></th>\n",
       "      <th>wedstrijd_id</th>\n",
       "      <th>schepcorner_id</th>\n",
       "      <th>is_thuisploeg</th>\n",
       "      <th>corners_uitslag</th>\n",
       "    </tr>\n",
       "  </thead>\n",
       "  <tbody>\n",
       "    <tr>\n",
       "      <th>0</th>\n",
       "      <td>1</td>\n",
       "      <td>1.0</td>\n",
       "      <td>1.0</td>\n",
       "      <td>2v1</td>\n",
       "    </tr>\n",
       "    <tr>\n",
       "      <th>1</th>\n",
       "      <td>1</td>\n",
       "      <td>2.0</td>\n",
       "      <td>1.0</td>\n",
       "      <td>2v1</td>\n",
       "    </tr>\n",
       "    <tr>\n",
       "      <th>2</th>\n",
       "      <td>1</td>\n",
       "      <td>3.0</td>\n",
       "      <td>0.0</td>\n",
       "      <td>2v1</td>\n",
       "    </tr>\n",
       "    <tr>\n",
       "      <th>3</th>\n",
       "      <td>2</td>\n",
       "      <td>4.0</td>\n",
       "      <td>1.0</td>\n",
       "      <td>2v1</td>\n",
       "    </tr>\n",
       "    <tr>\n",
       "      <th>4</th>\n",
       "      <td>2</td>\n",
       "      <td>5.0</td>\n",
       "      <td>0.0</td>\n",
       "      <td>2v1</td>\n",
       "    </tr>\n",
       "    <tr>\n",
       "      <th>...</th>\n",
       "      <td>...</td>\n",
       "      <td>...</td>\n",
       "      <td>...</td>\n",
       "      <td>...</td>\n",
       "    </tr>\n",
       "    <tr>\n",
       "      <th>599</th>\n",
       "      <td>230</td>\n",
       "      <td>599.0</td>\n",
       "      <td>0.0</td>\n",
       "      <td>NaN</td>\n",
       "    </tr>\n",
       "    <tr>\n",
       "      <th>600</th>\n",
       "      <td>231</td>\n",
       "      <td>600.0</td>\n",
       "      <td>0.0</td>\n",
       "      <td>NaN</td>\n",
       "    </tr>\n",
       "    <tr>\n",
       "      <th>601</th>\n",
       "      <td>231</td>\n",
       "      <td>601.0</td>\n",
       "      <td>0.0</td>\n",
       "      <td>NaN</td>\n",
       "    </tr>\n",
       "    <tr>\n",
       "      <th>602</th>\n",
       "      <td>231</td>\n",
       "      <td>602.0</td>\n",
       "      <td>0.0</td>\n",
       "      <td>NaN</td>\n",
       "    </tr>\n",
       "    <tr>\n",
       "      <th>603</th>\n",
       "      <td>231</td>\n",
       "      <td>603.0</td>\n",
       "      <td>1.0</td>\n",
       "      <td>NaN</td>\n",
       "    </tr>\n",
       "  </tbody>\n",
       "</table>\n",
       "<p>604 rows × 4 columns</p>\n",
       "</div>"
      ],
      "text/plain": [
       "     wedstrijd_id  schepcorner_id  is_thuisploeg corners_uitslag\n",
       "0               1             1.0            1.0             2v1\n",
       "1               1             2.0            1.0             2v1\n",
       "2               1             3.0            0.0             2v1\n",
       "3               2             4.0            1.0             2v1\n",
       "4               2             5.0            0.0             2v1\n",
       "..            ...             ...            ...             ...\n",
       "599           230           599.0            0.0             NaN\n",
       "600           231           600.0            0.0             NaN\n",
       "601           231           601.0            0.0             NaN\n",
       "602           231           602.0            0.0             NaN\n",
       "603           231           603.0            1.0             NaN\n",
       "\n",
       "[604 rows x 4 columns]"
      ]
     },
     "execution_count": 114,
     "metadata": {},
     "output_type": "execute_result"
    }
   ],
   "source": [
    "copy_df = merged_df[[\"wedstrijd_id\", \"schepcorner_id\", \"is_thuisploeg\", \"corners_uitslag\"]].copy()\n",
    "copy_df\n"
   ]
  },
  {
   "cell_type": "code",
   "execution_count": 115,
   "id": "d849a741",
   "metadata": {},
   "outputs": [],
   "source": [
    "copy_df = copy_df[copy_df[\"corners_uitslag\"].notna()]"
   ]
  },
  {
   "cell_type": "code",
   "execution_count": 116,
   "id": "136507d1",
   "metadata": {},
   "outputs": [],
   "source": [
    "# Stap 1: Tel aantal schepcorners per thuis/uitploeg per wedstrijd\n",
    "aantal_per_ploeg = copy_df.groupby(['wedstrijd_id', 'is_thuisploeg']).size().unstack(fill_value=0)\n",
    "aantal_per_ploeg.columns = ['aantal_schepcorners_uit', 'aantal_schepcorners_thuis']  # 0.0 = uit, 1.0 = thuis\n",
    "\n",
    "# Stap 2: Merge terug naar origineel DataFrame\n",
    "copy_df = copy_df.merge(aantal_per_ploeg, on='wedstrijd_id', how='left')"
   ]
  },
  {
   "cell_type": "code",
   "execution_count": 117,
   "id": "8730a61c",
   "metadata": {},
   "outputs": [
    {
     "data": {
      "text/html": [
       "<div>\n",
       "<style scoped>\n",
       "    .dataframe tbody tr th:only-of-type {\n",
       "        vertical-align: middle;\n",
       "    }\n",
       "\n",
       "    .dataframe tbody tr th {\n",
       "        vertical-align: top;\n",
       "    }\n",
       "\n",
       "    .dataframe thead th {\n",
       "        text-align: right;\n",
       "    }\n",
       "</style>\n",
       "<table border=\"1\" class=\"dataframe\">\n",
       "  <thead>\n",
       "    <tr style=\"text-align: right;\">\n",
       "      <th></th>\n",
       "      <th>wedstrijd_id</th>\n",
       "      <th>schepcorner_id</th>\n",
       "      <th>is_thuisploeg</th>\n",
       "      <th>corners_uitslag</th>\n",
       "      <th>aantal_schepcorners_uit</th>\n",
       "      <th>aantal_schepcorners_thuis</th>\n",
       "    </tr>\n",
       "  </thead>\n",
       "  <tbody>\n",
       "    <tr>\n",
       "      <th>0</th>\n",
       "      <td>1</td>\n",
       "      <td>1.0</td>\n",
       "      <td>1.0</td>\n",
       "      <td>2v1</td>\n",
       "      <td>1</td>\n",
       "      <td>2</td>\n",
       "    </tr>\n",
       "    <tr>\n",
       "      <th>1</th>\n",
       "      <td>1</td>\n",
       "      <td>2.0</td>\n",
       "      <td>1.0</td>\n",
       "      <td>2v1</td>\n",
       "      <td>1</td>\n",
       "      <td>2</td>\n",
       "    </tr>\n",
       "    <tr>\n",
       "      <th>2</th>\n",
       "      <td>1</td>\n",
       "      <td>3.0</td>\n",
       "      <td>0.0</td>\n",
       "      <td>2v1</td>\n",
       "      <td>1</td>\n",
       "      <td>2</td>\n",
       "    </tr>\n",
       "    <tr>\n",
       "      <th>3</th>\n",
       "      <td>2</td>\n",
       "      <td>4.0</td>\n",
       "      <td>1.0</td>\n",
       "      <td>2v1</td>\n",
       "      <td>2</td>\n",
       "      <td>1</td>\n",
       "    </tr>\n",
       "    <tr>\n",
       "      <th>4</th>\n",
       "      <td>2</td>\n",
       "      <td>5.0</td>\n",
       "      <td>0.0</td>\n",
       "      <td>2v1</td>\n",
       "      <td>2</td>\n",
       "      <td>1</td>\n",
       "    </tr>\n",
       "    <tr>\n",
       "      <th>...</th>\n",
       "      <td>...</td>\n",
       "      <td>...</td>\n",
       "      <td>...</td>\n",
       "      <td>...</td>\n",
       "      <td>...</td>\n",
       "      <td>...</td>\n",
       "    </tr>\n",
       "    <tr>\n",
       "      <th>391</th>\n",
       "      <td>213</td>\n",
       "      <td>546.0</td>\n",
       "      <td>1.0</td>\n",
       "      <td>2v2</td>\n",
       "      <td>1</td>\n",
       "      <td>1</td>\n",
       "    </tr>\n",
       "    <tr>\n",
       "      <th>392</th>\n",
       "      <td>214</td>\n",
       "      <td>547.0</td>\n",
       "      <td>1.0</td>\n",
       "      <td>2v2</td>\n",
       "      <td>1</td>\n",
       "      <td>1</td>\n",
       "    </tr>\n",
       "    <tr>\n",
       "      <th>393</th>\n",
       "      <td>214</td>\n",
       "      <td>548.0</td>\n",
       "      <td>0.0</td>\n",
       "      <td>2v2</td>\n",
       "      <td>1</td>\n",
       "      <td>1</td>\n",
       "    </tr>\n",
       "    <tr>\n",
       "      <th>394</th>\n",
       "      <td>216</td>\n",
       "      <td>553.0</td>\n",
       "      <td>0.0</td>\n",
       "      <td>3v3</td>\n",
       "      <td>1</td>\n",
       "      <td>1</td>\n",
       "    </tr>\n",
       "    <tr>\n",
       "      <th>395</th>\n",
       "      <td>216</td>\n",
       "      <td>554.0</td>\n",
       "      <td>1.0</td>\n",
       "      <td>3v3</td>\n",
       "      <td>1</td>\n",
       "      <td>1</td>\n",
       "    </tr>\n",
       "  </tbody>\n",
       "</table>\n",
       "<p>396 rows × 6 columns</p>\n",
       "</div>"
      ],
      "text/plain": [
       "     wedstrijd_id  schepcorner_id  is_thuisploeg corners_uitslag  \\\n",
       "0               1             1.0            1.0             2v1   \n",
       "1               1             2.0            1.0             2v1   \n",
       "2               1             3.0            0.0             2v1   \n",
       "3               2             4.0            1.0             2v1   \n",
       "4               2             5.0            0.0             2v1   \n",
       "..            ...             ...            ...             ...   \n",
       "391           213           546.0            1.0             2v2   \n",
       "392           214           547.0            1.0             2v2   \n",
       "393           214           548.0            0.0             2v2   \n",
       "394           216           553.0            0.0             3v3   \n",
       "395           216           554.0            1.0             3v3   \n",
       "\n",
       "     aantal_schepcorners_uit  aantal_schepcorners_thuis  \n",
       "0                          1                          2  \n",
       "1                          1                          2  \n",
       "2                          1                          2  \n",
       "3                          2                          1  \n",
       "4                          2                          1  \n",
       "..                       ...                        ...  \n",
       "391                        1                          1  \n",
       "392                        1                          1  \n",
       "393                        1                          1  \n",
       "394                        1                          1  \n",
       "395                        1                          1  \n",
       "\n",
       "[396 rows x 6 columns]"
      ]
     },
     "execution_count": 117,
     "metadata": {},
     "output_type": "execute_result"
    }
   ],
   "source": [
    "copy_df"
   ]
  },
  {
   "cell_type": "code",
   "execution_count": 119,
   "id": "3a139ce6",
   "metadata": {},
   "outputs": [],
   "source": [
    "# Eerst splitten we corners_uitslag in twee aparte kolommen (thuis en uit)\n",
    "copy_df[['corners_thuis', 'corners_uit']] = copy_df['corners_uitslag'].str.split('v', expand=True).astype(int)\n",
    "\n",
    "# Nu berekenen we het totale aantal corners per ploeg\n",
    "copy_df['aantal_corners_thuis'] = copy_df['aantal_schepcorners_thuis'] * 4 + copy_df['corners_thuis']\n",
    "copy_df['aantal_corners_uit'] = copy_df['aantal_schepcorners_uit'] * 4 + copy_df['corners_uit']"
   ]
  },
  {
   "cell_type": "code",
   "execution_count": 124,
   "id": "12614ead",
   "metadata": {},
   "outputs": [
    {
     "data": {
      "text/html": [
       "<div>\n",
       "<style scoped>\n",
       "    .dataframe tbody tr th:only-of-type {\n",
       "        vertical-align: middle;\n",
       "    }\n",
       "\n",
       "    .dataframe tbody tr th {\n",
       "        vertical-align: top;\n",
       "    }\n",
       "\n",
       "    .dataframe thead th {\n",
       "        text-align: right;\n",
       "    }\n",
       "</style>\n",
       "<table border=\"1\" class=\"dataframe\">\n",
       "  <thead>\n",
       "    <tr style=\"text-align: right;\">\n",
       "      <th></th>\n",
       "      <th>wedstrijd_id</th>\n",
       "      <th>schepcorner_id</th>\n",
       "      <th>is_thuisploeg</th>\n",
       "      <th>corners_uitslag</th>\n",
       "      <th>aantal_schepcorners_uit</th>\n",
       "      <th>aantal_schepcorners_thuis</th>\n",
       "      <th>corners_thuis</th>\n",
       "      <th>corners_uit</th>\n",
       "      <th>aantal_corners_thuis</th>\n",
       "      <th>aantal_corners_uit</th>\n",
       "    </tr>\n",
       "  </thead>\n",
       "  <tbody>\n",
       "    <tr>\n",
       "      <th>0</th>\n",
       "      <td>1</td>\n",
       "      <td>1.0</td>\n",
       "      <td>1.0</td>\n",
       "      <td>2v1</td>\n",
       "      <td>1</td>\n",
       "      <td>2</td>\n",
       "      <td>2</td>\n",
       "      <td>1</td>\n",
       "      <td>10</td>\n",
       "      <td>5</td>\n",
       "    </tr>\n",
       "    <tr>\n",
       "      <th>1</th>\n",
       "      <td>1</td>\n",
       "      <td>2.0</td>\n",
       "      <td>1.0</td>\n",
       "      <td>2v1</td>\n",
       "      <td>1</td>\n",
       "      <td>2</td>\n",
       "      <td>2</td>\n",
       "      <td>1</td>\n",
       "      <td>10</td>\n",
       "      <td>5</td>\n",
       "    </tr>\n",
       "    <tr>\n",
       "      <th>2</th>\n",
       "      <td>1</td>\n",
       "      <td>3.0</td>\n",
       "      <td>0.0</td>\n",
       "      <td>2v1</td>\n",
       "      <td>1</td>\n",
       "      <td>2</td>\n",
       "      <td>2</td>\n",
       "      <td>1</td>\n",
       "      <td>10</td>\n",
       "      <td>5</td>\n",
       "    </tr>\n",
       "    <tr>\n",
       "      <th>3</th>\n",
       "      <td>2</td>\n",
       "      <td>4.0</td>\n",
       "      <td>1.0</td>\n",
       "      <td>2v1</td>\n",
       "      <td>2</td>\n",
       "      <td>1</td>\n",
       "      <td>2</td>\n",
       "      <td>1</td>\n",
       "      <td>6</td>\n",
       "      <td>9</td>\n",
       "    </tr>\n",
       "    <tr>\n",
       "      <th>4</th>\n",
       "      <td>2</td>\n",
       "      <td>5.0</td>\n",
       "      <td>0.0</td>\n",
       "      <td>2v1</td>\n",
       "      <td>2</td>\n",
       "      <td>1</td>\n",
       "      <td>2</td>\n",
       "      <td>1</td>\n",
       "      <td>6</td>\n",
       "      <td>9</td>\n",
       "    </tr>\n",
       "  </tbody>\n",
       "</table>\n",
       "</div>"
      ],
      "text/plain": [
       "   wedstrijd_id  schepcorner_id  is_thuisploeg corners_uitslag  \\\n",
       "0             1             1.0            1.0             2v1   \n",
       "1             1             2.0            1.0             2v1   \n",
       "2             1             3.0            0.0             2v1   \n",
       "3             2             4.0            1.0             2v1   \n",
       "4             2             5.0            0.0             2v1   \n",
       "\n",
       "   aantal_schepcorners_uit  aantal_schepcorners_thuis  corners_thuis  \\\n",
       "0                        1                          2              2   \n",
       "1                        1                          2              2   \n",
       "2                        1                          2              2   \n",
       "3                        2                          1              2   \n",
       "4                        2                          1              2   \n",
       "\n",
       "   corners_uit  aantal_corners_thuis  aantal_corners_uit  \n",
       "0            1                    10                   5  \n",
       "1            1                    10                   5  \n",
       "2            1                    10                   5  \n",
       "3            1                     6                   9  \n",
       "4            1                     6                   9  "
      ]
     },
     "execution_count": 124,
     "metadata": {},
     "output_type": "execute_result"
    }
   ],
   "source": [
    "copy_df.head()"
   ]
  },
  {
   "cell_type": "code",
   "execution_count": 125,
   "id": "bbf5d869",
   "metadata": {},
   "outputs": [],
   "source": [
    "aantal_corners_df = copy_df.drop_duplicates(subset='wedstrijd_id', keep='first').reset_index()[[\"wedstrijd_id\", \"aantal_schepcorners_uit\", \"aantal_schepcorners_thuis\", \"aantal_corners_thuis\", \"aantal_corners_uit\"]]\n"
   ]
  },
  {
   "cell_type": "code",
   "execution_count": 126,
   "id": "37537138",
   "metadata": {},
   "outputs": [
    {
     "data": {
      "text/html": [
       "<div>\n",
       "<style scoped>\n",
       "    .dataframe tbody tr th:only-of-type {\n",
       "        vertical-align: middle;\n",
       "    }\n",
       "\n",
       "    .dataframe tbody tr th {\n",
       "        vertical-align: top;\n",
       "    }\n",
       "\n",
       "    .dataframe thead th {\n",
       "        text-align: right;\n",
       "    }\n",
       "</style>\n",
       "<table border=\"1\" class=\"dataframe\">\n",
       "  <thead>\n",
       "    <tr style=\"text-align: right;\">\n",
       "      <th></th>\n",
       "      <th>wedstrijd_id</th>\n",
       "      <th>aantal_schepcorners_uit</th>\n",
       "      <th>aantal_schepcorners_thuis</th>\n",
       "      <th>aantal_corners_thuis</th>\n",
       "      <th>aantal_corners_uit</th>\n",
       "    </tr>\n",
       "  </thead>\n",
       "  <tbody>\n",
       "    <tr>\n",
       "      <th>0</th>\n",
       "      <td>1</td>\n",
       "      <td>1</td>\n",
       "      <td>2</td>\n",
       "      <td>10</td>\n",
       "      <td>5</td>\n",
       "    </tr>\n",
       "    <tr>\n",
       "      <th>1</th>\n",
       "      <td>2</td>\n",
       "      <td>2</td>\n",
       "      <td>1</td>\n",
       "      <td>6</td>\n",
       "      <td>9</td>\n",
       "    </tr>\n",
       "    <tr>\n",
       "      <th>2</th>\n",
       "      <td>3</td>\n",
       "      <td>2</td>\n",
       "      <td>2</td>\n",
       "      <td>9</td>\n",
       "      <td>9</td>\n",
       "    </tr>\n",
       "    <tr>\n",
       "      <th>3</th>\n",
       "      <td>4</td>\n",
       "      <td>0</td>\n",
       "      <td>1</td>\n",
       "      <td>5</td>\n",
       "      <td>3</td>\n",
       "    </tr>\n",
       "    <tr>\n",
       "      <th>4</th>\n",
       "      <td>5</td>\n",
       "      <td>1</td>\n",
       "      <td>1</td>\n",
       "      <td>4</td>\n",
       "      <td>6</td>\n",
       "    </tr>\n",
       "  </tbody>\n",
       "</table>\n",
       "</div>"
      ],
      "text/plain": [
       "   wedstrijd_id  aantal_schepcorners_uit  aantal_schepcorners_thuis  \\\n",
       "0             1                        1                          2   \n",
       "1             2                        2                          1   \n",
       "2             3                        2                          2   \n",
       "3             4                        0                          1   \n",
       "4             5                        1                          1   \n",
       "\n",
       "   aantal_corners_thuis  aantal_corners_uit  \n",
       "0                    10                   5  \n",
       "1                     6                   9  \n",
       "2                     9                   9  \n",
       "3                     5                   3  \n",
       "4                     4                   6  "
      ]
     },
     "execution_count": 126,
     "metadata": {},
     "output_type": "execute_result"
    }
   ],
   "source": [
    "aantal_corners_df.head()"
   ]
  },
  {
   "cell_type": "code",
   "execution_count": 129,
   "id": "c9f57472",
   "metadata": {},
   "outputs": [],
   "source": [
    "aantal_corners_df[\"totaal_schepcorners\"] = aantal_corners_df[\"aantal_schepcorners_uit\"] + aantal_corners_df[\"aantal_schepcorners_thuis\"]\n",
    "\n",
    "# hoeveel schepcorners zouden er zijn als je per 3 corners 1 schepcorner krijgt?\n",
    "aantal_corners_df[\"totaal_schepcorners_3\"] = aantal_corners_df[\"aantal_corners_thuis\"] // 3 + aantal_corners_df[\"aantal_corners_uit\"] // 3\n",
    "\n",
    "# hoeveel per 5 corners 1 schepcorner?\n",
    "aantal_corners_df[\"totaal_schepcorners_5\"] = aantal_corners_df[\"aantal_corners_thuis\"] // 5 + aantal_corners_df[\"aantal_corners_uit\"] // 5"
   ]
  },
  {
   "cell_type": "code",
   "execution_count": 130,
   "id": "cfb46439",
   "metadata": {},
   "outputs": [
    {
     "data": {
      "text/html": [
       "<div>\n",
       "<style scoped>\n",
       "    .dataframe tbody tr th:only-of-type {\n",
       "        vertical-align: middle;\n",
       "    }\n",
       "\n",
       "    .dataframe tbody tr th {\n",
       "        vertical-align: top;\n",
       "    }\n",
       "\n",
       "    .dataframe thead th {\n",
       "        text-align: right;\n",
       "    }\n",
       "</style>\n",
       "<table border=\"1\" class=\"dataframe\">\n",
       "  <thead>\n",
       "    <tr style=\"text-align: right;\">\n",
       "      <th></th>\n",
       "      <th>wedstrijd_id</th>\n",
       "      <th>aantal_schepcorners_uit</th>\n",
       "      <th>aantal_schepcorners_thuis</th>\n",
       "      <th>aantal_corners_thuis</th>\n",
       "      <th>aantal_corners_uit</th>\n",
       "      <th>totaal_schepcorners</th>\n",
       "      <th>totaal_schepcorners_3</th>\n",
       "      <th>totaal_schepcorners_5</th>\n",
       "    </tr>\n",
       "  </thead>\n",
       "  <tbody>\n",
       "    <tr>\n",
       "      <th>0</th>\n",
       "      <td>1</td>\n",
       "      <td>1</td>\n",
       "      <td>2</td>\n",
       "      <td>10</td>\n",
       "      <td>5</td>\n",
       "      <td>3</td>\n",
       "      <td>4</td>\n",
       "      <td>3</td>\n",
       "    </tr>\n",
       "    <tr>\n",
       "      <th>1</th>\n",
       "      <td>2</td>\n",
       "      <td>2</td>\n",
       "      <td>1</td>\n",
       "      <td>6</td>\n",
       "      <td>9</td>\n",
       "      <td>3</td>\n",
       "      <td>5</td>\n",
       "      <td>2</td>\n",
       "    </tr>\n",
       "    <tr>\n",
       "      <th>2</th>\n",
       "      <td>3</td>\n",
       "      <td>2</td>\n",
       "      <td>2</td>\n",
       "      <td>9</td>\n",
       "      <td>9</td>\n",
       "      <td>4</td>\n",
       "      <td>6</td>\n",
       "      <td>2</td>\n",
       "    </tr>\n",
       "    <tr>\n",
       "      <th>3</th>\n",
       "      <td>4</td>\n",
       "      <td>0</td>\n",
       "      <td>1</td>\n",
       "      <td>5</td>\n",
       "      <td>3</td>\n",
       "      <td>1</td>\n",
       "      <td>2</td>\n",
       "      <td>1</td>\n",
       "    </tr>\n",
       "    <tr>\n",
       "      <th>4</th>\n",
       "      <td>5</td>\n",
       "      <td>1</td>\n",
       "      <td>1</td>\n",
       "      <td>4</td>\n",
       "      <td>6</td>\n",
       "      <td>2</td>\n",
       "      <td>3</td>\n",
       "      <td>1</td>\n",
       "    </tr>\n",
       "  </tbody>\n",
       "</table>\n",
       "</div>"
      ],
      "text/plain": [
       "   wedstrijd_id  aantal_schepcorners_uit  aantal_schepcorners_thuis  \\\n",
       "0             1                        1                          2   \n",
       "1             2                        2                          1   \n",
       "2             3                        2                          2   \n",
       "3             4                        0                          1   \n",
       "4             5                        1                          1   \n",
       "\n",
       "   aantal_corners_thuis  aantal_corners_uit  totaal_schepcorners  \\\n",
       "0                    10                   5                    3   \n",
       "1                     6                   9                    3   \n",
       "2                     9                   9                    4   \n",
       "3                     5                   3                    1   \n",
       "4                     4                   6                    2   \n",
       "\n",
       "   totaal_schepcorners_3  totaal_schepcorners_5  \n",
       "0                      4                      3  \n",
       "1                      5                      2  \n",
       "2                      6                      2  \n",
       "3                      2                      1  \n",
       "4                      3                      1  "
      ]
     },
     "execution_count": 130,
     "metadata": {},
     "output_type": "execute_result"
    }
   ],
   "source": [
    "aantal_corners_df.head()"
   ]
  },
  {
   "cell_type": "code",
   "execution_count": 139,
   "id": "d24330e1",
   "metadata": {},
   "outputs": [
    {
     "name": "stdout",
     "output_type": "stream",
     "text": [
      "Totaal aantal van schepcorners (4 corners voor 1): 396.\n",
      "Totaal aantal van schepcorners (3 corners voor 1): 596.\n",
      "Totaal aantal van schepcorners (5 corners voor 1): 297.\n",
      "We verwachten 200 schepcorners meer als we 3 corners voor 1 schepcorner rekenen. Dus dat is 50.505050505050505% meer corners \n",
      "We verwachten 99 schepcorners minder als we 5 corners voor 1 schepcorner rekenen. Dus dat is 25.0% minder corners \n"
     ]
    }
   ],
   "source": [
    "# origineele aantal schepcorners, bij 3 en bij 5\n",
    "tot_schep = aantal_corners_df[\"totaal_schepcorners\"].sum()\n",
    "tot_schep_3 = aantal_corners_df[\"totaal_schepcorners_3\"].sum()\n",
    "tot_schep_5 = aantal_corners_df[\"totaal_schepcorners_5\"].sum()\n",
    "\n",
    "print(f\"Totaal aantal van schepcorners (4 corners voor 1): {tot_schep}.\")\n",
    "print(f\"Totaal aantal van schepcorners (3 corners voor 1): {tot_schep_3}.\")\n",
    "print(f\"Totaal aantal van schepcorners (5 corners voor 1): {tot_schep_5}.\")\n",
    "\n",
    "print(f\"We verwachten {tot_schep_3 - tot_schep} schepcorners meer als we 3 corners voor 1 schepcorner rekenen. Dus dat is {((tot_schep_3 - tot_schep)/tot_schep)*100}% meer corners \")\n",
    "print(f\"We verwachten {tot_schep - tot_schep_5} schepcorners minder als we 5 corners voor 1 schepcorner rekenen. Dus dat is {((tot_schep - tot_schep_5)/tot_schep)*100}% minder corners \")\n",
    "\n",
    "\n"
   ]
  }
 ],
 "metadata": {
  "kernelspec": {
   "display_name": "Python 3",
   "language": "python",
   "name": "python3"
  },
  "language_info": {
   "codemirror_mode": {
    "name": "ipython",
    "version": 3
   },
   "file_extension": ".py",
   "mimetype": "text/x-python",
   "name": "python",
   "nbconvert_exporter": "python",
   "pygments_lexer": "ipython3",
   "version": "3.11.9"
  }
 },
 "nbformat": 4,
 "nbformat_minor": 5
}
