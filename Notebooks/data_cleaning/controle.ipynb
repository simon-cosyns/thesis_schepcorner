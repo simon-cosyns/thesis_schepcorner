{
 "cells": [
  {
   "cell_type": "code",
   "execution_count": 13,
   "id": "13bd8165",
   "metadata": {},
   "outputs": [],
   "source": [
    "import pandas as pd\n"
   ]
  },
  {
   "cell_type": "code",
   "execution_count": 14,
   "id": "b21f806b",
   "metadata": {},
   "outputs": [],
   "source": [
    "# read in data\n",
    "wedstrijden = pd.read_excel('../../Data/Silver/wedstrijden_cleaned.xlsx')\n",
    "corners = pd.read_excel('../../Data/Silver/cornerballen_cleaned.xlsx')\n",
    "\n",
    "controle_wed = pd.read_excel('../../Data/Bronze/wedstrijden_controle.xlsx')\n",
    "controle_corners = pd.read_excel('../../Data/Bronze/corners_controle.xlsx')"
   ]
  },
  {
   "cell_type": "code",
   "execution_count": 15,
   "id": "75acb27d",
   "metadata": {},
   "outputs": [],
   "source": [
    "merged_df = pd.merge(wedstrijden, corners, on='wedstrijd_id', how='left')\n",
    "\n",
    "merged_controle = pd.merge(controle_wed, controle_corners, on='wedstrijd_id', how='left')"
   ]
  },
  {
   "cell_type": "code",
   "execution_count": 16,
   "id": "bf6ac06b",
   "metadata": {},
   "outputs": [
    {
     "data": {
      "text/plain": [
       "Index(['wedstrijd_id', 'datum', 'niveau', 'uitslag', 'corners_uitslag',\n",
       "       'klassement_uitslag', 'schepcorner_id', 'ploegnaam',\n",
       "       'ervaring_schepper', 'ervaring_kopper', 'ervaring_duo', 'is_thuisploeg',\n",
       "       'kwart', 'is_schepper_bank', 'is_kopper_bank', 'score_voor',\n",
       "       'schepper_pos_rechts', 'positie', 'kop_verplaatsen_achter',\n",
       "       'kop_veel_verplaatsen', 'kop_hor_verplaatsen', 'goal'],\n",
       "      dtype='object')"
      ]
     },
     "execution_count": 16,
     "metadata": {},
     "output_type": "execute_result"
    }
   ],
   "source": [
    "merged_controle.columns"
   ]
  },
  {
   "cell_type": "markdown",
   "id": "55988f12",
   "metadata": {},
   "source": [
    "### controle van enquetekwaliteit"
   ]
  },
  {
   "cell_type": "code",
   "execution_count": 17,
   "id": "20fa008c",
   "metadata": {},
   "outputs": [
    {
     "data": {
      "text/html": [
       "<div>\n",
       "<style scoped>\n",
       "    .dataframe tbody tr th:only-of-type {\n",
       "        vertical-align: middle;\n",
       "    }\n",
       "\n",
       "    .dataframe tbody tr th {\n",
       "        vertical-align: top;\n",
       "    }\n",
       "\n",
       "    .dataframe thead th {\n",
       "        text-align: right;\n",
       "    }\n",
       "</style>\n",
       "<table border=\"1\" class=\"dataframe\">\n",
       "  <thead>\n",
       "    <tr style=\"text-align: right;\">\n",
       "      <th></th>\n",
       "      <th>wedstrijd_id_x</th>\n",
       "      <th>datum</th>\n",
       "      <th>niveau_x</th>\n",
       "      <th>uitslag_x</th>\n",
       "      <th>corners_uitslag_x</th>\n",
       "      <th>klassement_uitslag_x</th>\n",
       "      <th>schepcorner_id_x</th>\n",
       "      <th>ploegnaam</th>\n",
       "      <th>ervaring_schepper_x</th>\n",
       "      <th>ervaring_kopper_x</th>\n",
       "      <th>...</th>\n",
       "      <th>kwart_y</th>\n",
       "      <th>is_schepper_bank_y</th>\n",
       "      <th>is_kopper_bank_y</th>\n",
       "      <th>score_voor_y</th>\n",
       "      <th>schepper_pos_rechts_y</th>\n",
       "      <th>positie_y</th>\n",
       "      <th>kop_verplaatsen_achter_y</th>\n",
       "      <th>kop_veel_verplaatsen_y</th>\n",
       "      <th>kop_hor_verplaatsen_y</th>\n",
       "      <th>goal_y</th>\n",
       "    </tr>\n",
       "  </thead>\n",
       "  <tbody>\n",
       "    <tr>\n",
       "      <th>0</th>\n",
       "      <td>9</td>\n",
       "      <td>2024-09-02</td>\n",
       "      <td>1</td>\n",
       "      <td>4v5</td>\n",
       "      <td>1v1</td>\n",
       "      <td>8v15</td>\n",
       "      <td>22.0</td>\n",
       "      <td>citadel park rangers</td>\n",
       "      <td>NaN</td>\n",
       "      <td>NaN</td>\n",
       "      <td>...</td>\n",
       "      <td>2</td>\n",
       "      <td>0</td>\n",
       "      <td>0</td>\n",
       "      <td>0v2</td>\n",
       "      <td>1</td>\n",
       "      <td>2</td>\n",
       "      <td>0</td>\n",
       "      <td>0</td>\n",
       "      <td>0</td>\n",
       "      <td>1</td>\n",
       "    </tr>\n",
       "    <tr>\n",
       "      <th>1</th>\n",
       "      <td>9</td>\n",
       "      <td>2024-09-02</td>\n",
       "      <td>1</td>\n",
       "      <td>4v5</td>\n",
       "      <td>1v1</td>\n",
       "      <td>8v15</td>\n",
       "      <td>22.0</td>\n",
       "      <td>citadel park rangers</td>\n",
       "      <td>NaN</td>\n",
       "      <td>NaN</td>\n",
       "      <td>...</td>\n",
       "      <td>3</td>\n",
       "      <td>0</td>\n",
       "      <td>0</td>\n",
       "      <td>1v2</td>\n",
       "      <td>1</td>\n",
       "      <td>2</td>\n",
       "      <td>0</td>\n",
       "      <td>0</td>\n",
       "      <td>0</td>\n",
       "      <td>1</td>\n",
       "    </tr>\n",
       "    <tr>\n",
       "      <th>2</th>\n",
       "      <td>9</td>\n",
       "      <td>2024-09-02</td>\n",
       "      <td>1</td>\n",
       "      <td>4v5</td>\n",
       "      <td>1v1</td>\n",
       "      <td>8v15</td>\n",
       "      <td>23.0</td>\n",
       "      <td>citadel park rangers</td>\n",
       "      <td>NaN</td>\n",
       "      <td>NaN</td>\n",
       "      <td>...</td>\n",
       "      <td>2</td>\n",
       "      <td>0</td>\n",
       "      <td>0</td>\n",
       "      <td>0v2</td>\n",
       "      <td>1</td>\n",
       "      <td>2</td>\n",
       "      <td>0</td>\n",
       "      <td>0</td>\n",
       "      <td>0</td>\n",
       "      <td>1</td>\n",
       "    </tr>\n",
       "    <tr>\n",
       "      <th>3</th>\n",
       "      <td>9</td>\n",
       "      <td>2024-09-02</td>\n",
       "      <td>1</td>\n",
       "      <td>4v5</td>\n",
       "      <td>1v1</td>\n",
       "      <td>8v15</td>\n",
       "      <td>23.0</td>\n",
       "      <td>citadel park rangers</td>\n",
       "      <td>NaN</td>\n",
       "      <td>NaN</td>\n",
       "      <td>...</td>\n",
       "      <td>3</td>\n",
       "      <td>0</td>\n",
       "      <td>0</td>\n",
       "      <td>1v2</td>\n",
       "      <td>1</td>\n",
       "      <td>2</td>\n",
       "      <td>0</td>\n",
       "      <td>0</td>\n",
       "      <td>0</td>\n",
       "      <td>1</td>\n",
       "    </tr>\n",
       "    <tr>\n",
       "      <th>4</th>\n",
       "      <td>32</td>\n",
       "      <td>2025-04-02</td>\n",
       "      <td>4</td>\n",
       "      <td>6v4</td>\n",
       "      <td>2v1</td>\n",
       "      <td>3v4</td>\n",
       "      <td>76.0</td>\n",
       "      <td>fc spitbulls</td>\n",
       "      <td>3.0</td>\n",
       "      <td>3.0</td>\n",
       "      <td>...</td>\n",
       "      <td>2</td>\n",
       "      <td>0</td>\n",
       "      <td>0</td>\n",
       "      <td>1v0</td>\n",
       "      <td>0</td>\n",
       "      <td>2</td>\n",
       "      <td>0</td>\n",
       "      <td>0</td>\n",
       "      <td>0</td>\n",
       "      <td>1</td>\n",
       "    </tr>\n",
       "    <tr>\n",
       "      <th>...</th>\n",
       "      <td>...</td>\n",
       "      <td>...</td>\n",
       "      <td>...</td>\n",
       "      <td>...</td>\n",
       "      <td>...</td>\n",
       "      <td>...</td>\n",
       "      <td>...</td>\n",
       "      <td>...</td>\n",
       "      <td>...</td>\n",
       "      <td>...</td>\n",
       "      <td>...</td>\n",
       "      <td>...</td>\n",
       "      <td>...</td>\n",
       "      <td>...</td>\n",
       "      <td>...</td>\n",
       "      <td>...</td>\n",
       "      <td>...</td>\n",
       "      <td>...</td>\n",
       "      <td>...</td>\n",
       "      <td>...</td>\n",
       "      <td>...</td>\n",
       "    </tr>\n",
       "    <tr>\n",
       "      <th>80</th>\n",
       "      <td>171</td>\n",
       "      <td>2024-12-12</td>\n",
       "      <td>2</td>\n",
       "      <td>3v10</td>\n",
       "      <td>2v0</td>\n",
       "      <td>14v11</td>\n",
       "      <td>441.0</td>\n",
       "      <td>vvks sint lieven</td>\n",
       "      <td>NaN</td>\n",
       "      <td>NaN</td>\n",
       "      <td>...</td>\n",
       "      <td>3</td>\n",
       "      <td>0</td>\n",
       "      <td>0</td>\n",
       "      <td>3v8</td>\n",
       "      <td>1</td>\n",
       "      <td>5</td>\n",
       "      <td>0</td>\n",
       "      <td>1</td>\n",
       "      <td>1</td>\n",
       "      <td>0</td>\n",
       "    </tr>\n",
       "    <tr>\n",
       "      <th>81</th>\n",
       "      <td>171</td>\n",
       "      <td>2024-12-12</td>\n",
       "      <td>2</td>\n",
       "      <td>3v10</td>\n",
       "      <td>2v0</td>\n",
       "      <td>14v11</td>\n",
       "      <td>442.0</td>\n",
       "      <td>spectex</td>\n",
       "      <td>NaN</td>\n",
       "      <td>NaN</td>\n",
       "      <td>...</td>\n",
       "      <td>1</td>\n",
       "      <td>1</td>\n",
       "      <td>0</td>\n",
       "      <td>0v2</td>\n",
       "      <td>1</td>\n",
       "      <td>5</td>\n",
       "      <td>0</td>\n",
       "      <td>0</td>\n",
       "      <td>0</td>\n",
       "      <td>1</td>\n",
       "    </tr>\n",
       "    <tr>\n",
       "      <th>82</th>\n",
       "      <td>171</td>\n",
       "      <td>2024-12-12</td>\n",
       "      <td>2</td>\n",
       "      <td>3v10</td>\n",
       "      <td>2v0</td>\n",
       "      <td>14v11</td>\n",
       "      <td>442.0</td>\n",
       "      <td>spectex</td>\n",
       "      <td>NaN</td>\n",
       "      <td>NaN</td>\n",
       "      <td>...</td>\n",
       "      <td>2</td>\n",
       "      <td>0</td>\n",
       "      <td>0</td>\n",
       "      <td>1v4</td>\n",
       "      <td>1</td>\n",
       "      <td>5</td>\n",
       "      <td>0</td>\n",
       "      <td>1</td>\n",
       "      <td>1</td>\n",
       "      <td>1</td>\n",
       "    </tr>\n",
       "    <tr>\n",
       "      <th>83</th>\n",
       "      <td>171</td>\n",
       "      <td>2024-12-12</td>\n",
       "      <td>2</td>\n",
       "      <td>3v10</td>\n",
       "      <td>2v0</td>\n",
       "      <td>14v11</td>\n",
       "      <td>442.0</td>\n",
       "      <td>spectex</td>\n",
       "      <td>NaN</td>\n",
       "      <td>NaN</td>\n",
       "      <td>...</td>\n",
       "      <td>4</td>\n",
       "      <td>1</td>\n",
       "      <td>0</td>\n",
       "      <td>3v9</td>\n",
       "      <td>1</td>\n",
       "      <td>5</td>\n",
       "      <td>0</td>\n",
       "      <td>0</td>\n",
       "      <td>1</td>\n",
       "      <td>1</td>\n",
       "    </tr>\n",
       "    <tr>\n",
       "      <th>84</th>\n",
       "      <td>172</td>\n",
       "      <td>2024-12-12</td>\n",
       "      <td>4</td>\n",
       "      <td>4v2</td>\n",
       "      <td>3v3</td>\n",
       "      <td>8v12</td>\n",
       "      <td>443.0</td>\n",
       "      <td>olé olé</td>\n",
       "      <td>2.0</td>\n",
       "      <td>2.0</td>\n",
       "      <td>...</td>\n",
       "      <td>3</td>\n",
       "      <td>0</td>\n",
       "      <td>0</td>\n",
       "      <td>3v1</td>\n",
       "      <td>1</td>\n",
       "      <td>4</td>\n",
       "      <td>0</td>\n",
       "      <td>0</td>\n",
       "      <td>1</td>\n",
       "      <td>0</td>\n",
       "    </tr>\n",
       "  </tbody>\n",
       "</table>\n",
       "<p>85 rows × 42 columns</p>\n",
       "</div>"
      ],
      "text/plain": [
       "    wedstrijd_id_x      datum niveau_x uitslag_x corners_uitslag_x  \\\n",
       "0                9 2024-09-02        1       4v5               1v1   \n",
       "1                9 2024-09-02        1       4v5               1v1   \n",
       "2                9 2024-09-02        1       4v5               1v1   \n",
       "3                9 2024-09-02        1       4v5               1v1   \n",
       "4               32 2025-04-02        4       6v4               2v1   \n",
       "..             ...        ...      ...       ...               ...   \n",
       "80             171 2024-12-12        2      3v10               2v0   \n",
       "81             171 2024-12-12        2      3v10               2v0   \n",
       "82             171 2024-12-12        2      3v10               2v0   \n",
       "83             171 2024-12-12        2      3v10               2v0   \n",
       "84             172 2024-12-12        4       4v2               3v3   \n",
       "\n",
       "   klassement_uitslag_x  schepcorner_id_x             ploegnaam  \\\n",
       "0                  8v15              22.0  citadel park rangers   \n",
       "1                  8v15              22.0  citadel park rangers   \n",
       "2                  8v15              23.0  citadel park rangers   \n",
       "3                  8v15              23.0  citadel park rangers   \n",
       "4                   3v4              76.0          fc spitbulls   \n",
       "..                  ...               ...                   ...   \n",
       "80                14v11             441.0      vvks sint lieven   \n",
       "81                14v11             442.0               spectex   \n",
       "82                14v11             442.0               spectex   \n",
       "83                14v11             442.0               spectex   \n",
       "84                 8v12             443.0               olé olé   \n",
       "\n",
       "    ervaring_schepper_x  ervaring_kopper_x  ...  kwart_y  is_schepper_bank_y  \\\n",
       "0                   NaN                NaN  ...        2                   0   \n",
       "1                   NaN                NaN  ...        3                   0   \n",
       "2                   NaN                NaN  ...        2                   0   \n",
       "3                   NaN                NaN  ...        3                   0   \n",
       "4                   3.0                3.0  ...        2                   0   \n",
       "..                  ...                ...  ...      ...                 ...   \n",
       "80                  NaN                NaN  ...        3                   0   \n",
       "81                  NaN                NaN  ...        1                   1   \n",
       "82                  NaN                NaN  ...        2                   0   \n",
       "83                  NaN                NaN  ...        4                   1   \n",
       "84                  2.0                2.0  ...        3                   0   \n",
       "\n",
       "    is_kopper_bank_y  score_voor_y  schepper_pos_rechts_y positie_y  \\\n",
       "0                  0           0v2                      1         2   \n",
       "1                  0           1v2                      1         2   \n",
       "2                  0           0v2                      1         2   \n",
       "3                  0           1v2                      1         2   \n",
       "4                  0           1v0                      0         2   \n",
       "..               ...           ...                    ...       ...   \n",
       "80                 0           3v8                      1         5   \n",
       "81                 0           0v2                      1         5   \n",
       "82                 0           1v4                      1         5   \n",
       "83                 0           3v9                      1         5   \n",
       "84                 0           3v1                      1         4   \n",
       "\n",
       "    kop_verplaatsen_achter_y  kop_veel_verplaatsen_y  kop_hor_verplaatsen_y  \\\n",
       "0                          0                       0                      0   \n",
       "1                          0                       0                      0   \n",
       "2                          0                       0                      0   \n",
       "3                          0                       0                      0   \n",
       "4                          0                       0                      0   \n",
       "..                       ...                     ...                    ...   \n",
       "80                         0                       1                      1   \n",
       "81                         0                       0                      0   \n",
       "82                         0                       1                      1   \n",
       "83                         0                       0                      1   \n",
       "84                         0                       0                      1   \n",
       "\n",
       "    goal_y  \n",
       "0        1  \n",
       "1        1  \n",
       "2        1  \n",
       "3        1  \n",
       "4        1  \n",
       "..     ...  \n",
       "80       0  \n",
       "81       1  \n",
       "82       1  \n",
       "83       1  \n",
       "84       0  \n",
       "\n",
       "[85 rows x 42 columns]"
      ]
     },
     "execution_count": 17,
     "metadata": {},
     "output_type": "execute_result"
    }
   ],
   "source": [
    "# wedstrijd_ids voor matching wedstrijden eruit krijgen\n",
    "matching = pd.merge(merged_df, merged_controle, on=[\"datum\", \"ploegnaam\"], how=\"inner\")\n",
    "matching\n"
   ]
  },
  {
   "cell_type": "code",
   "execution_count": 18,
   "id": "e1041c96",
   "metadata": {},
   "outputs": [],
   "source": [
    "\n",
    "\n",
    "# met de bijhorende wedstrijdids uit df1\n",
    "wedstrijdids = matching[\"wedstrijd_id_x\"].unique()"
   ]
  },
  {
   "cell_type": "code",
   "execution_count": 19,
   "id": "3a86f382",
   "metadata": {},
   "outputs": [
    {
     "name": "stdout",
     "output_type": "stream",
     "text": [
      "20\n"
     ]
    },
    {
     "data": {
      "text/plain": [
       "array([  9,  32,  33,  34,  77,  90,  91, 106, 107, 138, 140, 159, 160,\n",
       "       161, 165, 167, 169, 170, 171, 172], dtype=int64)"
      ]
     },
     "execution_count": 19,
     "metadata": {},
     "output_type": "execute_result"
    }
   ],
   "source": [
    "print(len(wedstrijdids))\n",
    "wedstrijdids"
   ]
  },
  {
   "cell_type": "code",
   "execution_count": 20,
   "id": "0053abb7",
   "metadata": {},
   "outputs": [],
   "source": [
    "### filter op basis van wedstrijdids\n",
    "merged_filtered = merged_df[merged_df[\"wedstrijd_id\"].isin(wedstrijdids)].reset_index()\n",
    "wedstijden_filtered = wedstrijden[wedstrijden[\"wedstrijd_id\"].isin(wedstrijdids)].reset_index()\n",
    "corners_filtered = corners[corners[\"wedstrijd_id\"].isin(wedstrijdids)].reset_index()"
   ]
  },
  {
   "cell_type": "code",
   "execution_count": 21,
   "id": "43bd5690",
   "metadata": {},
   "outputs": [],
   "source": [
    "# zorg dat df in zelfde volgorde staan, geen wedstrijden met zelfde niveau en datum\n",
    "merged_filtered = merged_filtered.sort_values(by=[\"datum\", \"niveau\", \"schepcorner_id\"]).reset_index()\n",
    "merged_controle = merged_controle.sort_values(by=[\"datum\", \"niveau\", \"schepcorner_id\"]).reset_index()"
   ]
  },
  {
   "cell_type": "code",
   "execution_count": null,
   "id": "f3c80a8b",
   "metadata": {},
   "outputs": [
    {
     "name": "stdout",
     "output_type": "stream",
     "text": [
      "kop_veel_verplaatsen\n",
      "0.0    41\n",
      "1.0    13\n",
      "Name: count, dtype: int64\n",
      "kop_veel_verplaatsen\n",
      "0    46\n",
      "1     8\n",
      "Name: count, dtype: int64\n"
     ]
    }
   ],
   "source": [
    "# bekeijk distributie van kop_veel_verplaatsen, want lage cohen's kappa score\n",
    "print(merged_filtered[\"kop_veel_verplaatsen\"].value_counts())\n",
    "print(merged_controle[\"kop_veel_verplaatsen\"].value_counts())\n"
   ]
  },
  {
   "cell_type": "code",
   "execution_count": 10,
   "id": "5ee8d530",
   "metadata": {},
   "outputs": [
    {
     "data": {
      "text/html": [
       "<div>\n",
       "<style scoped>\n",
       "    .dataframe tbody tr th:only-of-type {\n",
       "        vertical-align: middle;\n",
       "    }\n",
       "\n",
       "    .dataframe tbody tr th {\n",
       "        vertical-align: top;\n",
       "    }\n",
       "\n",
       "    .dataframe thead th {\n",
       "        text-align: right;\n",
       "    }\n",
       "</style>\n",
       "<table border=\"1\" class=\"dataframe\">\n",
       "  <thead>\n",
       "    <tr style=\"text-align: right;\">\n",
       "      <th></th>\n",
       "      <th>level_0</th>\n",
       "      <th>index</th>\n",
       "      <th>wedstrijd_id</th>\n",
       "      <th>datum</th>\n",
       "      <th>niveau</th>\n",
       "      <th>uitslag</th>\n",
       "      <th>corners_uitslag</th>\n",
       "      <th>klassement_uitslag</th>\n",
       "      <th>schepcorner_id</th>\n",
       "      <th>ploegnaam</th>\n",
       "      <th>...</th>\n",
       "      <th>kwart</th>\n",
       "      <th>is_schepper_bank</th>\n",
       "      <th>is_kopper_bank</th>\n",
       "      <th>score_voor</th>\n",
       "      <th>schepper_pos_rechts</th>\n",
       "      <th>positie</th>\n",
       "      <th>kop_verplaatsen_achter</th>\n",
       "      <th>kop_veel_verplaatsen</th>\n",
       "      <th>kop_hor_verplaatsen</th>\n",
       "      <th>goal</th>\n",
       "    </tr>\n",
       "  </thead>\n",
       "  <tbody>\n",
       "    <tr>\n",
       "      <th>0</th>\n",
       "      <td>0</td>\n",
       "      <td>21</td>\n",
       "      <td>9</td>\n",
       "      <td>2024-09-02</td>\n",
       "      <td>1</td>\n",
       "      <td>4v5</td>\n",
       "      <td>1v1</td>\n",
       "      <td>8v15</td>\n",
       "      <td>22.0</td>\n",
       "      <td>citadel park rangers</td>\n",
       "      <td>...</td>\n",
       "      <td>2.0</td>\n",
       "      <td>0.0</td>\n",
       "      <td>0.0</td>\n",
       "      <td>0v2</td>\n",
       "      <td>1.0</td>\n",
       "      <td>2.0</td>\n",
       "      <td>0.0</td>\n",
       "      <td>0.0</td>\n",
       "      <td>0.0</td>\n",
       "      <td>1.0</td>\n",
       "    </tr>\n",
       "    <tr>\n",
       "      <th>1</th>\n",
       "      <td>1</td>\n",
       "      <td>22</td>\n",
       "      <td>9</td>\n",
       "      <td>2024-09-02</td>\n",
       "      <td>1</td>\n",
       "      <td>4v5</td>\n",
       "      <td>1v1</td>\n",
       "      <td>8v15</td>\n",
       "      <td>23.0</td>\n",
       "      <td>citadel park rangers</td>\n",
       "      <td>...</td>\n",
       "      <td>3.0</td>\n",
       "      <td>0.0</td>\n",
       "      <td>0.0</td>\n",
       "      <td>1v2</td>\n",
       "      <td>1.0</td>\n",
       "      <td>2.0</td>\n",
       "      <td>0.0</td>\n",
       "      <td>0.0</td>\n",
       "      <td>0.0</td>\n",
       "      <td>1.0</td>\n",
       "    </tr>\n",
       "    <tr>\n",
       "      <th>2</th>\n",
       "      <td>2</td>\n",
       "      <td>23</td>\n",
       "      <td>9</td>\n",
       "      <td>2024-09-02</td>\n",
       "      <td>1</td>\n",
       "      <td>4v5</td>\n",
       "      <td>1v1</td>\n",
       "      <td>8v15</td>\n",
       "      <td>24.0</td>\n",
       "      <td>expats gent fc</td>\n",
       "      <td>...</td>\n",
       "      <td>4.0</td>\n",
       "      <td>0.0</td>\n",
       "      <td>0.0</td>\n",
       "      <td>4v4</td>\n",
       "      <td>1.0</td>\n",
       "      <td>2.0</td>\n",
       "      <td>0.0</td>\n",
       "      <td>0.0</td>\n",
       "      <td>0.0</td>\n",
       "      <td>0.0</td>\n",
       "    </tr>\n",
       "    <tr>\n",
       "      <th>3</th>\n",
       "      <td>18</td>\n",
       "      <td>229</td>\n",
       "      <td>91</td>\n",
       "      <td>2024-09-10</td>\n",
       "      <td>3</td>\n",
       "      <td>7v4</td>\n",
       "      <td>2v0</td>\n",
       "      <td>NaN</td>\n",
       "      <td>229.0</td>\n",
       "      <td>devaldo rojo</td>\n",
       "      <td>...</td>\n",
       "      <td>2.0</td>\n",
       "      <td>0.0</td>\n",
       "      <td>0.0</td>\n",
       "      <td>2v1</td>\n",
       "      <td>1.0</td>\n",
       "      <td>5.0</td>\n",
       "      <td>0.0</td>\n",
       "      <td>0.0</td>\n",
       "      <td>0.0</td>\n",
       "      <td>1.0</td>\n",
       "    </tr>\n",
       "    <tr>\n",
       "      <th>4</th>\n",
       "      <td>19</td>\n",
       "      <td>230</td>\n",
       "      <td>91</td>\n",
       "      <td>2024-09-10</td>\n",
       "      <td>3</td>\n",
       "      <td>7v4</td>\n",
       "      <td>2v0</td>\n",
       "      <td>NaN</td>\n",
       "      <td>230.0</td>\n",
       "      <td>devaldo rojo</td>\n",
       "      <td>...</td>\n",
       "      <td>4.0</td>\n",
       "      <td>0.0</td>\n",
       "      <td>0.0</td>\n",
       "      <td>7v3</td>\n",
       "      <td>1.0</td>\n",
       "      <td>5.0</td>\n",
       "      <td>0.0</td>\n",
       "      <td>0.0</td>\n",
       "      <td>0.0</td>\n",
       "      <td>1.0</td>\n",
       "    </tr>\n",
       "  </tbody>\n",
       "</table>\n",
       "<p>5 rows × 24 columns</p>\n",
       "</div>"
      ],
      "text/plain": [
       "   level_0  index  wedstrijd_id      datum niveau uitslag corners_uitslag  \\\n",
       "0        0     21             9 2024-09-02      1     4v5             1v1   \n",
       "1        1     22             9 2024-09-02      1     4v5             1v1   \n",
       "2        2     23             9 2024-09-02      1     4v5             1v1   \n",
       "3       18    229            91 2024-09-10      3     7v4             2v0   \n",
       "4       19    230            91 2024-09-10      3     7v4             2v0   \n",
       "\n",
       "  klassement_uitslag  schepcorner_id             ploegnaam  ...  kwart  \\\n",
       "0               8v15            22.0  citadel park rangers  ...    2.0   \n",
       "1               8v15            23.0  citadel park rangers  ...    3.0   \n",
       "2               8v15            24.0        expats gent fc  ...    4.0   \n",
       "3                NaN           229.0          devaldo rojo  ...    2.0   \n",
       "4                NaN           230.0          devaldo rojo  ...    4.0   \n",
       "\n",
       "   is_schepper_bank  is_kopper_bank  score_voor  schepper_pos_rechts  positie  \\\n",
       "0               0.0             0.0         0v2                  1.0      2.0   \n",
       "1               0.0             0.0         1v2                  1.0      2.0   \n",
       "2               0.0             0.0         4v4                  1.0      2.0   \n",
       "3               0.0             0.0         2v1                  1.0      5.0   \n",
       "4               0.0             0.0         7v3                  1.0      5.0   \n",
       "\n",
       "   kop_verplaatsen_achter kop_veel_verplaatsen  kop_hor_verplaatsen  goal  \n",
       "0                     0.0                  0.0                  0.0   1.0  \n",
       "1                     0.0                  0.0                  0.0   1.0  \n",
       "2                     0.0                  0.0                  0.0   0.0  \n",
       "3                     0.0                  0.0                  0.0   1.0  \n",
       "4                     0.0                  0.0                  0.0   1.0  \n",
       "\n",
       "[5 rows x 24 columns]"
      ]
     },
     "execution_count": 10,
     "metadata": {},
     "output_type": "execute_result"
    }
   ],
   "source": [
    "merged_filtered.head()"
   ]
  },
  {
   "cell_type": "code",
   "execution_count": 11,
   "id": "aed7fd8c",
   "metadata": {},
   "outputs": [],
   "source": [
    "# functie voor aantal matchende waarde te checken in de kolommen\n",
    "def compare_column_values(df1, df2, column):\n",
    "    # Compare values\n",
    "    matches = df1[column] == df2[column]\n",
    "    num_matches = matches.sum()\n",
    "    total = len(matches)\n",
    "    percentage = (num_matches / total) * 100\n",
    "\n",
    "    print(f\"Percentage same value: {percentage:.2f}%\")\n",
    "    print(f\"Number of matching values: {num_matches} out of {total}\")\n",
    "\n",
    "    # Print mismatches\n",
    "    if num_matches < total:\n",
    "        print(\"\\nMismatched rows:\")\n",
    "        mismatch_indices = matches[~matches].index\n",
    "        for i in mismatch_indices:\n",
    "            print(f\"\\nRow {i}:\")\n",
    "            print(\"df1:\", df1.loc[i].to_dict())\n",
    "            print(\"df2:\", df2.loc[i].to_dict())\n"
   ]
  },
  {
   "cell_type": "code",
   "execution_count": 12,
   "id": "84649761",
   "metadata": {},
   "outputs": [
    {
     "data": {
      "text/plain": [
       "Index(['index', 'wedstrijd_id', 'datum', 'niveau', 'uitslag',\n",
       "       'corners_uitslag', 'klassement_uitslag', 'schepcorner_id', 'ploegnaam',\n",
       "       'ervaring_schepper', 'ervaring_kopper', 'ervaring_duo', 'is_thuisploeg',\n",
       "       'kwart', 'is_schepper_bank', 'is_kopper_bank', 'score_voor',\n",
       "       'schepper_pos_rechts', 'positie', 'kop_verplaatsen_achter',\n",
       "       'kop_veel_verplaatsen', 'kop_hor_verplaatsen', 'goal'],\n",
       "      dtype='object')"
      ]
     },
     "execution_count": 12,
     "metadata": {},
     "output_type": "execute_result"
    }
   ],
   "source": [
    "merged_controle.columns"
   ]
  },
  {
   "cell_type": "code",
   "execution_count": 13,
   "id": "a73c423f",
   "metadata": {},
   "outputs": [
    {
     "name": "stdout",
     "output_type": "stream",
     "text": [
      "Percentage same value: 100.00%\n",
      "Number of matching values: 54 out of 54\n"
     ]
    }
   ],
   "source": [
    "compare_column_values(merged_filtered, merged_controle, \"niveau\")"
   ]
  },
  {
   "cell_type": "code",
   "execution_count": 14,
   "id": "c959e1b4",
   "metadata": {},
   "outputs": [
    {
     "name": "stdout",
     "output_type": "stream",
     "text": [
      "Percentage same value: 100.00%\n",
      "Number of matching values: 54 out of 54\n"
     ]
    }
   ],
   "source": [
    "compare_column_values(merged_filtered, merged_controle, \"uitslag\")"
   ]
  },
  {
   "cell_type": "code",
   "execution_count": 15,
   "id": "4be1fdd3",
   "metadata": {},
   "outputs": [
    {
     "name": "stdout",
     "output_type": "stream",
     "text": [
      "Percentage same value: 85.19%\n",
      "Number of matching values: 46 out of 54\n",
      "\n",
      "Mismatched rows:\n",
      "\n",
      "Row 8:\n",
      "df1: {'level_0': 20, 'index': 274, 'wedstrijd_id': 106, 'datum': Timestamp('2024-09-11 00:00:00'), 'niveau': 1, 'uitslag': '6v4', 'corners_uitslag': nan, 'klassement_uitslag': nan, 'schepcorner_id': 274.0, 'ploegnaam': 'girafkes', 'ervaring_schepper': nan, 'ervaring_kopper': nan, 'ervaring_duo': nan, 'is_thuisploeg': 0.0, 'kwart': 3.0, 'is_schepper_bank': 1.0, 'is_kopper_bank': 0.0, 'score_voor': '2v2', 'schepper_pos_rechts': 1.0, 'positie': 5.0, 'kop_verplaatsen_achter': 0.0, 'kop_veel_verplaatsen': 1.0, 'kop_hor_verplaatsen': 0.0, 'goal': 0.0}\n",
      "df2: {'index': 8, 'wedstrijd_id': 4, 'datum': Timestamp('2024-09-11 00:00:00'), 'niveau': 1, 'uitslag': '6v4', 'corners_uitslag': '3v1', 'klassement_uitslag': nan, 'schepcorner_id': 9, 'ploegnaam': 'girafkes', 'ervaring_schepper': nan, 'ervaring_kopper': nan, 'ervaring_duo': nan, 'is_thuisploeg': 0, 'kwart': 3, 'is_schepper_bank': 1, 'is_kopper_bank': 0, 'score_voor': '2v2', 'schepper_pos_rechts': 1, 'positie': 5, 'kop_verplaatsen_achter': 0, 'kop_veel_verplaatsen': 0, 'kop_hor_verplaatsen': 0, 'goal': 0}\n",
      "\n",
      "Row 9:\n",
      "df1: {'level_0': 21, 'index': 275, 'wedstrijd_id': 107, 'datum': Timestamp('2024-09-11 00:00:00'), 'niveau': 3, 'uitslag': '4v5', 'corners_uitslag': nan, 'klassement_uitslag': nan, 'schepcorner_id': 275.0, 'ploegnaam': 'cercle sportif gent', 'ervaring_schepper': 5.0, 'ervaring_kopper': 3.0, 'ervaring_duo': 3.0, 'is_thuisploeg': 0.0, 'kwart': 3.0, 'is_schepper_bank': 1.0, 'is_kopper_bank': 0.0, 'score_voor': '2v2', 'schepper_pos_rechts': 1.0, 'positie': 5.0, 'kop_verplaatsen_achter': 0.0, 'kop_veel_verplaatsen': 0.0, 'kop_hor_verplaatsen': 0.0, 'goal': 0.0}\n",
      "df2: {'index': 9, 'wedstrijd_id': 5, 'datum': Timestamp('2024-09-11 00:00:00'), 'niveau': 3, 'uitslag': '4v5', 'corners_uitslag': '3v0', 'klassement_uitslag': nan, 'schepcorner_id': 10, 'ploegnaam': 'cercle sportif gent', 'ervaring_schepper': nan, 'ervaring_kopper': nan, 'ervaring_duo': nan, 'is_thuisploeg': 0, 'kwart': 3, 'is_schepper_bank': 1, 'is_kopper_bank': 0, 'score_voor': '2v2', 'schepper_pos_rechts': 1, 'positie': 5, 'kop_verplaatsen_achter': 0, 'kop_veel_verplaatsen': 0, 'kop_hor_verplaatsen': 0, 'goal': 0}\n",
      "\n",
      "Row 10:\n",
      "df1: {'level_0': 22, 'index': 276, 'wedstrijd_id': 107, 'datum': Timestamp('2024-09-11 00:00:00'), 'niveau': 3, 'uitslag': '4v5', 'corners_uitslag': nan, 'klassement_uitslag': nan, 'schepcorner_id': 276.0, 'ploegnaam': 'cercle sportif gent', 'ervaring_schepper': 5.0, 'ervaring_kopper': 3.0, 'ervaring_duo': 3.0, 'is_thuisploeg': 0.0, 'kwart': 4.0, 'is_schepper_bank': 0.0, 'is_kopper_bank': 0.0, 'score_voor': '4v4', 'schepper_pos_rechts': 1.0, 'positie': 5.0, 'kop_verplaatsen_achter': 0.0, 'kop_veel_verplaatsen': 1.0, 'kop_hor_verplaatsen': 0.0, 'goal': 0.0}\n",
      "df2: {'index': 10, 'wedstrijd_id': 5, 'datum': Timestamp('2024-09-11 00:00:00'), 'niveau': 3, 'uitslag': '4v5', 'corners_uitslag': '3v0', 'klassement_uitslag': nan, 'schepcorner_id': 11, 'ploegnaam': 'cercle sportif gent', 'ervaring_schepper': nan, 'ervaring_kopper': nan, 'ervaring_duo': nan, 'is_thuisploeg': 0, 'kwart': 4, 'is_schepper_bank': 0, 'is_kopper_bank': 0, 'score_voor': '4v4', 'schepper_pos_rechts': 1, 'positie': 5, 'kop_verplaatsen_achter': 0, 'kop_veel_verplaatsen': 0, 'kop_hor_verplaatsen': 0, 'goal': 0}\n",
      "\n",
      "Row 11:\n",
      "df1: {'level_0': 12, 'index': 194, 'wedstrijd_id': 77, 'datum': Timestamp('2024-09-23 00:00:00'), 'niveau': 4, 'uitslag': '4v10', 'corners_uitslag': '2v3', 'klassement_uitslag': nan, 'schepcorner_id': 194.0, 'ploegnaam': 'de plasticboys', 'ervaring_schepper': 5.0, 'ervaring_kopper': 5.0, 'ervaring_duo': 5.0, 'is_thuisploeg': 0.0, 'kwart': 2.0, 'is_schepper_bank': 0.0, 'is_kopper_bank': 0.0, 'score_voor': '1v3', 'schepper_pos_rechts': 1.0, 'positie': 5.0, 'kop_verplaatsen_achter': 0.0, 'kop_veel_verplaatsen': 0.0, 'kop_hor_verplaatsen': 0.0, 'goal': 1.0}\n",
      "df2: {'index': 11, 'wedstrijd_id': 6, 'datum': Timestamp('2024-09-23 00:00:00'), 'niveau': 4, 'uitslag': '4v10', 'corners_uitslag': '1v3', 'klassement_uitslag': nan, 'schepcorner_id': 12, 'ploegnaam': 'de plasticboys', 'ervaring_schepper': nan, 'ervaring_kopper': nan, 'ervaring_duo': nan, 'is_thuisploeg': 0, 'kwart': 2, 'is_schepper_bank': 0, 'is_kopper_bank': 0, 'score_voor': '1v3', 'schepper_pos_rechts': 1, 'positie': 5, 'kop_verplaatsen_achter': 0, 'kop_veel_verplaatsen': 0, 'kop_hor_verplaatsen': 0, 'goal': 1}\n",
      "\n",
      "Row 12:\n",
      "df1: {'level_0': 13, 'index': 195, 'wedstrijd_id': 77, 'datum': Timestamp('2024-09-23 00:00:00'), 'niveau': 4, 'uitslag': '4v10', 'corners_uitslag': '2v3', 'klassement_uitslag': nan, 'schepcorner_id': 195.0, 'ploegnaam': 'de plasticboys', 'ervaring_schepper': 5.0, 'ervaring_kopper': 5.0, 'ervaring_duo': 5.0, 'is_thuisploeg': 0.0, 'kwart': 2.0, 'is_schepper_bank': 0.0, 'is_kopper_bank': 0.0, 'score_voor': '2v6', 'schepper_pos_rechts': 1.0, 'positie': 5.0, 'kop_verplaatsen_achter': 0.0, 'kop_veel_verplaatsen': 0.0, 'kop_hor_verplaatsen': 0.0, 'goal': 1.0}\n",
      "df2: {'index': 12, 'wedstrijd_id': 6, 'datum': Timestamp('2024-09-23 00:00:00'), 'niveau': 4, 'uitslag': '4v10', 'corners_uitslag': '1v3', 'klassement_uitslag': nan, 'schepcorner_id': 13, 'ploegnaam': 'de plasticboys', 'ervaring_schepper': nan, 'ervaring_kopper': nan, 'ervaring_duo': nan, 'is_thuisploeg': 0, 'kwart': 3, 'is_schepper_bank': 0, 'is_kopper_bank': 0, 'score_voor': '2v6', 'schepper_pos_rechts': 1, 'positie': 5, 'kop_verplaatsen_achter': 0, 'kop_veel_verplaatsen': 0, 'kop_hor_verplaatsen': 0, 'goal': 1}\n",
      "\n",
      "Row 13:\n",
      "df1: {'level_0': 14, 'index': 196, 'wedstrijd_id': 77, 'datum': Timestamp('2024-09-23 00:00:00'), 'niveau': 4, 'uitslag': '4v10', 'corners_uitslag': '2v3', 'klassement_uitslag': nan, 'schepcorner_id': 196.0, 'ploegnaam': 'surfing elephant', 'ervaring_schepper': 5.0, 'ervaring_kopper': 5.0, 'ervaring_duo': 5.0, 'is_thuisploeg': 1.0, 'kwart': 4.0, 'is_schepper_bank': 0.0, 'is_kopper_bank': 1.0, 'score_voor': '3v9', 'schepper_pos_rechts': 0.0, 'positie': 5.0, 'kop_verplaatsen_achter': 0.0, 'kop_veel_verplaatsen': 0.0, 'kop_hor_verplaatsen': 0.0, 'goal': 1.0}\n",
      "df2: {'index': 13, 'wedstrijd_id': 6, 'datum': Timestamp('2024-09-23 00:00:00'), 'niveau': 4, 'uitslag': '4v10', 'corners_uitslag': '1v3', 'klassement_uitslag': nan, 'schepcorner_id': 14, 'ploegnaam': 'surfing elephant', 'ervaring_schepper': nan, 'ervaring_kopper': nan, 'ervaring_duo': nan, 'is_thuisploeg': 1, 'kwart': 4, 'is_schepper_bank': 0, 'is_kopper_bank': 1, 'score_voor': '3v9', 'schepper_pos_rechts': 0, 'positie': 5, 'kop_verplaatsen_achter': 0, 'kop_veel_verplaatsen': 0, 'kop_hor_verplaatsen': 0, 'goal': 1}\n",
      "\n",
      "Row 22:\n",
      "df1: {'level_0': 40, 'index': 428, 'wedstrijd_id': 167, 'datum': Timestamp('2024-11-19 00:00:00'), 'niveau': 2, 'uitslag': '5v5', 'corners_uitslag': '2v3', 'klassement_uitslag': '6v8', 'schepcorner_id': 428.0, 'ploegnaam': \"de graly's\", 'ervaring_schepper': 4.0, 'ervaring_kopper': 3.0, 'ervaring_duo': 4.0, 'is_thuisploeg': 1.0, 'kwart': 2.0, 'is_schepper_bank': 0.0, 'is_kopper_bank': 1.0, 'score_voor': '1v0', 'schepper_pos_rechts': 1.0, 'positie': 5.0, 'kop_verplaatsen_achter': 0.0, 'kop_veel_verplaatsen': 1.0, 'kop_hor_verplaatsen': 1.0, 'goal': 0.0}\n",
      "df2: {'index': 25, 'wedstrijd_id': 11, 'datum': Timestamp('2024-11-19 00:00:00'), 'niveau': 2, 'uitslag': '5v5', 'corners_uitslag': '2v2', 'klassement_uitslag': nan, 'schepcorner_id': 26, 'ploegnaam': \"de graly's\", 'ervaring_schepper': nan, 'ervaring_kopper': nan, 'ervaring_duo': nan, 'is_thuisploeg': 1, 'kwart': 2, 'is_schepper_bank': 0, 'is_kopper_bank': 1, 'score_voor': '1v0', 'schepper_pos_rechts': 1, 'positie': 2, 'kop_verplaatsen_achter': 0, 'kop_veel_verplaatsen': 1, 'kop_hor_verplaatsen': 1, 'goal': 0}\n",
      "\n",
      "Row 23:\n",
      "df1: {'level_0': 41, 'index': 429, 'wedstrijd_id': 167, 'datum': Timestamp('2024-11-19 00:00:00'), 'niveau': 2, 'uitslag': '5v5', 'corners_uitslag': '2v3', 'klassement_uitslag': '6v8', 'schepcorner_id': 429.0, 'ploegnaam': 'dansjeins', 'ervaring_schepper': 4.0, 'ervaring_kopper': 4.0, 'ervaring_duo': 4.0, 'is_thuisploeg': 0.0, 'kwart': 2.0, 'is_schepper_bank': 0.0, 'is_kopper_bank': 1.0, 'score_voor': '1v0', 'schepper_pos_rechts': 0.0, 'positie': 5.0, 'kop_verplaatsen_achter': 0.0, 'kop_veel_verplaatsen': 0.0, 'kop_hor_verplaatsen': 0.0, 'goal': 1.0}\n",
      "df2: {'index': 26, 'wedstrijd_id': 11, 'datum': Timestamp('2024-11-19 00:00:00'), 'niveau': 2, 'uitslag': '5v5', 'corners_uitslag': '2v2', 'klassement_uitslag': nan, 'schepcorner_id': 27, 'ploegnaam': 'dansjeins', 'ervaring_schepper': nan, 'ervaring_kopper': nan, 'ervaring_duo': nan, 'is_thuisploeg': 0, 'kwart': 2, 'is_schepper_bank': 0, 'is_kopper_bank': 1, 'score_voor': '1v0', 'schepper_pos_rechts': 0, 'positie': 5, 'kop_verplaatsen_achter': 0, 'kop_veel_verplaatsen': 0, 'kop_hor_verplaatsen': 0, 'goal': 1}\n"
     ]
    }
   ],
   "source": [
    "compare_column_values(merged_filtered, merged_controle, \"corners_uitslag\")"
   ]
  },
  {
   "cell_type": "code",
   "execution_count": 16,
   "id": "21db8422",
   "metadata": {},
   "outputs": [
    {
     "name": "stdout",
     "output_type": "stream",
     "text": [
      "Percentage same value: 98.15%\n",
      "Number of matching values: 53 out of 54\n",
      "\n",
      "Mismatched rows:\n",
      "\n",
      "Row 12:\n",
      "df1: {'level_0': 13, 'index': 195, 'wedstrijd_id': 77, 'datum': Timestamp('2024-09-23 00:00:00'), 'niveau': 4, 'uitslag': '4v10', 'corners_uitslag': '2v3', 'klassement_uitslag': nan, 'schepcorner_id': 195.0, 'ploegnaam': 'de plasticboys', 'ervaring_schepper': 5.0, 'ervaring_kopper': 5.0, 'ervaring_duo': 5.0, 'is_thuisploeg': 0.0, 'kwart': 2.0, 'is_schepper_bank': 0.0, 'is_kopper_bank': 0.0, 'score_voor': '2v6', 'schepper_pos_rechts': 1.0, 'positie': 5.0, 'kop_verplaatsen_achter': 0.0, 'kop_veel_verplaatsen': 0.0, 'kop_hor_verplaatsen': 0.0, 'goal': 1.0}\n",
      "df2: {'index': 12, 'wedstrijd_id': 6, 'datum': Timestamp('2024-09-23 00:00:00'), 'niveau': 4, 'uitslag': '4v10', 'corners_uitslag': '1v3', 'klassement_uitslag': nan, 'schepcorner_id': 13, 'ploegnaam': 'de plasticboys', 'ervaring_schepper': nan, 'ervaring_kopper': nan, 'ervaring_duo': nan, 'is_thuisploeg': 0, 'kwart': 3, 'is_schepper_bank': 0, 'is_kopper_bank': 0, 'score_voor': '2v6', 'schepper_pos_rechts': 1, 'positie': 5, 'kop_verplaatsen_achter': 0, 'kop_veel_verplaatsen': 0, 'kop_hor_verplaatsen': 0, 'goal': 1}\n"
     ]
    }
   ],
   "source": [
    "compare_column_values(merged_filtered, merged_controle, \"kwart\")"
   ]
  },
  {
   "cell_type": "code",
   "execution_count": 17,
   "id": "3ad3386b",
   "metadata": {},
   "outputs": [
    {
     "name": "stdout",
     "output_type": "stream",
     "text": [
      "Percentage same value: 98.15%\n",
      "Number of matching values: 53 out of 54\n",
      "\n",
      "Mismatched rows:\n",
      "\n",
      "Row 27:\n",
      "df1: {'level_0': 42, 'index': 432, 'wedstrijd_id': 169, 'datum': Timestamp('2024-12-05 00:00:00'), 'niveau': 3, 'uitslag': '6v10', 'corners_uitslag': '1v0', 'klassement_uitslag': '8v5', 'schepcorner_id': 432.0, 'ploegnaam': 'mp trois', 'ervaring_schepper': 3.0, 'ervaring_kopper': 3.0, 'ervaring_duo': 2.0, 'is_thuisploeg': 1.0, 'kwart': 3.0, 'is_schepper_bank': 0.0, 'is_kopper_bank': 0.0, 'score_voor': '1v4', 'schepper_pos_rechts': 1.0, 'positie': 1.0, 'kop_verplaatsen_achter': 0.0, 'kop_veel_verplaatsen': 0.0, 'kop_hor_verplaatsen': 0.0, 'goal': 1.0}\n",
      "df2: {'index': 27, 'wedstrijd_id': 12, 'datum': Timestamp('2024-12-05 00:00:00'), 'niveau': 3, 'uitslag': '6v10', 'corners_uitslag': '1v0', 'klassement_uitslag': nan, 'schepcorner_id': 28, 'ploegnaam': 'mp trois', 'ervaring_schepper': nan, 'ervaring_kopper': nan, 'ervaring_duo': nan, 'is_thuisploeg': 1, 'kwart': 3, 'is_schepper_bank': 1, 'is_kopper_bank': 0, 'score_voor': '1v4', 'schepper_pos_rechts': 1, 'positie': 1, 'kop_verplaatsen_achter': 0, 'kop_veel_verplaatsen': 0, 'kop_hor_verplaatsen': 0, 'goal': 1}\n"
     ]
    }
   ],
   "source": [
    "compare_column_values(merged_filtered, merged_controle, \"is_schepper_bank\")"
   ]
  },
  {
   "cell_type": "code",
   "execution_count": 18,
   "id": "cbd9924a",
   "metadata": {},
   "outputs": [
    {
     "name": "stdout",
     "output_type": "stream",
     "text": [
      "Percentage same value: 100.00%\n",
      "Number of matching values: 54 out of 54\n"
     ]
    }
   ],
   "source": [
    "compare_column_values(merged_filtered, merged_controle, \"is_kopper_bank\")"
   ]
  },
  {
   "cell_type": "code",
   "execution_count": 19,
   "id": "5d6e46f8",
   "metadata": {},
   "outputs": [
    {
     "name": "stdout",
     "output_type": "stream",
     "text": [
      "Percentage same value: 98.15%\n",
      "Number of matching values: 53 out of 54\n",
      "\n",
      "Mismatched rows:\n",
      "\n",
      "Row 28:\n",
      "df1: {'level_0': 43, 'index': 433, 'wedstrijd_id': 169, 'datum': Timestamp('2024-12-05 00:00:00'), 'niveau': 3, 'uitslag': '6v10', 'corners_uitslag': '1v0', 'klassement_uitslag': '8v5', 'schepcorner_id': 433.0, 'ploegnaam': 'de daltons', 'ervaring_schepper': nan, 'ervaring_kopper': nan, 'ervaring_duo': nan, 'is_thuisploeg': 0.0, 'kwart': 4.0, 'is_schepper_bank': 0.0, 'is_kopper_bank': 0.0, 'score_voor': '4v7', 'schepper_pos_rechts': 1.0, 'positie': 2.0, 'kop_verplaatsen_achter': 1.0, 'kop_veel_verplaatsen': 0.0, 'kop_hor_verplaatsen': 0.0, 'goal': 1.0}\n",
      "df2: {'index': 28, 'wedstrijd_id': 12, 'datum': Timestamp('2024-12-05 00:00:00'), 'niveau': 3, 'uitslag': '6v10', 'corners_uitslag': '1v0', 'klassement_uitslag': nan, 'schepcorner_id': 29, 'ploegnaam': 'de daltons', 'ervaring_schepper': nan, 'ervaring_kopper': nan, 'ervaring_duo': nan, 'is_thuisploeg': 0, 'kwart': 4, 'is_schepper_bank': 0, 'is_kopper_bank': 0, 'score_voor': '4v8', 'schepper_pos_rechts': 1, 'positie': 2, 'kop_verplaatsen_achter': 1, 'kop_veel_verplaatsen': 0, 'kop_hor_verplaatsen': 0, 'goal': 1}\n"
     ]
    }
   ],
   "source": [
    "compare_column_values(merged_filtered, merged_controle, \"score_voor\")"
   ]
  },
  {
   "cell_type": "code",
   "execution_count": 20,
   "id": "0b0d6d53",
   "metadata": {},
   "outputs": [
    {
     "name": "stdout",
     "output_type": "stream",
     "text": [
      "Percentage same value: 100.00%\n",
      "Number of matching values: 54 out of 54\n"
     ]
    }
   ],
   "source": [
    "compare_column_values(merged_filtered, merged_controle, \"schepper_pos_rechts\")"
   ]
  },
  {
   "cell_type": "code",
   "execution_count": 21,
   "id": "44320c9b",
   "metadata": {},
   "outputs": [
    {
     "name": "stdout",
     "output_type": "stream",
     "text": [
      "Percentage same value: 85.19%\n",
      "Number of matching values: 46 out of 54\n",
      "\n",
      "Mismatched rows:\n",
      "\n",
      "Row 3:\n",
      "df1: {'level_0': 18, 'index': 229, 'wedstrijd_id': 91, 'datum': Timestamp('2024-09-10 00:00:00'), 'niveau': 3, 'uitslag': '7v4', 'corners_uitslag': '2v0', 'klassement_uitslag': nan, 'schepcorner_id': 229.0, 'ploegnaam': 'devaldo rojo', 'ervaring_schepper': 5.0, 'ervaring_kopper': 5.0, 'ervaring_duo': 5.0, 'is_thuisploeg': 0.0, 'kwart': 2.0, 'is_schepper_bank': 0.0, 'is_kopper_bank': 0.0, 'score_voor': '2v1', 'schepper_pos_rechts': 1.0, 'positie': 5.0, 'kop_verplaatsen_achter': 0.0, 'kop_veel_verplaatsen': 0.0, 'kop_hor_verplaatsen': 0.0, 'goal': 1.0}\n",
      "df2: {'index': 3, 'wedstrijd_id': 2, 'datum': Timestamp('2024-09-10 00:00:00'), 'niveau': 3, 'uitslag': '7v4', 'corners_uitslag': '2v0', 'klassement_uitslag': nan, 'schepcorner_id': 4, 'ploegnaam': 'devaldo rojo', 'ervaring_schepper': nan, 'ervaring_kopper': nan, 'ervaring_duo': nan, 'is_thuisploeg': 0, 'kwart': 2, 'is_schepper_bank': 0, 'is_kopper_bank': 0, 'score_voor': '2v1', 'schepper_pos_rechts': 1, 'positie': 2, 'kop_verplaatsen_achter': 0, 'kop_veel_verplaatsen': 0, 'kop_hor_verplaatsen': 0, 'goal': 1}\n",
      "\n",
      "Row 4:\n",
      "df1: {'level_0': 19, 'index': 230, 'wedstrijd_id': 91, 'datum': Timestamp('2024-09-10 00:00:00'), 'niveau': 3, 'uitslag': '7v4', 'corners_uitslag': '2v0', 'klassement_uitslag': nan, 'schepcorner_id': 230.0, 'ploegnaam': 'devaldo rojo', 'ervaring_schepper': 5.0, 'ervaring_kopper': 5.0, 'ervaring_duo': 5.0, 'is_thuisploeg': 0.0, 'kwart': 4.0, 'is_schepper_bank': 0.0, 'is_kopper_bank': 0.0, 'score_voor': '7v3', 'schepper_pos_rechts': 1.0, 'positie': 5.0, 'kop_verplaatsen_achter': 0.0, 'kop_veel_verplaatsen': 0.0, 'kop_hor_verplaatsen': 0.0, 'goal': 1.0}\n",
      "df2: {'index': 4, 'wedstrijd_id': 2, 'datum': Timestamp('2024-09-10 00:00:00'), 'niveau': 3, 'uitslag': '7v4', 'corners_uitslag': '2v0', 'klassement_uitslag': nan, 'schepcorner_id': 5, 'ploegnaam': 'devaldo rojo', 'ervaring_schepper': nan, 'ervaring_kopper': nan, 'ervaring_duo': nan, 'is_thuisploeg': 0, 'kwart': 4, 'is_schepper_bank': 0, 'is_kopper_bank': 0, 'score_voor': '7v3', 'schepper_pos_rechts': 1, 'positie': 2, 'kop_verplaatsen_achter': 0, 'kop_veel_verplaatsen': 0, 'kop_hor_verplaatsen': 0, 'goal': 1}\n",
      "\n",
      "Row 16:\n",
      "df1: {'level_0': 31, 'index': 412, 'wedstrijd_id': 159, 'datum': Timestamp('2024-10-22 00:00:00'), 'niveau': 4, 'uitslag': '3v7', 'corners_uitslag': '0v0', 'klassement_uitslag': '3v12', 'schepcorner_id': 412.0, 'ploegnaam': 'thomas cook sport', 'ervaring_schepper': 5.0, 'ervaring_kopper': 5.0, 'ervaring_duo': 5.0, 'is_thuisploeg': 1.0, 'kwart': 4.0, 'is_schepper_bank': 0.0, 'is_kopper_bank': 0.0, 'score_voor': '2v4', 'schepper_pos_rechts': 1.0, 'positie': 4.0, 'kop_verplaatsen_achter': 0.0, 'kop_veel_verplaatsen': 0.0, 'kop_hor_verplaatsen': 0.0, 'goal': 0.0}\n",
      "df2: {'index': 16, 'wedstrijd_id': 7, 'datum': Timestamp('2024-10-22 00:00:00'), 'niveau': 4, 'uitslag': '3v7', 'corners_uitslag': '0v0', 'klassement_uitslag': nan, 'schepcorner_id': 17, 'ploegnaam': 'thomas cook sport', 'ervaring_schepper': nan, 'ervaring_kopper': nan, 'ervaring_duo': nan, 'is_thuisploeg': 1, 'kwart': 4, 'is_schepper_bank': 0, 'is_kopper_bank': 0, 'score_voor': '2v4', 'schepper_pos_rechts': 1, 'positie': 5, 'kop_verplaatsen_achter': 0, 'kop_veel_verplaatsen': 0, 'kop_hor_verplaatsen': 0, 'goal': 0}\n",
      "\n",
      "Row 18:\n",
      "df1: {'level_0': 33, 'index': 414, 'wedstrijd_id': 160, 'datum': Timestamp('2024-10-29 00:00:00'), 'niveau': 4, 'uitslag': '2v5', 'corners_uitslag': '0v1', 'klassement_uitslag': '6v7', 'schepcorner_id': 414.0, 'ploegnaam': 'thomas cook sport', 'ervaring_schepper': 5.0, 'ervaring_kopper': 5.0, 'ervaring_duo': 5.0, 'is_thuisploeg': 0.0, 'kwart': 3.0, 'is_schepper_bank': 0.0, 'is_kopper_bank': 0.0, 'score_voor': '1v3', 'schepper_pos_rechts': 1.0, 'positie': 5.0, 'kop_verplaatsen_achter': 0.0, 'kop_veel_verplaatsen': 0.0, 'kop_hor_verplaatsen': 0.0, 'goal': 1.0}\n",
      "df2: {'index': 18, 'wedstrijd_id': 8, 'datum': Timestamp('2024-10-29 00:00:00'), 'niveau': 4, 'uitslag': '2v5', 'corners_uitslag': '0v1', 'klassement_uitslag': nan, 'schepcorner_id': 19, 'ploegnaam': 'thomas cook sport', 'ervaring_schepper': nan, 'ervaring_kopper': nan, 'ervaring_duo': nan, 'is_thuisploeg': 0, 'kwart': 3, 'is_schepper_bank': 0, 'is_kopper_bank': 0, 'score_voor': '1v3', 'schepper_pos_rechts': 1, 'positie': 6, 'kop_verplaatsen_achter': 0, 'kop_veel_verplaatsen': 0, 'kop_hor_verplaatsen': 0, 'goal': 1}\n",
      "\n",
      "Row 22:\n",
      "df1: {'level_0': 40, 'index': 428, 'wedstrijd_id': 167, 'datum': Timestamp('2024-11-19 00:00:00'), 'niveau': 2, 'uitslag': '5v5', 'corners_uitslag': '2v3', 'klassement_uitslag': '6v8', 'schepcorner_id': 428.0, 'ploegnaam': \"de graly's\", 'ervaring_schepper': 4.0, 'ervaring_kopper': 3.0, 'ervaring_duo': 4.0, 'is_thuisploeg': 1.0, 'kwart': 2.0, 'is_schepper_bank': 0.0, 'is_kopper_bank': 1.0, 'score_voor': '1v0', 'schepper_pos_rechts': 1.0, 'positie': 5.0, 'kop_verplaatsen_achter': 0.0, 'kop_veel_verplaatsen': 1.0, 'kop_hor_verplaatsen': 1.0, 'goal': 0.0}\n",
      "df2: {'index': 25, 'wedstrijd_id': 11, 'datum': Timestamp('2024-11-19 00:00:00'), 'niveau': 2, 'uitslag': '5v5', 'corners_uitslag': '2v2', 'klassement_uitslag': nan, 'schepcorner_id': 26, 'ploegnaam': \"de graly's\", 'ervaring_schepper': nan, 'ervaring_kopper': nan, 'ervaring_duo': nan, 'is_thuisploeg': 1, 'kwart': 2, 'is_schepper_bank': 0, 'is_kopper_bank': 1, 'score_voor': '1v0', 'schepper_pos_rechts': 1, 'positie': 2, 'kop_verplaatsen_achter': 0, 'kop_veel_verplaatsen': 1, 'kop_hor_verplaatsen': 1, 'goal': 0}\n",
      "\n",
      "Row 45:\n",
      "df1: {'level_0': 10, 'index': 82, 'wedstrijd_id': 34, 'datum': Timestamp('2025-03-21 00:00:00'), 'niveau': 4, 'uitslag': '6v5', 'corners_uitslag': '2v0', 'klassement_uitslag': '4v12', 'schepcorner_id': 83.0, 'ploegnaam': 'fc spitbulls', 'ervaring_schepper': 4.0, 'ervaring_kopper': 4.0, 'ervaring_duo': 4.0, 'is_thuisploeg': 1.0, 'kwart': 2.0, 'is_schepper_bank': 0.0, 'is_kopper_bank': 0.0, 'score_voor': '2v0', 'schepper_pos_rechts': 0.0, 'positie': 5.0, 'kop_verplaatsen_achter': 0.0, 'kop_veel_verplaatsen': 0.0, 'kop_hor_verplaatsen': 0.0, 'goal': 1.0}\n",
      "df2: {'index': 45, 'wedstrijd_id': 18, 'datum': Timestamp('2025-03-21 00:00:00'), 'niveau': 4, 'uitslag': '6v5', 'corners_uitslag': '2v0', 'klassement_uitslag': nan, 'schepcorner_id': 46, 'ploegnaam': 'fc spitbulls', 'ervaring_schepper': nan, 'ervaring_kopper': nan, 'ervaring_duo': nan, 'is_thuisploeg': 1, 'kwart': 2, 'is_schepper_bank': 0, 'is_kopper_bank': 0, 'score_voor': '2v0', 'schepper_pos_rechts': 0, 'positie': 2, 'kop_verplaatsen_achter': 0, 'kop_veel_verplaatsen': 0, 'kop_hor_verplaatsen': 0, 'goal': 1}\n",
      "\n",
      "Row 48:\n",
      "df1: {'level_0': 8, 'index': 80, 'wedstrijd_id': 33, 'datum': Timestamp('2025-03-27 00:00:00'), 'niveau': 4, 'uitslag': '2v4', 'corners_uitslag': '2v2', 'klassement_uitslag': '6v4', 'schepcorner_id': 81.0, 'ploegnaam': 'popol and the defenders of fun', 'ervaring_schepper': 3.0, 'ervaring_kopper': 3.0, 'ervaring_duo': 3.0, 'is_thuisploeg': 1.0, 'kwart': 2.0, 'is_schepper_bank': 0.0, 'is_kopper_bank': 0.0, 'score_voor': '1v1', 'schepper_pos_rechts': 0.0, 'positie': 5.0, 'kop_verplaatsen_achter': 0.0, 'kop_veel_verplaatsen': 0.0, 'kop_hor_verplaatsen': 1.0, 'goal': 0.0}\n",
      "df2: {'index': 52, 'wedstrijd_id': 20, 'datum': Timestamp('2025-03-27 00:00:00'), 'niveau': 4, 'uitslag': '2v4', 'corners_uitslag': '2v2', 'klassement_uitslag': nan, 'schepcorner_id': 53, 'ploegnaam': 'popol and the defenders of fun', 'ervaring_schepper': nan, 'ervaring_kopper': nan, 'ervaring_duo': nan, 'is_thuisploeg': 1, 'kwart': 2, 'is_schepper_bank': 0, 'is_kopper_bank': 0, 'score_voor': '1v1', 'schepper_pos_rechts': 0, 'positie': 2, 'kop_verplaatsen_achter': 0, 'kop_veel_verplaatsen': 0, 'kop_hor_verplaatsen': 1, 'goal': 0}\n",
      "\n",
      "Row 52:\n",
      "df1: {'level_0': 5, 'index': 77, 'wedstrijd_id': 32, 'datum': Timestamp('2025-04-02 00:00:00'), 'niveau': 4, 'uitslag': '6v4', 'corners_uitslag': '2v1', 'klassement_uitslag': '3v4', 'schepcorner_id': 78.0, 'ploegnaam': 'fc spitbulls', 'ervaring_schepper': 3.0, 'ervaring_kopper': 3.0, 'ervaring_duo': 3.0, 'is_thuisploeg': 0.0, 'kwart': 3.0, 'is_schepper_bank': 0.0, 'is_kopper_bank': 0.0, 'score_voor': '5v1', 'schepper_pos_rechts': 0.0, 'positie': 5.0, 'kop_verplaatsen_achter': 0.0, 'kop_veel_verplaatsen': 0.0, 'kop_hor_verplaatsen': 0.0, 'goal': 1.0}\n",
      "df2: {'index': 49, 'wedstrijd_id': 19, 'datum': Timestamp('2025-04-02 00:00:00'), 'niveau': 4, 'uitslag': '6v4', 'corners_uitslag': '2v1', 'klassement_uitslag': nan, 'schepcorner_id': 50, 'ploegnaam': 'fc spitbulls', 'ervaring_schepper': nan, 'ervaring_kopper': nan, 'ervaring_duo': nan, 'is_thuisploeg': 0, 'kwart': 3, 'is_schepper_bank': 0, 'is_kopper_bank': 0, 'score_voor': '5v1', 'schepper_pos_rechts': 0, 'positie': 2, 'kop_verplaatsen_achter': 0, 'kop_veel_verplaatsen': 0, 'kop_hor_verplaatsen': 0, 'goal': 1}\n"
     ]
    }
   ],
   "source": [
    "compare_column_values(merged_filtered, merged_controle, \"positie\")"
   ]
  },
  {
   "cell_type": "code",
   "execution_count": 22,
   "id": "4b7d82f3",
   "metadata": {},
   "outputs": [
    {
     "name": "stdout",
     "output_type": "stream",
     "text": [
      "Percentage same value: 98.15%\n",
      "Number of matching values: 53 out of 54\n",
      "\n",
      "Mismatched rows:\n",
      "\n",
      "Row 17:\n",
      "df1: {'level_0': 32, 'index': 413, 'wedstrijd_id': 160, 'datum': Timestamp('2024-10-29 00:00:00'), 'niveau': 4, 'uitslag': '2v5', 'corners_uitslag': '0v1', 'klassement_uitslag': '6v7', 'schepcorner_id': 413.0, 'ploegnaam': 'red star ghent', 'ervaring_schepper': 5.0, 'ervaring_kopper': 5.0, 'ervaring_duo': 5.0, 'is_thuisploeg': 1.0, 'kwart': 2.0, 'is_schepper_bank': 0.0, 'is_kopper_bank': 0.0, 'score_voor': '0v1', 'schepper_pos_rechts': 1.0, 'positie': 5.0, 'kop_verplaatsen_achter': 1.0, 'kop_veel_verplaatsen': 0.0, 'kop_hor_verplaatsen': 0.0, 'goal': 0.0}\n",
      "df2: {'index': 17, 'wedstrijd_id': 8, 'datum': Timestamp('2024-10-29 00:00:00'), 'niveau': 4, 'uitslag': '2v5', 'corners_uitslag': '0v1', 'klassement_uitslag': nan, 'schepcorner_id': 18, 'ploegnaam': 'red star ghent', 'ervaring_schepper': nan, 'ervaring_kopper': nan, 'ervaring_duo': nan, 'is_thuisploeg': 1, 'kwart': 2, 'is_schepper_bank': 0, 'is_kopper_bank': 0, 'score_voor': '0v1', 'schepper_pos_rechts': 1, 'positie': 5, 'kop_verplaatsen_achter': 0, 'kop_veel_verplaatsen': 0, 'kop_hor_verplaatsen': 1, 'goal': 0}\n"
     ]
    }
   ],
   "source": [
    "compare_column_values(merged_filtered, merged_controle, \"kop_verplaatsen_achter\")"
   ]
  },
  {
   "cell_type": "code",
   "execution_count": 23,
   "id": "56da65b5",
   "metadata": {},
   "outputs": [
    {
     "name": "stdout",
     "output_type": "stream",
     "text": [
      "Percentage same value: 87.04%\n",
      "Number of matching values: 47 out of 54\n",
      "\n",
      "Mismatched rows:\n",
      "\n",
      "Row 8:\n",
      "df1: {'level_0': 20, 'index': 274, 'wedstrijd_id': 106, 'datum': Timestamp('2024-09-11 00:00:00'), 'niveau': 1, 'uitslag': '6v4', 'corners_uitslag': nan, 'klassement_uitslag': nan, 'schepcorner_id': 274.0, 'ploegnaam': 'girafkes', 'ervaring_schepper': nan, 'ervaring_kopper': nan, 'ervaring_duo': nan, 'is_thuisploeg': 0.0, 'kwart': 3.0, 'is_schepper_bank': 1.0, 'is_kopper_bank': 0.0, 'score_voor': '2v2', 'schepper_pos_rechts': 1.0, 'positie': 5.0, 'kop_verplaatsen_achter': 0.0, 'kop_veel_verplaatsen': 1.0, 'kop_hor_verplaatsen': 0.0, 'goal': 0.0}\n",
      "df2: {'index': 8, 'wedstrijd_id': 4, 'datum': Timestamp('2024-09-11 00:00:00'), 'niveau': 1, 'uitslag': '6v4', 'corners_uitslag': '3v1', 'klassement_uitslag': nan, 'schepcorner_id': 9, 'ploegnaam': 'girafkes', 'ervaring_schepper': nan, 'ervaring_kopper': nan, 'ervaring_duo': nan, 'is_thuisploeg': 0, 'kwart': 3, 'is_schepper_bank': 1, 'is_kopper_bank': 0, 'score_voor': '2v2', 'schepper_pos_rechts': 1, 'positie': 5, 'kop_verplaatsen_achter': 0, 'kop_veel_verplaatsen': 0, 'kop_hor_verplaatsen': 0, 'goal': 0}\n",
      "\n",
      "Row 10:\n",
      "df1: {'level_0': 22, 'index': 276, 'wedstrijd_id': 107, 'datum': Timestamp('2024-09-11 00:00:00'), 'niveau': 3, 'uitslag': '4v5', 'corners_uitslag': nan, 'klassement_uitslag': nan, 'schepcorner_id': 276.0, 'ploegnaam': 'cercle sportif gent', 'ervaring_schepper': 5.0, 'ervaring_kopper': 3.0, 'ervaring_duo': 3.0, 'is_thuisploeg': 0.0, 'kwart': 4.0, 'is_schepper_bank': 0.0, 'is_kopper_bank': 0.0, 'score_voor': '4v4', 'schepper_pos_rechts': 1.0, 'positie': 5.0, 'kop_verplaatsen_achter': 0.0, 'kop_veel_verplaatsen': 1.0, 'kop_hor_verplaatsen': 0.0, 'goal': 0.0}\n",
      "df2: {'index': 10, 'wedstrijd_id': 5, 'datum': Timestamp('2024-09-11 00:00:00'), 'niveau': 3, 'uitslag': '4v5', 'corners_uitslag': '3v0', 'klassement_uitslag': nan, 'schepcorner_id': 11, 'ploegnaam': 'cercle sportif gent', 'ervaring_schepper': nan, 'ervaring_kopper': nan, 'ervaring_duo': nan, 'is_thuisploeg': 0, 'kwart': 4, 'is_schepper_bank': 0, 'is_kopper_bank': 0, 'score_voor': '4v4', 'schepper_pos_rechts': 1, 'positie': 5, 'kop_verplaatsen_achter': 0, 'kop_veel_verplaatsen': 0, 'kop_hor_verplaatsen': 0, 'goal': 0}\n",
      "\n",
      "Row 15:\n",
      "df1: {'level_0': 30, 'index': 411, 'wedstrijd_id': 159, 'datum': Timestamp('2024-10-22 00:00:00'), 'niveau': 4, 'uitslag': '3v7', 'corners_uitslag': '0v0', 'klassement_uitslag': '3v12', 'schepcorner_id': 411.0, 'ploegnaam': 'paradijsvogels', 'ervaring_schepper': 5.0, 'ervaring_kopper': 5.0, 'ervaring_duo': 5.0, 'is_thuisploeg': 0.0, 'kwart': 3.0, 'is_schepper_bank': 0.0, 'is_kopper_bank': 0.0, 'score_voor': '2v2', 'schepper_pos_rechts': 1.0, 'positie': 4.0, 'kop_verplaatsen_achter': 0.0, 'kop_veel_verplaatsen': 1.0, 'kop_hor_verplaatsen': 1.0, 'goal': 0.0}\n",
      "df2: {'index': 15, 'wedstrijd_id': 7, 'datum': Timestamp('2024-10-22 00:00:00'), 'niveau': 4, 'uitslag': '3v7', 'corners_uitslag': '0v0', 'klassement_uitslag': nan, 'schepcorner_id': 16, 'ploegnaam': 'paradijsvogels', 'ervaring_schepper': nan, 'ervaring_kopper': nan, 'ervaring_duo': nan, 'is_thuisploeg': 0, 'kwart': 3, 'is_schepper_bank': 0, 'is_kopper_bank': 0, 'score_voor': '2v2', 'schepper_pos_rechts': 1, 'positie': 4, 'kop_verplaatsen_achter': 0, 'kop_veel_verplaatsen': 0, 'kop_hor_verplaatsen': 1, 'goal': 0}\n",
      "\n",
      "Row 37:\n",
      "df1: {'level_0': 52, 'index': 442, 'wedstrijd_id': 171, 'datum': Timestamp('2024-12-12 00:00:00'), 'niveau': 2, 'uitslag': '3v10', 'corners_uitslag': '2v0', 'klassement_uitslag': '14v11', 'schepcorner_id': 442.0, 'ploegnaam': 'spectex', 'ervaring_schepper': nan, 'ervaring_kopper': nan, 'ervaring_duo': nan, 'is_thuisploeg': 0.0, 'kwart': 4.0, 'is_schepper_bank': 1.0, 'is_kopper_bank': 0.0, 'score_voor': '3v9', 'schepper_pos_rechts': 1.0, 'positie': 5.0, 'kop_verplaatsen_achter': 0.0, 'kop_veel_verplaatsen': 1.0, 'kop_hor_verplaatsen': 0.0, 'goal': 1.0}\n",
      "df2: {'index': 37, 'wedstrijd_id': 14, 'datum': Timestamp('2024-12-12 00:00:00'), 'niveau': 2, 'uitslag': '3v10', 'corners_uitslag': '2v0', 'klassement_uitslag': nan, 'schepcorner_id': 38, 'ploegnaam': 'spectex', 'ervaring_schepper': nan, 'ervaring_kopper': nan, 'ervaring_duo': nan, 'is_thuisploeg': 0, 'kwart': 4, 'is_schepper_bank': 1, 'is_kopper_bank': 0, 'score_voor': '3v9', 'schepper_pos_rechts': 1, 'positie': 5, 'kop_verplaatsen_achter': 0, 'kop_veel_verplaatsen': 0, 'kop_hor_verplaatsen': 1, 'goal': 1}\n",
      "\n",
      "Row 40:\n",
      "df1: {'level_0': 24, 'index': 356, 'wedstrijd_id': 138, 'datum': Timestamp('2024-12-13 00:00:00'), 'niveau': 'n1', 'uitslag': '7v3', 'corners_uitslag': '0v3', 'klassement_uitslag': '9v10', 'schepcorner_id': 356.0, 'ploegnaam': 'mini sint gillis waas', 'ervaring_schepper': 5.0, 'ervaring_kopper': 5.0, 'ervaring_duo': 5.0, 'is_thuisploeg': 0.0, 'kwart': 3.0, 'is_schepper_bank': 0.0, 'is_kopper_bank': 0.0, 'score_voor': '3v2', 'schepper_pos_rechts': 1.0, 'positie': 5.0, 'kop_verplaatsen_achter': 0.0, 'kop_veel_verplaatsen': 0.0, 'kop_hor_verplaatsen': 0.0, 'goal': 1.0}\n",
      "df2: {'index': 40, 'wedstrijd_id': 16, 'datum': Timestamp('2024-12-13 00:00:00'), 'niveau': 'n1', 'uitslag': '7v3', 'corners_uitslag': '0v3', 'klassement_uitslag': nan, 'schepcorner_id': 41, 'ploegnaam': 'sint gillis waas', 'ervaring_schepper': nan, 'ervaring_kopper': nan, 'ervaring_duo': nan, 'is_thuisploeg': 0, 'kwart': 3, 'is_schepper_bank': 0, 'is_kopper_bank': 0, 'score_voor': '3v2', 'schepper_pos_rechts': 1, 'positie': 5, 'kop_verplaatsen_achter': 0, 'kop_veel_verplaatsen': 1, 'kop_hor_verplaatsen': 1, 'goal': 1}\n",
      "\n",
      "Row 43:\n",
      "df1: {'level_0': 27, 'index': 362, 'wedstrijd_id': 140, 'datum': Timestamp('2024-12-13 00:00:00'), 'niveau': 'n4', 'uitslag': '11v8', 'corners_uitslag': '3v2', 'klassement_uitslag': '7v1', 'schepcorner_id': 362.0, 'ploegnaam': 'the oliver boys b', 'ervaring_schepper': 5.0, 'ervaring_kopper': 5.0, 'ervaring_duo': 5.0, 'is_thuisploeg': 1.0, 'kwart': 3.0, 'is_schepper_bank': 0.0, 'is_kopper_bank': 0.0, 'score_voor': '4v4', 'schepper_pos_rechts': 1.0, 'positie': 5.0, 'kop_verplaatsen_achter': 0.0, 'kop_veel_verplaatsen': 1.0, 'kop_hor_verplaatsen': 1.0, 'goal': 0.0}\n",
      "df2: {'index': 43, 'wedstrijd_id': 17, 'datum': Timestamp('2024-12-13 00:00:00'), 'niveau': 'n4', 'uitslag': '11v8', 'corners_uitslag': '3v2', 'klassement_uitslag': nan, 'schepcorner_id': 44, 'ploegnaam': 'the oliver boys b', 'ervaring_schepper': nan, 'ervaring_kopper': nan, 'ervaring_duo': nan, 'is_thuisploeg': 1, 'kwart': 3, 'is_schepper_bank': 0, 'is_kopper_bank': 0, 'score_voor': '4v4', 'schepper_pos_rechts': 1, 'positie': 5, 'kop_verplaatsen_achter': 0, 'kop_veel_verplaatsen': 0, 'kop_hor_verplaatsen': 1, 'goal': 0}\n",
      "\n",
      "Row 49:\n",
      "df1: {'level_0': 9, 'index': 81, 'wedstrijd_id': 33, 'datum': Timestamp('2025-03-27 00:00:00'), 'niveau': 4, 'uitslag': '2v4', 'corners_uitslag': '2v2', 'klassement_uitslag': '6v4', 'schepcorner_id': 82.0, 'ploegnaam': 'fc spitbulls', 'ervaring_schepper': 4.0, 'ervaring_kopper': 4.0, 'ervaring_duo': 4.0, 'is_thuisploeg': 0.0, 'kwart': 3.0, 'is_schepper_bank': 0.0, 'is_kopper_bank': 0.0, 'score_voor': '2v2', 'schepper_pos_rechts': 0.0, 'positie': 5.0, 'kop_verplaatsen_achter': 1.0, 'kop_veel_verplaatsen': 1.0, 'kop_hor_verplaatsen': 1.0, 'goal': 0.0}\n",
      "df2: {'index': 53, 'wedstrijd_id': 20, 'datum': Timestamp('2025-03-27 00:00:00'), 'niveau': 4, 'uitslag': '2v4', 'corners_uitslag': '2v2', 'klassement_uitslag': nan, 'schepcorner_id': 54, 'ploegnaam': 'popol and the defenders of fun', 'ervaring_schepper': nan, 'ervaring_kopper': nan, 'ervaring_duo': nan, 'is_thuisploeg': 1, 'kwart': 3, 'is_schepper_bank': 0, 'is_kopper_bank': 0, 'score_voor': '2v2', 'schepper_pos_rechts': 0, 'positie': 5, 'kop_verplaatsen_achter': 1, 'kop_veel_verplaatsen': 0, 'kop_hor_verplaatsen': 1, 'goal': 0}\n"
     ]
    }
   ],
   "source": [
    "compare_column_values(merged_filtered, merged_controle, \"kop_veel_verplaatsen\")"
   ]
  },
  {
   "cell_type": "code",
   "execution_count": 24,
   "id": "38b097a4",
   "metadata": {},
   "outputs": [
    {
     "name": "stdout",
     "output_type": "stream",
     "text": [
      "Percentage same value: 90.74%\n",
      "Number of matching values: 49 out of 54\n",
      "\n",
      "Mismatched rows:\n",
      "\n",
      "Row 17:\n",
      "df1: {'level_0': 32, 'index': 413, 'wedstrijd_id': 160, 'datum': Timestamp('2024-10-29 00:00:00'), 'niveau': 4, 'uitslag': '2v5', 'corners_uitslag': '0v1', 'klassement_uitslag': '6v7', 'schepcorner_id': 413.0, 'ploegnaam': 'red star ghent', 'ervaring_schepper': 5.0, 'ervaring_kopper': 5.0, 'ervaring_duo': 5.0, 'is_thuisploeg': 1.0, 'kwart': 2.0, 'is_schepper_bank': 0.0, 'is_kopper_bank': 0.0, 'score_voor': '0v1', 'schepper_pos_rechts': 1.0, 'positie': 5.0, 'kop_verplaatsen_achter': 1.0, 'kop_veel_verplaatsen': 0.0, 'kop_hor_verplaatsen': 0.0, 'goal': 0.0}\n",
      "df2: {'index': 17, 'wedstrijd_id': 8, 'datum': Timestamp('2024-10-29 00:00:00'), 'niveau': 4, 'uitslag': '2v5', 'corners_uitslag': '0v1', 'klassement_uitslag': nan, 'schepcorner_id': 18, 'ploegnaam': 'red star ghent', 'ervaring_schepper': nan, 'ervaring_kopper': nan, 'ervaring_duo': nan, 'is_thuisploeg': 1, 'kwart': 2, 'is_schepper_bank': 0, 'is_kopper_bank': 0, 'score_voor': '0v1', 'schepper_pos_rechts': 1, 'positie': 5, 'kop_verplaatsen_achter': 0, 'kop_veel_verplaatsen': 0, 'kop_hor_verplaatsen': 1, 'goal': 0}\n",
      "\n",
      "Row 24:\n",
      "df1: {'level_0': 37, 'index': 422, 'wedstrijd_id': 165, 'datum': Timestamp('2024-11-19 00:00:00'), 'niveau': 4, 'uitslag': '3v4', 'corners_uitslag': '1v1', 'klassement_uitslag': '3v5', 'schepcorner_id': 422.0, 'ploegnaam': 'harde kristas', 'ervaring_schepper': 5.0, 'ervaring_kopper': 5.0, 'ervaring_duo': 5.0, 'is_thuisploeg': 0.0, 'kwart': 2.0, 'is_schepper_bank': 0.0, 'is_kopper_bank': 0.0, 'score_voor': '1v1', 'schepper_pos_rechts': 1.0, 'positie': 5.0, 'kop_verplaatsen_achter': 1.0, 'kop_veel_verplaatsen': 0.0, 'kop_hor_verplaatsen': 0.0, 'goal': 0.0}\n",
      "df2: {'index': 22, 'wedstrijd_id': 10, 'datum': Timestamp('2024-11-19 00:00:00'), 'niveau': 4, 'uitslag': '3v4', 'corners_uitslag': '1v1', 'klassement_uitslag': nan, 'schepcorner_id': 23, 'ploegnaam': 'harde kristas', 'ervaring_schepper': nan, 'ervaring_kopper': nan, 'ervaring_duo': nan, 'is_thuisploeg': 0, 'kwart': 2, 'is_schepper_bank': 0, 'is_kopper_bank': 0, 'score_voor': '1v1', 'schepper_pos_rechts': 1, 'positie': 5, 'kop_verplaatsen_achter': 1, 'kop_veel_verplaatsen': 0, 'kop_hor_verplaatsen': 1, 'goal': 0}\n",
      "\n",
      "Row 32:\n",
      "df1: {'level_0': 47, 'index': 437, 'wedstrijd_id': 170, 'datum': Timestamp('2024-12-06 00:00:00'), 'niveau': 4, 'uitslag': '4v1', 'corners_uitslag': '1v1', 'klassement_uitslag': '6v7', 'schepcorner_id': 437.0, 'ploegnaam': 'black adders', 'ervaring_schepper': 3.0, 'ervaring_kopper': 2.0, 'ervaring_duo': 2.0, 'is_thuisploeg': 0.0, 'kwart': 4.0, 'is_schepper_bank': 0.0, 'is_kopper_bank': 0.0, 'score_voor': '4v1', 'schepper_pos_rechts': 0.0, 'positie': 5.0, 'kop_verplaatsen_achter': 0.0, 'kop_veel_verplaatsen': 0.0, 'kop_hor_verplaatsen': 0.0, 'goal': 0.0}\n",
      "df2: {'index': 32, 'wedstrijd_id': 13, 'datum': Timestamp('2024-12-06 00:00:00'), 'niveau': 4, 'uitslag': '4v1', 'corners_uitslag': '1v1', 'klassement_uitslag': nan, 'schepcorner_id': 33, 'ploegnaam': 'black adders', 'ervaring_schepper': nan, 'ervaring_kopper': nan, 'ervaring_duo': nan, 'is_thuisploeg': 0, 'kwart': 4, 'is_schepper_bank': 0, 'is_kopper_bank': 0, 'score_voor': '4v1', 'schepper_pos_rechts': 0, 'positie': 5, 'kop_verplaatsen_achter': 0, 'kop_veel_verplaatsen': 0, 'kop_hor_verplaatsen': 1, 'goal': 0}\n",
      "\n",
      "Row 37:\n",
      "df1: {'level_0': 52, 'index': 442, 'wedstrijd_id': 171, 'datum': Timestamp('2024-12-12 00:00:00'), 'niveau': 2, 'uitslag': '3v10', 'corners_uitslag': '2v0', 'klassement_uitslag': '14v11', 'schepcorner_id': 442.0, 'ploegnaam': 'spectex', 'ervaring_schepper': nan, 'ervaring_kopper': nan, 'ervaring_duo': nan, 'is_thuisploeg': 0.0, 'kwart': 4.0, 'is_schepper_bank': 1.0, 'is_kopper_bank': 0.0, 'score_voor': '3v9', 'schepper_pos_rechts': 1.0, 'positie': 5.0, 'kop_verplaatsen_achter': 0.0, 'kop_veel_verplaatsen': 1.0, 'kop_hor_verplaatsen': 0.0, 'goal': 1.0}\n",
      "df2: {'index': 37, 'wedstrijd_id': 14, 'datum': Timestamp('2024-12-12 00:00:00'), 'niveau': 2, 'uitslag': '3v10', 'corners_uitslag': '2v0', 'klassement_uitslag': nan, 'schepcorner_id': 38, 'ploegnaam': 'spectex', 'ervaring_schepper': nan, 'ervaring_kopper': nan, 'ervaring_duo': nan, 'is_thuisploeg': 0, 'kwart': 4, 'is_schepper_bank': 1, 'is_kopper_bank': 0, 'score_voor': '3v9', 'schepper_pos_rechts': 1, 'positie': 5, 'kop_verplaatsen_achter': 0, 'kop_veel_verplaatsen': 0, 'kop_hor_verplaatsen': 1, 'goal': 1}\n",
      "\n",
      "Row 40:\n",
      "df1: {'level_0': 24, 'index': 356, 'wedstrijd_id': 138, 'datum': Timestamp('2024-12-13 00:00:00'), 'niveau': 'n1', 'uitslag': '7v3', 'corners_uitslag': '0v3', 'klassement_uitslag': '9v10', 'schepcorner_id': 356.0, 'ploegnaam': 'mini sint gillis waas', 'ervaring_schepper': 5.0, 'ervaring_kopper': 5.0, 'ervaring_duo': 5.0, 'is_thuisploeg': 0.0, 'kwart': 3.0, 'is_schepper_bank': 0.0, 'is_kopper_bank': 0.0, 'score_voor': '3v2', 'schepper_pos_rechts': 1.0, 'positie': 5.0, 'kop_verplaatsen_achter': 0.0, 'kop_veel_verplaatsen': 0.0, 'kop_hor_verplaatsen': 0.0, 'goal': 1.0}\n",
      "df2: {'index': 40, 'wedstrijd_id': 16, 'datum': Timestamp('2024-12-13 00:00:00'), 'niveau': 'n1', 'uitslag': '7v3', 'corners_uitslag': '0v3', 'klassement_uitslag': nan, 'schepcorner_id': 41, 'ploegnaam': 'sint gillis waas', 'ervaring_schepper': nan, 'ervaring_kopper': nan, 'ervaring_duo': nan, 'is_thuisploeg': 0, 'kwart': 3, 'is_schepper_bank': 0, 'is_kopper_bank': 0, 'score_voor': '3v2', 'schepper_pos_rechts': 1, 'positie': 5, 'kop_verplaatsen_achter': 0, 'kop_veel_verplaatsen': 1, 'kop_hor_verplaatsen': 1, 'goal': 1}\n"
     ]
    }
   ],
   "source": [
    "compare_column_values(merged_filtered, merged_controle, \"kop_hor_verplaatsen\")"
   ]
  },
  {
   "cell_type": "code",
   "execution_count": 25,
   "id": "0693314c",
   "metadata": {},
   "outputs": [
    {
     "name": "stdout",
     "output_type": "stream",
     "text": [
      "Percentage same value: 100.00%\n",
      "Number of matching values: 54 out of 54\n"
     ]
    }
   ],
   "source": [
    "compare_column_values(merged_filtered, merged_controle, \"goal\")"
   ]
  },
  {
   "cell_type": "markdown",
   "id": "db37558e",
   "metadata": {},
   "source": [
    "### Cohen's kappa\n",
    "most of the times used to describe raters agreement"
   ]
  },
  {
   "cell_type": "code",
   "execution_count": 26,
   "id": "dbdf5f20",
   "metadata": {},
   "outputs": [],
   "source": [
    "from sklearn.metrics import cohen_kappa_score"
   ]
  },
  {
   "cell_type": "code",
   "execution_count": 27,
   "id": "2dcf0430",
   "metadata": {},
   "outputs": [
    {
     "name": "stdout",
     "output_type": "stream",
     "text": [
      "3\n",
      "0\n"
     ]
    }
   ],
   "source": [
    "print(merged_filtered[\"corners_uitslag\"].isna().sum())\n",
    "print(merged_controle[\"corners_uitslag\"].isna().sum())"
   ]
  },
  {
   "cell_type": "code",
   "execution_count": 28,
   "id": "debc6a96",
   "metadata": {},
   "outputs": [],
   "source": [
    "merged_filtered[\"corners_uitslag\"] = merged_filtered[\"corners_uitslag\"].fillna(\"NA\")"
   ]
  },
  {
   "cell_type": "code",
   "execution_count": 33,
   "id": "61d5d6bf",
   "metadata": {},
   "outputs": [
    {
     "name": "stdout",
     "output_type": "stream",
     "text": [
      "0\n"
     ]
    },
    {
     "data": {
      "text/plain": [
       "0"
      ]
     },
     "execution_count": 33,
     "metadata": {},
     "output_type": "execute_result"
    }
   ],
   "source": [
    "print(merged_filtered[\"niveau\"].isna().sum())\n",
    "merged_controle[\"niveau\"].isna().sum()"
   ]
  },
  {
   "cell_type": "code",
   "execution_count": 34,
   "id": "e1a2fe6d",
   "metadata": {},
   "outputs": [
    {
     "data": {
      "text/plain": [
       "0      1\n",
       "1      1\n",
       "2      1\n",
       "3      3\n",
       "4      3\n",
       "5      4\n",
       "6      4\n",
       "7      4\n",
       "8      1\n",
       "9      3\n",
       "10     3\n",
       "11     4\n",
       "12     4\n",
       "13     4\n",
       "14     4\n",
       "15     4\n",
       "16     4\n",
       "17     4\n",
       "18     4\n",
       "19     3\n",
       "20     3\n",
       "21     3\n",
       "22     2\n",
       "23     2\n",
       "24     4\n",
       "25     4\n",
       "26     4\n",
       "27     3\n",
       "28     3\n",
       "29     3\n",
       "30     4\n",
       "31     4\n",
       "32     4\n",
       "33     2\n",
       "34     2\n",
       "35     2\n",
       "36     2\n",
       "37     2\n",
       "38     4\n",
       "39    n1\n",
       "40    n1\n",
       "41    n1\n",
       "42    n1\n",
       "43    n4\n",
       "44    n4\n",
       "45     4\n",
       "46     4\n",
       "47     4\n",
       "48     4\n",
       "49     4\n",
       "50     4\n",
       "51     4\n",
       "52     4\n",
       "53     4\n",
       "Name: niveau, dtype: object"
      ]
     },
     "execution_count": 34,
     "metadata": {},
     "output_type": "execute_result"
    }
   ],
   "source": [
    "merged_filtered['niveau']"
   ]
  },
  {
   "cell_type": "code",
   "execution_count": 35,
   "id": "bc68063c",
   "metadata": {},
   "outputs": [
    {
     "data": {
      "text/plain": [
       "0      1\n",
       "1      1\n",
       "2      1\n",
       "3      3\n",
       "4      3\n",
       "5      4\n",
       "6      4\n",
       "7      4\n",
       "8      1\n",
       "9      3\n",
       "10     3\n",
       "11     4\n",
       "12     4\n",
       "13     4\n",
       "14     4\n",
       "15     4\n",
       "16     4\n",
       "17     4\n",
       "18     4\n",
       "19     3\n",
       "20     3\n",
       "21     3\n",
       "22     2\n",
       "23     2\n",
       "24     4\n",
       "25     4\n",
       "26     4\n",
       "27     3\n",
       "28     3\n",
       "29     3\n",
       "30     4\n",
       "31     4\n",
       "32     4\n",
       "33     2\n",
       "34     2\n",
       "35     2\n",
       "36     2\n",
       "37     2\n",
       "38     4\n",
       "39    n1\n",
       "40    n1\n",
       "41    n1\n",
       "42    n1\n",
       "43    n4\n",
       "44    n4\n",
       "45     4\n",
       "46     4\n",
       "47     4\n",
       "48     4\n",
       "49     4\n",
       "50     4\n",
       "51     4\n",
       "52     4\n",
       "53     4\n",
       "Name: niveau, dtype: object"
      ]
     },
     "execution_count": 35,
     "metadata": {},
     "output_type": "execute_result"
    }
   ],
   "source": [
    "merged_controle[\"niveau\"]"
   ]
  },
  {
   "cell_type": "code",
   "execution_count": 37,
   "id": "de326826",
   "metadata": {},
   "outputs": [],
   "source": [
    "niveau1 = merged_filtered[\"niveau\"].astype(str).str.strip()\n",
    "niveau2 = merged_controle[\"niveau\"].astype(str).str.strip()\n",
    "\n",
    "# Reset index om uitlijning zeker te stellen\n",
    "niveau1 = niveau1.reset_index(drop=True)\n",
    "niveau2 = niveau2.reset_index(drop=True)\n",
    "\n",
    "# Safety check\n",
    "assert len(niveau1) == len(niveau2)\n"
   ]
  },
  {
   "cell_type": "code",
   "execution_count": 40,
   "id": "938717bc",
   "metadata": {},
   "outputs": [
    {
     "name": "stdout",
     "output_type": "stream",
     "text": [
      "Cohen's kappa score voor niveau 1.0\n",
      "Cohen's kappa score voor uitslag 1.0\n",
      "Cohen's kappa score voor corners uitslag 0.8341650671785029\n",
      "Cohen's kappa score voor kwart 0.9731075697211156\n",
      "Cohen's kappa score voor is_schepper_bank 0.9226361031518625\n",
      "Cohen's kappa score voor is_kopper_bank 1.0\n",
      "Cohen's kappa score voor score_voor 0.9805124503789245\n",
      "Cohen's kappa score voor schepper_pos_rechts 1.0\n",
      "Cohen's kappa score voor positie 0.7244897959183674\n",
      "Cohen's kappa score voor kop_verplaatsen_achter 0.8789237668161435\n",
      "Cohen's kappa score voor kop_veel_verplaatsen 0.591792656587473\n",
      "Cohen's kappa score voor kop_hor_verplaatsen 0.7761194029850746\n",
      "Cohen's kappa score voor goal 1.0\n"
     ]
    }
   ],
   "source": [
    "print(\"Cohen's kappa score voor niveau\", cohen_kappa_score(niveau1, niveau2))\n",
    "print(\"Cohen's kappa score voor uitslag\", cohen_kappa_score(merged_filtered[\"uitslag\"], merged_controle[\"uitslag\"]))\n",
    "print(\"Cohen's kappa score voor corners uitslag\", cohen_kappa_score(merged_filtered[\"corners_uitslag\"], merged_controle[\"corners_uitslag\"]))\n",
    "print(\"Cohen's kappa score voor kwart\", cohen_kappa_score(merged_filtered[\"kwart\"], merged_controle[\"kwart\"]))\n",
    "print(\"Cohen's kappa score voor is_schepper_bank\", cohen_kappa_score(merged_filtered[\"is_schepper_bank\"], merged_controle[\"is_schepper_bank\"]))\n",
    "print(\"Cohen's kappa score voor is_kopper_bank\", cohen_kappa_score(merged_filtered[\"is_kopper_bank\"], merged_controle[\"is_kopper_bank\"]))\n",
    "print(\"Cohen's kappa score voor score_voor\", cohen_kappa_score(merged_filtered[\"score_voor\"], merged_controle[\"score_voor\"]))\n",
    "print(\"Cohen's kappa score voor schepper_pos_rechts\", cohen_kappa_score(merged_filtered[\"schepper_pos_rechts\"], merged_controle[\"schepper_pos_rechts\"]))\n",
    "print(\"Cohen's kappa score voor positie\", cohen_kappa_score(merged_filtered[\"positie\"], merged_controle[\"positie\"]))\n",
    "print(\"Cohen's kappa score voor kop_verplaatsen_achter\", cohen_kappa_score(merged_filtered[\"kop_verplaatsen_achter\"], merged_controle[\"kop_verplaatsen_achter\"]))\n",
    "print(\"Cohen's kappa score voor kop_veel_verplaatsen\", cohen_kappa_score(merged_filtered[\"kop_veel_verplaatsen\"], merged_controle[\"kop_veel_verplaatsen\"]))\n",
    "print(\"Cohen's kappa score voor kop_hor_verplaatsen\", cohen_kappa_score(merged_filtered[\"kop_hor_verplaatsen\"], merged_controle[\"kop_hor_verplaatsen\"]))\n",
    "print(\"Cohen's kappa score voor goal\", cohen_kappa_score(merged_filtered[\"goal\"], merged_controle[\"goal\"]))"
   ]
  }
 ],
 "metadata": {
  "kernelspec": {
   "display_name": "Python 3",
   "language": "python",
   "name": "python3"
  },
  "language_info": {
   "codemirror_mode": {
    "name": "ipython",
    "version": 3
   },
   "file_extension": ".py",
   "mimetype": "text/x-python",
   "name": "python",
   "nbconvert_exporter": "python",
   "pygments_lexer": "ipython3",
   "version": "3.11.9"
  }
 },
 "nbformat": 4,
 "nbformat_minor": 5
}
